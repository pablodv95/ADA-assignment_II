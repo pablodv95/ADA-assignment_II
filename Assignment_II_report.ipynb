{
 "cells": [
  {
   "cell_type": "code",
   "execution_count": 134,
   "metadata": {},
   "outputs": [],
   "source": [
    "# Import libraries\n",
    "import pandas as pd\n",
    "import numpy as np\n",
    "import matplotlib.pyplot as plt\n",
    "\n",
    "from sklearn import metrics, preprocessing\n",
    "from sklearn.model_selection import train_test_split\n",
    "from sklearn.svm import SVC\n",
    "from sklearn.metrics import classification_report, confusion_matrix, accuracy_score\n",
    "from sklearn.decomposition import PCA, KernelPCA\n",
    "from sklearn.tree import DecisionTreeRegressor, DecisionTreeClassifier\n",
    "from sklearn.ensemble import RandomForestClassifier, RandomForestRegressor\n",
    "from sklearn.preprocessing import StandardScaler\n",
    "from sklearn.cluster import KMeans\n",
    "\n",
    "%matplotlib inline"
   ]
  },
  {
   "cell_type": "markdown",
   "metadata": {},
   "source": [
    "# 1- Dividing wines into three classes\n",
    "\n",
    "## 1.1- Exploratory data analysis\n",
    "\n",
    "### 1.1.1- Red wine"
   ]
  },
  {
   "cell_type": "code",
   "execution_count": 3,
   "metadata": {},
   "outputs": [
    {
     "data": {
      "text/plain": [
       "(1599, 12)"
      ]
     },
     "execution_count": 3,
     "metadata": {},
     "output_type": "execute_result"
    }
   ],
   "source": [
    "# Read data with read_csv method of the pandas library.\n",
    "bankdata_red = pd.read_csv(\"data/new_format/winequality-red-classes.csv\", sep = ',')\n",
    "# see the rows and columns of the data\n",
    "bankdata_red.shape"
   ]
  },
  {
   "cell_type": "code",
   "execution_count": 4,
   "metadata": {
    "scrolled": true
   },
   "outputs": [
    {
     "data": {
      "text/html": [
       "<div>\n",
       "<style scoped>\n",
       "    .dataframe tbody tr th:only-of-type {\n",
       "        vertical-align: middle;\n",
       "    }\n",
       "\n",
       "    .dataframe tbody tr th {\n",
       "        vertical-align: top;\n",
       "    }\n",
       "\n",
       "    .dataframe thead th {\n",
       "        text-align: right;\n",
       "    }\n",
       "</style>\n",
       "<table border=\"1\" class=\"dataframe\">\n",
       "  <thead>\n",
       "    <tr style=\"text-align: right;\">\n",
       "      <th></th>\n",
       "      <th>fixed acidity</th>\n",
       "      <th>volatile acidity</th>\n",
       "      <th>citric acid</th>\n",
       "      <th>residual sugar</th>\n",
       "      <th>chlorides</th>\n",
       "      <th>free sulfur dioxide</th>\n",
       "      <th>total sulfur dioxide</th>\n",
       "      <th>density</th>\n",
       "      <th>pH</th>\n",
       "      <th>sulphates</th>\n",
       "      <th>alcohol</th>\n",
       "      <th>class</th>\n",
       "    </tr>\n",
       "  </thead>\n",
       "  <tbody>\n",
       "    <tr>\n",
       "      <th>0</th>\n",
       "      <td>7.4</td>\n",
       "      <td>0.70</td>\n",
       "      <td>0.00</td>\n",
       "      <td>1.9</td>\n",
       "      <td>0.076</td>\n",
       "      <td>11.0</td>\n",
       "      <td>34.0</td>\n",
       "      <td>0.9978</td>\n",
       "      <td>3.51</td>\n",
       "      <td>0.56</td>\n",
       "      <td>9.4</td>\n",
       "      <td>medium</td>\n",
       "    </tr>\n",
       "    <tr>\n",
       "      <th>1</th>\n",
       "      <td>7.8</td>\n",
       "      <td>0.88</td>\n",
       "      <td>0.00</td>\n",
       "      <td>2.6</td>\n",
       "      <td>0.098</td>\n",
       "      <td>25.0</td>\n",
       "      <td>67.0</td>\n",
       "      <td>0.9968</td>\n",
       "      <td>3.20</td>\n",
       "      <td>0.68</td>\n",
       "      <td>9.8</td>\n",
       "      <td>medium</td>\n",
       "    </tr>\n",
       "    <tr>\n",
       "      <th>2</th>\n",
       "      <td>7.8</td>\n",
       "      <td>0.76</td>\n",
       "      <td>0.04</td>\n",
       "      <td>2.3</td>\n",
       "      <td>0.092</td>\n",
       "      <td>15.0</td>\n",
       "      <td>54.0</td>\n",
       "      <td>0.9970</td>\n",
       "      <td>3.26</td>\n",
       "      <td>0.65</td>\n",
       "      <td>9.8</td>\n",
       "      <td>medium</td>\n",
       "    </tr>\n",
       "    <tr>\n",
       "      <th>3</th>\n",
       "      <td>11.2</td>\n",
       "      <td>0.28</td>\n",
       "      <td>0.56</td>\n",
       "      <td>1.9</td>\n",
       "      <td>0.075</td>\n",
       "      <td>17.0</td>\n",
       "      <td>60.0</td>\n",
       "      <td>0.9980</td>\n",
       "      <td>3.16</td>\n",
       "      <td>0.58</td>\n",
       "      <td>9.8</td>\n",
       "      <td>medium</td>\n",
       "    </tr>\n",
       "    <tr>\n",
       "      <th>4</th>\n",
       "      <td>7.4</td>\n",
       "      <td>0.70</td>\n",
       "      <td>0.00</td>\n",
       "      <td>1.9</td>\n",
       "      <td>0.076</td>\n",
       "      <td>11.0</td>\n",
       "      <td>34.0</td>\n",
       "      <td>0.9978</td>\n",
       "      <td>3.51</td>\n",
       "      <td>0.56</td>\n",
       "      <td>9.4</td>\n",
       "      <td>medium</td>\n",
       "    </tr>\n",
       "  </tbody>\n",
       "</table>\n",
       "</div>"
      ],
      "text/plain": [
       "   fixed acidity  volatile acidity  citric acid  residual sugar  chlorides  \\\n",
       "0            7.4              0.70         0.00             1.9      0.076   \n",
       "1            7.8              0.88         0.00             2.6      0.098   \n",
       "2            7.8              0.76         0.04             2.3      0.092   \n",
       "3           11.2              0.28         0.56             1.9      0.075   \n",
       "4            7.4              0.70         0.00             1.9      0.076   \n",
       "\n",
       "   free sulfur dioxide  total sulfur dioxide  density    pH  sulphates  \\\n",
       "0                 11.0                  34.0   0.9978  3.51       0.56   \n",
       "1                 25.0                  67.0   0.9968  3.20       0.68   \n",
       "2                 15.0                  54.0   0.9970  3.26       0.65   \n",
       "3                 17.0                  60.0   0.9980  3.16       0.58   \n",
       "4                 11.0                  34.0   0.9978  3.51       0.56   \n",
       "\n",
       "   alcohol   class  \n",
       "0      9.4  medium  \n",
       "1      9.8  medium  \n",
       "2      9.8  medium  \n",
       "3      9.8  medium  \n",
       "4      9.4  medium  "
      ]
     },
     "execution_count": 4,
     "metadata": {},
     "output_type": "execute_result"
    }
   ],
   "source": [
    "# get a feel of how our dataset actually looks\n",
    "bankdata_red.head()"
   ]
  },
  {
   "cell_type": "code",
   "execution_count": 5,
   "metadata": {},
   "outputs": [
    {
     "data": {
      "text/html": [
       "<div>\n",
       "<style scoped>\n",
       "    .dataframe tbody tr th:only-of-type {\n",
       "        vertical-align: middle;\n",
       "    }\n",
       "\n",
       "    .dataframe tbody tr th {\n",
       "        vertical-align: top;\n",
       "    }\n",
       "\n",
       "    .dataframe thead th {\n",
       "        text-align: right;\n",
       "    }\n",
       "</style>\n",
       "<table border=\"1\" class=\"dataframe\">\n",
       "  <thead>\n",
       "    <tr style=\"text-align: right;\">\n",
       "      <th></th>\n",
       "      <th>fixed acidity</th>\n",
       "      <th>volatile acidity</th>\n",
       "      <th>citric acid</th>\n",
       "      <th>residual sugar</th>\n",
       "      <th>chlorides</th>\n",
       "      <th>free sulfur dioxide</th>\n",
       "      <th>total sulfur dioxide</th>\n",
       "      <th>density</th>\n",
       "      <th>pH</th>\n",
       "      <th>sulphates</th>\n",
       "      <th>alcohol</th>\n",
       "    </tr>\n",
       "  </thead>\n",
       "  <tbody>\n",
       "    <tr>\n",
       "      <th>count</th>\n",
       "      <td>1599.000000</td>\n",
       "      <td>1599.000000</td>\n",
       "      <td>1599.000000</td>\n",
       "      <td>1599.000000</td>\n",
       "      <td>1599.000000</td>\n",
       "      <td>1599.000000</td>\n",
       "      <td>1599.000000</td>\n",
       "      <td>1599.000000</td>\n",
       "      <td>1599.000000</td>\n",
       "      <td>1599.000000</td>\n",
       "      <td>1599.000000</td>\n",
       "    </tr>\n",
       "    <tr>\n",
       "      <th>mean</th>\n",
       "      <td>8.319637</td>\n",
       "      <td>0.527821</td>\n",
       "      <td>0.270976</td>\n",
       "      <td>2.538806</td>\n",
       "      <td>0.087467</td>\n",
       "      <td>15.874922</td>\n",
       "      <td>46.467792</td>\n",
       "      <td>0.996747</td>\n",
       "      <td>3.311113</td>\n",
       "      <td>0.658149</td>\n",
       "      <td>10.422983</td>\n",
       "    </tr>\n",
       "    <tr>\n",
       "      <th>std</th>\n",
       "      <td>1.741096</td>\n",
       "      <td>0.179060</td>\n",
       "      <td>0.194801</td>\n",
       "      <td>1.409928</td>\n",
       "      <td>0.047065</td>\n",
       "      <td>10.460157</td>\n",
       "      <td>32.895324</td>\n",
       "      <td>0.001887</td>\n",
       "      <td>0.154386</td>\n",
       "      <td>0.169507</td>\n",
       "      <td>1.065668</td>\n",
       "    </tr>\n",
       "    <tr>\n",
       "      <th>min</th>\n",
       "      <td>4.600000</td>\n",
       "      <td>0.120000</td>\n",
       "      <td>0.000000</td>\n",
       "      <td>0.900000</td>\n",
       "      <td>0.012000</td>\n",
       "      <td>1.000000</td>\n",
       "      <td>6.000000</td>\n",
       "      <td>0.990070</td>\n",
       "      <td>2.740000</td>\n",
       "      <td>0.330000</td>\n",
       "      <td>8.400000</td>\n",
       "    </tr>\n",
       "    <tr>\n",
       "      <th>25%</th>\n",
       "      <td>7.100000</td>\n",
       "      <td>0.390000</td>\n",
       "      <td>0.090000</td>\n",
       "      <td>1.900000</td>\n",
       "      <td>0.070000</td>\n",
       "      <td>7.000000</td>\n",
       "      <td>22.000000</td>\n",
       "      <td>0.995600</td>\n",
       "      <td>3.210000</td>\n",
       "      <td>0.550000</td>\n",
       "      <td>9.500000</td>\n",
       "    </tr>\n",
       "    <tr>\n",
       "      <th>50%</th>\n",
       "      <td>7.900000</td>\n",
       "      <td>0.520000</td>\n",
       "      <td>0.260000</td>\n",
       "      <td>2.200000</td>\n",
       "      <td>0.079000</td>\n",
       "      <td>14.000000</td>\n",
       "      <td>38.000000</td>\n",
       "      <td>0.996750</td>\n",
       "      <td>3.310000</td>\n",
       "      <td>0.620000</td>\n",
       "      <td>10.200000</td>\n",
       "    </tr>\n",
       "    <tr>\n",
       "      <th>75%</th>\n",
       "      <td>9.200000</td>\n",
       "      <td>0.640000</td>\n",
       "      <td>0.420000</td>\n",
       "      <td>2.600000</td>\n",
       "      <td>0.090000</td>\n",
       "      <td>21.000000</td>\n",
       "      <td>62.000000</td>\n",
       "      <td>0.997835</td>\n",
       "      <td>3.400000</td>\n",
       "      <td>0.730000</td>\n",
       "      <td>11.100000</td>\n",
       "    </tr>\n",
       "    <tr>\n",
       "      <th>max</th>\n",
       "      <td>15.900000</td>\n",
       "      <td>1.580000</td>\n",
       "      <td>1.000000</td>\n",
       "      <td>15.500000</td>\n",
       "      <td>0.611000</td>\n",
       "      <td>72.000000</td>\n",
       "      <td>289.000000</td>\n",
       "      <td>1.003690</td>\n",
       "      <td>4.010000</td>\n",
       "      <td>2.000000</td>\n",
       "      <td>14.900000</td>\n",
       "    </tr>\n",
       "  </tbody>\n",
       "</table>\n",
       "</div>"
      ],
      "text/plain": [
       "       fixed acidity  volatile acidity  citric acid  residual sugar  \\\n",
       "count    1599.000000       1599.000000  1599.000000     1599.000000   \n",
       "mean        8.319637          0.527821     0.270976        2.538806   \n",
       "std         1.741096          0.179060     0.194801        1.409928   \n",
       "min         4.600000          0.120000     0.000000        0.900000   \n",
       "25%         7.100000          0.390000     0.090000        1.900000   \n",
       "50%         7.900000          0.520000     0.260000        2.200000   \n",
       "75%         9.200000          0.640000     0.420000        2.600000   \n",
       "max        15.900000          1.580000     1.000000       15.500000   \n",
       "\n",
       "         chlorides  free sulfur dioxide  total sulfur dioxide      density  \\\n",
       "count  1599.000000          1599.000000           1599.000000  1599.000000   \n",
       "mean      0.087467            15.874922             46.467792     0.996747   \n",
       "std       0.047065            10.460157             32.895324     0.001887   \n",
       "min       0.012000             1.000000              6.000000     0.990070   \n",
       "25%       0.070000             7.000000             22.000000     0.995600   \n",
       "50%       0.079000            14.000000             38.000000     0.996750   \n",
       "75%       0.090000            21.000000             62.000000     0.997835   \n",
       "max       0.611000            72.000000            289.000000     1.003690   \n",
       "\n",
       "                pH    sulphates      alcohol  \n",
       "count  1599.000000  1599.000000  1599.000000  \n",
       "mean      3.311113     0.658149    10.422983  \n",
       "std       0.154386     0.169507     1.065668  \n",
       "min       2.740000     0.330000     8.400000  \n",
       "25%       3.210000     0.550000     9.500000  \n",
       "50%       3.310000     0.620000    10.200000  \n",
       "75%       3.400000     0.730000    11.100000  \n",
       "max       4.010000     2.000000    14.900000  "
      ]
     },
     "execution_count": 5,
     "metadata": {},
     "output_type": "execute_result"
    }
   ],
   "source": [
    "# view some basic statistical details like percentile, mean, std etc.\n",
    "bankdata_red.describe()"
   ]
  },
  {
   "cell_type": "markdown",
   "metadata": {},
   "source": [
    "### 1.1.2- White wine"
   ]
  },
  {
   "cell_type": "code",
   "execution_count": 6,
   "metadata": {},
   "outputs": [
    {
     "data": {
      "text/plain": [
       "(4898, 12)"
      ]
     },
     "execution_count": 6,
     "metadata": {},
     "output_type": "execute_result"
    }
   ],
   "source": [
    "# Read data with read_csv method of the pandas library.\n",
    "bankdata_white = pd.read_csv(\"data/new_format/winequality-white-classes.csv\", sep = ',')\n",
    "# see the rows and columns of the data\n",
    "bankdata_white.shape"
   ]
  },
  {
   "cell_type": "code",
   "execution_count": 7,
   "metadata": {},
   "outputs": [
    {
     "data": {
      "text/html": [
       "<div>\n",
       "<style scoped>\n",
       "    .dataframe tbody tr th:only-of-type {\n",
       "        vertical-align: middle;\n",
       "    }\n",
       "\n",
       "    .dataframe tbody tr th {\n",
       "        vertical-align: top;\n",
       "    }\n",
       "\n",
       "    .dataframe thead th {\n",
       "        text-align: right;\n",
       "    }\n",
       "</style>\n",
       "<table border=\"1\" class=\"dataframe\">\n",
       "  <thead>\n",
       "    <tr style=\"text-align: right;\">\n",
       "      <th></th>\n",
       "      <th>fixed acidity</th>\n",
       "      <th>volatile acidity</th>\n",
       "      <th>citric acid</th>\n",
       "      <th>residual sugar</th>\n",
       "      <th>chlorides</th>\n",
       "      <th>free sulfur dioxide</th>\n",
       "      <th>total sulfur dioxide</th>\n",
       "      <th>density</th>\n",
       "      <th>pH</th>\n",
       "      <th>sulphates</th>\n",
       "      <th>alcohol</th>\n",
       "      <th>class</th>\n",
       "    </tr>\n",
       "  </thead>\n",
       "  <tbody>\n",
       "    <tr>\n",
       "      <th>0</th>\n",
       "      <td>7.0</td>\n",
       "      <td>0.27</td>\n",
       "      <td>0.36</td>\n",
       "      <td>20.7</td>\n",
       "      <td>0.045</td>\n",
       "      <td>45.0</td>\n",
       "      <td>170.0</td>\n",
       "      <td>1.0010</td>\n",
       "      <td>3.00</td>\n",
       "      <td>0.45</td>\n",
       "      <td>8.8</td>\n",
       "      <td>medium</td>\n",
       "    </tr>\n",
       "    <tr>\n",
       "      <th>1</th>\n",
       "      <td>6.3</td>\n",
       "      <td>0.30</td>\n",
       "      <td>0.34</td>\n",
       "      <td>1.6</td>\n",
       "      <td>0.049</td>\n",
       "      <td>14.0</td>\n",
       "      <td>132.0</td>\n",
       "      <td>0.9940</td>\n",
       "      <td>3.30</td>\n",
       "      <td>0.49</td>\n",
       "      <td>9.5</td>\n",
       "      <td>medium</td>\n",
       "    </tr>\n",
       "    <tr>\n",
       "      <th>2</th>\n",
       "      <td>8.1</td>\n",
       "      <td>0.28</td>\n",
       "      <td>0.40</td>\n",
       "      <td>6.9</td>\n",
       "      <td>0.050</td>\n",
       "      <td>30.0</td>\n",
       "      <td>97.0</td>\n",
       "      <td>0.9951</td>\n",
       "      <td>3.26</td>\n",
       "      <td>0.44</td>\n",
       "      <td>10.1</td>\n",
       "      <td>medium</td>\n",
       "    </tr>\n",
       "    <tr>\n",
       "      <th>3</th>\n",
       "      <td>7.2</td>\n",
       "      <td>0.23</td>\n",
       "      <td>0.32</td>\n",
       "      <td>8.5</td>\n",
       "      <td>0.058</td>\n",
       "      <td>47.0</td>\n",
       "      <td>186.0</td>\n",
       "      <td>0.9956</td>\n",
       "      <td>3.19</td>\n",
       "      <td>0.40</td>\n",
       "      <td>9.9</td>\n",
       "      <td>medium</td>\n",
       "    </tr>\n",
       "    <tr>\n",
       "      <th>4</th>\n",
       "      <td>7.2</td>\n",
       "      <td>0.23</td>\n",
       "      <td>0.32</td>\n",
       "      <td>8.5</td>\n",
       "      <td>0.058</td>\n",
       "      <td>47.0</td>\n",
       "      <td>186.0</td>\n",
       "      <td>0.9956</td>\n",
       "      <td>3.19</td>\n",
       "      <td>0.40</td>\n",
       "      <td>9.9</td>\n",
       "      <td>medium</td>\n",
       "    </tr>\n",
       "  </tbody>\n",
       "</table>\n",
       "</div>"
      ],
      "text/plain": [
       "   fixed acidity  volatile acidity  citric acid  residual sugar  chlorides  \\\n",
       "0            7.0              0.27         0.36            20.7      0.045   \n",
       "1            6.3              0.30         0.34             1.6      0.049   \n",
       "2            8.1              0.28         0.40             6.9      0.050   \n",
       "3            7.2              0.23         0.32             8.5      0.058   \n",
       "4            7.2              0.23         0.32             8.5      0.058   \n",
       "\n",
       "   free sulfur dioxide  total sulfur dioxide  density    pH  sulphates  \\\n",
       "0                 45.0                 170.0   1.0010  3.00       0.45   \n",
       "1                 14.0                 132.0   0.9940  3.30       0.49   \n",
       "2                 30.0                  97.0   0.9951  3.26       0.44   \n",
       "3                 47.0                 186.0   0.9956  3.19       0.40   \n",
       "4                 47.0                 186.0   0.9956  3.19       0.40   \n",
       "\n",
       "   alcohol   class  \n",
       "0      8.8  medium  \n",
       "1      9.5  medium  \n",
       "2     10.1  medium  \n",
       "3      9.9  medium  \n",
       "4      9.9  medium  "
      ]
     },
     "execution_count": 7,
     "metadata": {},
     "output_type": "execute_result"
    }
   ],
   "source": [
    "# get a feel of how our dataset actually looks\n",
    "bankdata_white.head()"
   ]
  },
  {
   "cell_type": "code",
   "execution_count": 8,
   "metadata": {},
   "outputs": [
    {
     "data": {
      "text/html": [
       "<div>\n",
       "<style scoped>\n",
       "    .dataframe tbody tr th:only-of-type {\n",
       "        vertical-align: middle;\n",
       "    }\n",
       "\n",
       "    .dataframe tbody tr th {\n",
       "        vertical-align: top;\n",
       "    }\n",
       "\n",
       "    .dataframe thead th {\n",
       "        text-align: right;\n",
       "    }\n",
       "</style>\n",
       "<table border=\"1\" class=\"dataframe\">\n",
       "  <thead>\n",
       "    <tr style=\"text-align: right;\">\n",
       "      <th></th>\n",
       "      <th>fixed acidity</th>\n",
       "      <th>volatile acidity</th>\n",
       "      <th>citric acid</th>\n",
       "      <th>residual sugar</th>\n",
       "      <th>chlorides</th>\n",
       "      <th>free sulfur dioxide</th>\n",
       "      <th>total sulfur dioxide</th>\n",
       "      <th>density</th>\n",
       "      <th>pH</th>\n",
       "      <th>sulphates</th>\n",
       "      <th>alcohol</th>\n",
       "    </tr>\n",
       "  </thead>\n",
       "  <tbody>\n",
       "    <tr>\n",
       "      <th>count</th>\n",
       "      <td>4898.000000</td>\n",
       "      <td>4898.000000</td>\n",
       "      <td>4898.000000</td>\n",
       "      <td>4898.000000</td>\n",
       "      <td>4898.000000</td>\n",
       "      <td>4898.000000</td>\n",
       "      <td>4898.000000</td>\n",
       "      <td>4898.000000</td>\n",
       "      <td>4898.000000</td>\n",
       "      <td>4898.000000</td>\n",
       "      <td>4898.000000</td>\n",
       "    </tr>\n",
       "    <tr>\n",
       "      <th>mean</th>\n",
       "      <td>6.854788</td>\n",
       "      <td>0.278241</td>\n",
       "      <td>0.334192</td>\n",
       "      <td>6.391415</td>\n",
       "      <td>0.045772</td>\n",
       "      <td>35.308085</td>\n",
       "      <td>138.360657</td>\n",
       "      <td>0.994027</td>\n",
       "      <td>3.188267</td>\n",
       "      <td>0.489847</td>\n",
       "      <td>10.514267</td>\n",
       "    </tr>\n",
       "    <tr>\n",
       "      <th>std</th>\n",
       "      <td>0.843868</td>\n",
       "      <td>0.100795</td>\n",
       "      <td>0.121020</td>\n",
       "      <td>5.072058</td>\n",
       "      <td>0.021848</td>\n",
       "      <td>17.007137</td>\n",
       "      <td>42.498065</td>\n",
       "      <td>0.002991</td>\n",
       "      <td>0.151001</td>\n",
       "      <td>0.114126</td>\n",
       "      <td>1.230621</td>\n",
       "    </tr>\n",
       "    <tr>\n",
       "      <th>min</th>\n",
       "      <td>3.800000</td>\n",
       "      <td>0.080000</td>\n",
       "      <td>0.000000</td>\n",
       "      <td>0.600000</td>\n",
       "      <td>0.009000</td>\n",
       "      <td>2.000000</td>\n",
       "      <td>9.000000</td>\n",
       "      <td>0.987110</td>\n",
       "      <td>2.720000</td>\n",
       "      <td>0.220000</td>\n",
       "      <td>8.000000</td>\n",
       "    </tr>\n",
       "    <tr>\n",
       "      <th>25%</th>\n",
       "      <td>6.300000</td>\n",
       "      <td>0.210000</td>\n",
       "      <td>0.270000</td>\n",
       "      <td>1.700000</td>\n",
       "      <td>0.036000</td>\n",
       "      <td>23.000000</td>\n",
       "      <td>108.000000</td>\n",
       "      <td>0.991723</td>\n",
       "      <td>3.090000</td>\n",
       "      <td>0.410000</td>\n",
       "      <td>9.500000</td>\n",
       "    </tr>\n",
       "    <tr>\n",
       "      <th>50%</th>\n",
       "      <td>6.800000</td>\n",
       "      <td>0.260000</td>\n",
       "      <td>0.320000</td>\n",
       "      <td>5.200000</td>\n",
       "      <td>0.043000</td>\n",
       "      <td>34.000000</td>\n",
       "      <td>134.000000</td>\n",
       "      <td>0.993740</td>\n",
       "      <td>3.180000</td>\n",
       "      <td>0.470000</td>\n",
       "      <td>10.400000</td>\n",
       "    </tr>\n",
       "    <tr>\n",
       "      <th>75%</th>\n",
       "      <td>7.300000</td>\n",
       "      <td>0.320000</td>\n",
       "      <td>0.390000</td>\n",
       "      <td>9.900000</td>\n",
       "      <td>0.050000</td>\n",
       "      <td>46.000000</td>\n",
       "      <td>167.000000</td>\n",
       "      <td>0.996100</td>\n",
       "      <td>3.280000</td>\n",
       "      <td>0.550000</td>\n",
       "      <td>11.400000</td>\n",
       "    </tr>\n",
       "    <tr>\n",
       "      <th>max</th>\n",
       "      <td>14.200000</td>\n",
       "      <td>1.100000</td>\n",
       "      <td>1.660000</td>\n",
       "      <td>65.800000</td>\n",
       "      <td>0.346000</td>\n",
       "      <td>289.000000</td>\n",
       "      <td>440.000000</td>\n",
       "      <td>1.038980</td>\n",
       "      <td>3.820000</td>\n",
       "      <td>1.080000</td>\n",
       "      <td>14.200000</td>\n",
       "    </tr>\n",
       "  </tbody>\n",
       "</table>\n",
       "</div>"
      ],
      "text/plain": [
       "       fixed acidity  volatile acidity  citric acid  residual sugar  \\\n",
       "count    4898.000000       4898.000000  4898.000000     4898.000000   \n",
       "mean        6.854788          0.278241     0.334192        6.391415   \n",
       "std         0.843868          0.100795     0.121020        5.072058   \n",
       "min         3.800000          0.080000     0.000000        0.600000   \n",
       "25%         6.300000          0.210000     0.270000        1.700000   \n",
       "50%         6.800000          0.260000     0.320000        5.200000   \n",
       "75%         7.300000          0.320000     0.390000        9.900000   \n",
       "max        14.200000          1.100000     1.660000       65.800000   \n",
       "\n",
       "         chlorides  free sulfur dioxide  total sulfur dioxide      density  \\\n",
       "count  4898.000000          4898.000000           4898.000000  4898.000000   \n",
       "mean      0.045772            35.308085            138.360657     0.994027   \n",
       "std       0.021848            17.007137             42.498065     0.002991   \n",
       "min       0.009000             2.000000              9.000000     0.987110   \n",
       "25%       0.036000            23.000000            108.000000     0.991723   \n",
       "50%       0.043000            34.000000            134.000000     0.993740   \n",
       "75%       0.050000            46.000000            167.000000     0.996100   \n",
       "max       0.346000           289.000000            440.000000     1.038980   \n",
       "\n",
       "                pH    sulphates      alcohol  \n",
       "count  4898.000000  4898.000000  4898.000000  \n",
       "mean      3.188267     0.489847    10.514267  \n",
       "std       0.151001     0.114126     1.230621  \n",
       "min       2.720000     0.220000     8.000000  \n",
       "25%       3.090000     0.410000     9.500000  \n",
       "50%       3.180000     0.470000    10.400000  \n",
       "75%       3.280000     0.550000    11.400000  \n",
       "max       3.820000     1.080000    14.200000  "
      ]
     },
     "execution_count": 8,
     "metadata": {},
     "output_type": "execute_result"
    }
   ],
   "source": [
    "# view some basic statistical details like mean, std etc.\n",
    "bankdata_white.describe()"
   ]
  },
  {
   "cell_type": "markdown",
   "metadata": {},
   "source": [
    "## 1.2- Data preprocessing\n",
    "\n",
    "Data preprocessing involves (1) Dividing the data into attributes and labels and (2) dividing the data into training and testing sets\n",
    "\n",
    "### 1..2.1- Split dataset in train and test\n",
    "\n",
    "#### 1.2.1.1- Red wine"
   ]
  },
  {
   "cell_type": "code",
   "execution_count": 9,
   "metadata": {},
   "outputs": [
    {
     "data": {
      "text/plain": [
       "0    medium\n",
       "1    medium\n",
       "2    medium\n",
       "3    medium\n",
       "4    medium\n",
       "Name: class, dtype: object"
      ]
     },
     "execution_count": 9,
     "metadata": {},
     "output_type": "execute_result"
    }
   ],
   "source": [
    "# In the first line of the script above, all the columns of the bankdata dataframe \n",
    "#are being stored in the X variable except the \"quality\" column, which is the label column. \n",
    "#The drop() method drops this column.\n",
    "X_red = bankdata_red.drop('class', axis=1)\n",
    "y_red = bankdata_red['class']\n",
    "y_red.head()"
   ]
  },
  {
   "cell_type": "markdown",
   "metadata": {},
   "source": [
    "Once the data is divided into attributes and labels, the final preprocessing step is to divide data into training and test sets. "
   ]
  },
  {
   "cell_type": "code",
   "execution_count": 10,
   "metadata": {},
   "outputs": [
    {
     "data": {
      "text/html": [
       "<div>\n",
       "<style scoped>\n",
       "    .dataframe tbody tr th:only-of-type {\n",
       "        vertical-align: middle;\n",
       "    }\n",
       "\n",
       "    .dataframe tbody tr th {\n",
       "        vertical-align: top;\n",
       "    }\n",
       "\n",
       "    .dataframe thead th {\n",
       "        text-align: right;\n",
       "    }\n",
       "</style>\n",
       "<table border=\"1\" class=\"dataframe\">\n",
       "  <thead>\n",
       "    <tr style=\"text-align: right;\">\n",
       "      <th></th>\n",
       "      <th>fixed acidity</th>\n",
       "      <th>volatile acidity</th>\n",
       "      <th>citric acid</th>\n",
       "      <th>residual sugar</th>\n",
       "      <th>chlorides</th>\n",
       "      <th>free sulfur dioxide</th>\n",
       "      <th>total sulfur dioxide</th>\n",
       "      <th>density</th>\n",
       "      <th>pH</th>\n",
       "      <th>sulphates</th>\n",
       "      <th>alcohol</th>\n",
       "    </tr>\n",
       "  </thead>\n",
       "  <tbody>\n",
       "    <tr>\n",
       "      <th>1568</th>\n",
       "      <td>7.0</td>\n",
       "      <td>0.56</td>\n",
       "      <td>0.13</td>\n",
       "      <td>1.6</td>\n",
       "      <td>0.077</td>\n",
       "      <td>25.0</td>\n",
       "      <td>42.0</td>\n",
       "      <td>0.99629</td>\n",
       "      <td>3.34</td>\n",
       "      <td>0.59</td>\n",
       "      <td>9.2</td>\n",
       "    </tr>\n",
       "    <tr>\n",
       "      <th>163</th>\n",
       "      <td>7.4</td>\n",
       "      <td>0.60</td>\n",
       "      <td>0.26</td>\n",
       "      <td>7.3</td>\n",
       "      <td>0.070</td>\n",
       "      <td>36.0</td>\n",
       "      <td>121.0</td>\n",
       "      <td>0.99820</td>\n",
       "      <td>3.37</td>\n",
       "      <td>0.49</td>\n",
       "      <td>9.4</td>\n",
       "    </tr>\n",
       "    <tr>\n",
       "      <th>1256</th>\n",
       "      <td>7.5</td>\n",
       "      <td>0.59</td>\n",
       "      <td>0.22</td>\n",
       "      <td>1.8</td>\n",
       "      <td>0.082</td>\n",
       "      <td>43.0</td>\n",
       "      <td>60.0</td>\n",
       "      <td>0.99499</td>\n",
       "      <td>3.10</td>\n",
       "      <td>0.42</td>\n",
       "      <td>9.2</td>\n",
       "    </tr>\n",
       "    <tr>\n",
       "      <th>117</th>\n",
       "      <td>7.8</td>\n",
       "      <td>0.56</td>\n",
       "      <td>0.12</td>\n",
       "      <td>2.0</td>\n",
       "      <td>0.082</td>\n",
       "      <td>7.0</td>\n",
       "      <td>28.0</td>\n",
       "      <td>0.99700</td>\n",
       "      <td>3.37</td>\n",
       "      <td>0.50</td>\n",
       "      <td>9.4</td>\n",
       "    </tr>\n",
       "    <tr>\n",
       "      <th>1266</th>\n",
       "      <td>7.2</td>\n",
       "      <td>0.57</td>\n",
       "      <td>0.05</td>\n",
       "      <td>2.3</td>\n",
       "      <td>0.081</td>\n",
       "      <td>16.0</td>\n",
       "      <td>36.0</td>\n",
       "      <td>0.99564</td>\n",
       "      <td>3.38</td>\n",
       "      <td>0.60</td>\n",
       "      <td>10.3</td>\n",
       "    </tr>\n",
       "  </tbody>\n",
       "</table>\n",
       "</div>"
      ],
      "text/plain": [
       "      fixed acidity  volatile acidity  citric acid  residual sugar  chlorides  \\\n",
       "1568            7.0              0.56         0.13             1.6      0.077   \n",
       "163             7.4              0.60         0.26             7.3      0.070   \n",
       "1256            7.5              0.59         0.22             1.8      0.082   \n",
       "117             7.8              0.56         0.12             2.0      0.082   \n",
       "1266            7.2              0.57         0.05             2.3      0.081   \n",
       "\n",
       "      free sulfur dioxide  total sulfur dioxide  density    pH  sulphates  \\\n",
       "1568                 25.0                  42.0  0.99629  3.34       0.59   \n",
       "163                  36.0                 121.0  0.99820  3.37       0.49   \n",
       "1256                 43.0                  60.0  0.99499  3.10       0.42   \n",
       "117                   7.0                  28.0  0.99700  3.37       0.50   \n",
       "1266                 16.0                  36.0  0.99564  3.38       0.60   \n",
       "\n",
       "      alcohol  \n",
       "1568      9.2  \n",
       "163       9.4  \n",
       "1256      9.2  \n",
       "117       9.4  \n",
       "1266     10.3  "
      ]
     },
     "execution_count": 10,
     "metadata": {},
     "output_type": "execute_result"
    }
   ],
   "source": [
    "# divide data into training and test sets.\n",
    "X_train_red, X_test_red, y_train_red, y_test_red = train_test_split(X_red, y_red, test_size = 0.20)\n",
    "\n",
    "X_train_red.head()"
   ]
  },
  {
   "cell_type": "code",
   "execution_count": 11,
   "metadata": {},
   "outputs": [
    {
     "data": {
      "text/plain": [
       "1568    medium\n",
       "163     medium\n",
       "1256    medium\n",
       "117     medium\n",
       "1266    medium\n",
       "Name: class, dtype: object"
      ]
     },
     "execution_count": 11,
     "metadata": {},
     "output_type": "execute_result"
    }
   ],
   "source": [
    "y_train_red.head()"
   ]
  },
  {
   "cell_type": "markdown",
   "metadata": {},
   "source": [
    "#### 1.2.1.2- White wine"
   ]
  },
  {
   "cell_type": "code",
   "execution_count": 12,
   "metadata": {},
   "outputs": [],
   "source": [
    "# In the first line of the script above, all the columns of the bankdata dataframe \n",
    "#are being stored in the X variable except the \"quality\" column, which is the label column. \n",
    "#The drop() method drops this column.\n",
    "X_white = bankdata_white.drop('class', axis=1)\n",
    "y_white = bankdata_white['class']"
   ]
  },
  {
   "cell_type": "code",
   "execution_count": 13,
   "metadata": {},
   "outputs": [],
   "source": [
    "# divide data into training and test sets.\n",
    "X_train_white, X_test_white, y_train_white, y_test_white = train_test_split(X_white, y_white, test_size = 0.20)"
   ]
  },
  {
   "cell_type": "code",
   "execution_count": 14,
   "metadata": {},
   "outputs": [
    {
     "data": {
      "text/html": [
       "<div>\n",
       "<style scoped>\n",
       "    .dataframe tbody tr th:only-of-type {\n",
       "        vertical-align: middle;\n",
       "    }\n",
       "\n",
       "    .dataframe tbody tr th {\n",
       "        vertical-align: top;\n",
       "    }\n",
       "\n",
       "    .dataframe thead th {\n",
       "        text-align: right;\n",
       "    }\n",
       "</style>\n",
       "<table border=\"1\" class=\"dataframe\">\n",
       "  <thead>\n",
       "    <tr style=\"text-align: right;\">\n",
       "      <th></th>\n",
       "      <th>fixed acidity</th>\n",
       "      <th>volatile acidity</th>\n",
       "      <th>citric acid</th>\n",
       "      <th>residual sugar</th>\n",
       "      <th>chlorides</th>\n",
       "      <th>free sulfur dioxide</th>\n",
       "      <th>total sulfur dioxide</th>\n",
       "      <th>density</th>\n",
       "      <th>pH</th>\n",
       "      <th>sulphates</th>\n",
       "      <th>alcohol</th>\n",
       "    </tr>\n",
       "  </thead>\n",
       "  <tbody>\n",
       "    <tr>\n",
       "      <th>2532</th>\n",
       "      <td>6.7</td>\n",
       "      <td>0.540</td>\n",
       "      <td>0.27</td>\n",
       "      <td>7.1</td>\n",
       "      <td>0.049</td>\n",
       "      <td>8.0</td>\n",
       "      <td>178.0</td>\n",
       "      <td>0.99502</td>\n",
       "      <td>3.16</td>\n",
       "      <td>0.38</td>\n",
       "      <td>9.4</td>\n",
       "    </tr>\n",
       "    <tr>\n",
       "      <th>4285</th>\n",
       "      <td>6.0</td>\n",
       "      <td>0.200</td>\n",
       "      <td>0.26</td>\n",
       "      <td>6.8</td>\n",
       "      <td>0.049</td>\n",
       "      <td>22.0</td>\n",
       "      <td>93.0</td>\n",
       "      <td>0.99280</td>\n",
       "      <td>3.15</td>\n",
       "      <td>0.42</td>\n",
       "      <td>11.0</td>\n",
       "    </tr>\n",
       "    <tr>\n",
       "      <th>4264</th>\n",
       "      <td>5.8</td>\n",
       "      <td>0.200</td>\n",
       "      <td>0.16</td>\n",
       "      <td>1.4</td>\n",
       "      <td>0.042</td>\n",
       "      <td>44.0</td>\n",
       "      <td>99.0</td>\n",
       "      <td>0.98912</td>\n",
       "      <td>3.23</td>\n",
       "      <td>0.37</td>\n",
       "      <td>12.2</td>\n",
       "    </tr>\n",
       "    <tr>\n",
       "      <th>4470</th>\n",
       "      <td>4.7</td>\n",
       "      <td>0.145</td>\n",
       "      <td>0.29</td>\n",
       "      <td>1.0</td>\n",
       "      <td>0.042</td>\n",
       "      <td>35.0</td>\n",
       "      <td>90.0</td>\n",
       "      <td>0.99080</td>\n",
       "      <td>3.76</td>\n",
       "      <td>0.49</td>\n",
       "      <td>11.3</td>\n",
       "    </tr>\n",
       "    <tr>\n",
       "      <th>3314</th>\n",
       "      <td>6.6</td>\n",
       "      <td>0.435</td>\n",
       "      <td>0.38</td>\n",
       "      <td>9.2</td>\n",
       "      <td>0.058</td>\n",
       "      <td>66.0</td>\n",
       "      <td>243.0</td>\n",
       "      <td>0.99833</td>\n",
       "      <td>3.23</td>\n",
       "      <td>0.54</td>\n",
       "      <td>9.1</td>\n",
       "    </tr>\n",
       "  </tbody>\n",
       "</table>\n",
       "</div>"
      ],
      "text/plain": [
       "      fixed acidity  volatile acidity  citric acid  residual sugar  chlorides  \\\n",
       "2532            6.7             0.540         0.27             7.1      0.049   \n",
       "4285            6.0             0.200         0.26             6.8      0.049   \n",
       "4264            5.8             0.200         0.16             1.4      0.042   \n",
       "4470            4.7             0.145         0.29             1.0      0.042   \n",
       "3314            6.6             0.435         0.38             9.2      0.058   \n",
       "\n",
       "      free sulfur dioxide  total sulfur dioxide  density    pH  sulphates  \\\n",
       "2532                  8.0                 178.0  0.99502  3.16       0.38   \n",
       "4285                 22.0                  93.0  0.99280  3.15       0.42   \n",
       "4264                 44.0                  99.0  0.98912  3.23       0.37   \n",
       "4470                 35.0                  90.0  0.99080  3.76       0.49   \n",
       "3314                 66.0                 243.0  0.99833  3.23       0.54   \n",
       "\n",
       "      alcohol  \n",
       "2532      9.4  \n",
       "4285     11.0  \n",
       "4264     12.2  \n",
       "4470     11.3  \n",
       "3314      9.1  "
      ]
     },
     "execution_count": 14,
     "metadata": {},
     "output_type": "execute_result"
    }
   ],
   "source": [
    "X_train_white.head()"
   ]
  },
  {
   "cell_type": "code",
   "execution_count": 81,
   "metadata": {},
   "outputs": [
    {
     "data": {
      "text/plain": [
       "2532       low\n",
       "4285    medium\n",
       "4264    medium\n",
       "4470    medium\n",
       "3314    medium\n",
       "Name: class, dtype: object"
      ]
     },
     "execution_count": 81,
     "metadata": {},
     "output_type": "execute_result"
    }
   ],
   "source": [
    "y_train_white.head()"
   ]
  },
  {
   "cell_type": "markdown",
   "metadata": {},
   "source": [
    "### 1.2.2- Data standarization\n",
    "\n",
    "Standarization of datasets is a common requirement for many machine learning estimators. They might behave badly if the individual features do not more or less look like standard normally distributed data: Gaussian with zero mean and unit variance.\n",
    "\n",
    "Here we are going to use StandardScaler, that standardize features by removing the mean and scaling to unit variance. The standard score of a sample $x$ is calculated as:\n",
    "\n",
    "$x_{scaled} = \\dfrac{x - \\mu}{\\sigma}$\n",
    "\n",
    "where $\\mu$ is the mean of the training samples and $\\sigma$ is the standard deviation of the training samples.\n",
    "\n",
    "#### 1.2.2.1- Red wine"
   ]
  },
  {
   "cell_type": "code",
   "execution_count": 82,
   "metadata": {},
   "outputs": [
    {
     "data": {
      "text/html": [
       "<div>\n",
       "<style scoped>\n",
       "    .dataframe tbody tr th:only-of-type {\n",
       "        vertical-align: middle;\n",
       "    }\n",
       "\n",
       "    .dataframe tbody tr th {\n",
       "        vertical-align: top;\n",
       "    }\n",
       "\n",
       "    .dataframe thead th {\n",
       "        text-align: right;\n",
       "    }\n",
       "</style>\n",
       "<table border=\"1\" class=\"dataframe\">\n",
       "  <thead>\n",
       "    <tr style=\"text-align: right;\">\n",
       "      <th></th>\n",
       "      <th>fixed acidity</th>\n",
       "      <th>volatile acidity</th>\n",
       "      <th>citric acid</th>\n",
       "      <th>residual sugar</th>\n",
       "      <th>chlorides</th>\n",
       "      <th>free sulfur dioxide</th>\n",
       "      <th>total sulfur dioxide</th>\n",
       "      <th>density</th>\n",
       "      <th>pH</th>\n",
       "      <th>sulphates</th>\n",
       "      <th>alcohol</th>\n",
       "    </tr>\n",
       "  </thead>\n",
       "  <tbody>\n",
       "    <tr>\n",
       "      <th>0</th>\n",
       "      <td>-0.760650</td>\n",
       "      <td>0.193844</td>\n",
       "      <td>-0.752391</td>\n",
       "      <td>-0.690005</td>\n",
       "      <td>-0.220919</td>\n",
       "      <td>0.862306</td>\n",
       "      <td>-0.143972</td>\n",
       "      <td>-0.238748</td>\n",
       "      <td>0.176682</td>\n",
       "      <td>-0.399161</td>\n",
       "      <td>-1.135697</td>\n",
       "    </tr>\n",
       "    <tr>\n",
       "      <th>1</th>\n",
       "      <td>-0.530589</td>\n",
       "      <td>0.416275</td>\n",
       "      <td>-0.079593</td>\n",
       "      <td>3.621041</td>\n",
       "      <td>-0.359835</td>\n",
       "      <td>1.909142</td>\n",
       "      <td>2.256528</td>\n",
       "      <td>0.771182</td>\n",
       "      <td>0.367595</td>\n",
       "      <td>-0.975832</td>\n",
       "      <td>-0.949581</td>\n",
       "    </tr>\n",
       "    <tr>\n",
       "      <th>2</th>\n",
       "      <td>-0.473074</td>\n",
       "      <td>0.360668</td>\n",
       "      <td>-0.286608</td>\n",
       "      <td>-0.538740</td>\n",
       "      <td>-0.121693</td>\n",
       "      <td>2.575311</td>\n",
       "      <td>0.402978</td>\n",
       "      <td>-0.926134</td>\n",
       "      <td>-1.350616</td>\n",
       "      <td>-1.379502</td>\n",
       "      <td>-1.135697</td>\n",
       "    </tr>\n",
       "    <tr>\n",
       "      <th>3</th>\n",
       "      <td>-0.300528</td>\n",
       "      <td>0.193844</td>\n",
       "      <td>-0.804145</td>\n",
       "      <td>-0.387476</td>\n",
       "      <td>-0.121693</td>\n",
       "      <td>-0.850699</td>\n",
       "      <td>-0.569376</td>\n",
       "      <td>0.136671</td>\n",
       "      <td>0.367595</td>\n",
       "      <td>-0.918165</td>\n",
       "      <td>-0.949581</td>\n",
       "    </tr>\n",
       "    <tr>\n",
       "      <th>4</th>\n",
       "      <td>-0.645619</td>\n",
       "      <td>0.249452</td>\n",
       "      <td>-1.166421</td>\n",
       "      <td>-0.160578</td>\n",
       "      <td>-0.141538</td>\n",
       "      <td>0.005804</td>\n",
       "      <td>-0.326288</td>\n",
       "      <td>-0.582441</td>\n",
       "      <td>0.431232</td>\n",
       "      <td>-0.341494</td>\n",
       "      <td>-0.112060</td>\n",
       "    </tr>\n",
       "  </tbody>\n",
       "</table>\n",
       "</div>"
      ],
      "text/plain": [
       "   fixed acidity  volatile acidity  citric acid  residual sugar  chlorides  \\\n",
       "0      -0.760650          0.193844    -0.752391       -0.690005  -0.220919   \n",
       "1      -0.530589          0.416275    -0.079593        3.621041  -0.359835   \n",
       "2      -0.473074          0.360668    -0.286608       -0.538740  -0.121693   \n",
       "3      -0.300528          0.193844    -0.804145       -0.387476  -0.121693   \n",
       "4      -0.645619          0.249452    -1.166421       -0.160578  -0.141538   \n",
       "\n",
       "   free sulfur dioxide  total sulfur dioxide   density        pH  sulphates  \\\n",
       "0             0.862306             -0.143972 -0.238748  0.176682  -0.399161   \n",
       "1             1.909142              2.256528  0.771182  0.367595  -0.975832   \n",
       "2             2.575311              0.402978 -0.926134 -1.350616  -1.379502   \n",
       "3            -0.850699             -0.569376  0.136671  0.367595  -0.918165   \n",
       "4             0.005804             -0.326288 -0.582441  0.431232  -0.341494   \n",
       "\n",
       "    alcohol  \n",
       "0 -1.135697  \n",
       "1 -0.949581  \n",
       "2 -1.135697  \n",
       "3 -0.949581  \n",
       "4 -0.112060  "
      ]
     },
     "execution_count": 82,
     "metadata": {},
     "output_type": "execute_result"
    }
   ],
   "source": [
    "X_train_red_scaled = pd.DataFrame(preprocessing.StandardScaler().fit_transform(X_train_red), columns=X_train_red.columns.values)\n",
    "X_train_red_scaled.head()"
   ]
  },
  {
   "cell_type": "code",
   "execution_count": 86,
   "metadata": {},
   "outputs": [
    {
     "data": {
      "text/html": [
       "<div>\n",
       "<style scoped>\n",
       "    .dataframe tbody tr th:only-of-type {\n",
       "        vertical-align: middle;\n",
       "    }\n",
       "\n",
       "    .dataframe tbody tr th {\n",
       "        vertical-align: top;\n",
       "    }\n",
       "\n",
       "    .dataframe thead th {\n",
       "        text-align: right;\n",
       "    }\n",
       "</style>\n",
       "<table border=\"1\" class=\"dataframe\">\n",
       "  <thead>\n",
       "    <tr style=\"text-align: right;\">\n",
       "      <th></th>\n",
       "      <th>fixed acidity</th>\n",
       "      <th>volatile acidity</th>\n",
       "      <th>citric acid</th>\n",
       "      <th>residual sugar</th>\n",
       "      <th>chlorides</th>\n",
       "      <th>free sulfur dioxide</th>\n",
       "      <th>total sulfur dioxide</th>\n",
       "      <th>density</th>\n",
       "      <th>pH</th>\n",
       "      <th>sulphates</th>\n",
       "      <th>alcohol</th>\n",
       "    </tr>\n",
       "  </thead>\n",
       "  <tbody>\n",
       "    <tr>\n",
       "      <th>count</th>\n",
       "      <td>1.279000e+03</td>\n",
       "      <td>1.279000e+03</td>\n",
       "      <td>1.279000e+03</td>\n",
       "      <td>1.279000e+03</td>\n",
       "      <td>1.279000e+03</td>\n",
       "      <td>1.279000e+03</td>\n",
       "      <td>1.279000e+03</td>\n",
       "      <td>1.279000e+03</td>\n",
       "      <td>1.279000e+03</td>\n",
       "      <td>1.279000e+03</td>\n",
       "      <td>1.279000e+03</td>\n",
       "    </tr>\n",
       "    <tr>\n",
       "      <th>mean</th>\n",
       "      <td>-2.451345e-16</td>\n",
       "      <td>1.916632e-16</td>\n",
       "      <td>1.111091e-16</td>\n",
       "      <td>3.402716e-17</td>\n",
       "      <td>7.777637e-17</td>\n",
       "      <td>-7.916524e-17</td>\n",
       "      <td>-8.333183e-18</td>\n",
       "      <td>6.007530e-15</td>\n",
       "      <td>-6.416551e-16</td>\n",
       "      <td>7.222092e-17</td>\n",
       "      <td>-7.645695e-16</td>\n",
       "    </tr>\n",
       "    <tr>\n",
       "      <th>std</th>\n",
       "      <td>1.000391e+00</td>\n",
       "      <td>1.000391e+00</td>\n",
       "      <td>1.000391e+00</td>\n",
       "      <td>1.000391e+00</td>\n",
       "      <td>1.000391e+00</td>\n",
       "      <td>1.000391e+00</td>\n",
       "      <td>1.000391e+00</td>\n",
       "      <td>1.000391e+00</td>\n",
       "      <td>1.000391e+00</td>\n",
       "      <td>1.000391e+00</td>\n",
       "      <td>1.000391e+00</td>\n",
       "    </tr>\n",
       "    <tr>\n",
       "      <th>min</th>\n",
       "      <td>-2.141018e+00</td>\n",
       "      <td>-2.252896e+00</td>\n",
       "      <td>-1.425189e+00</td>\n",
       "      <td>-1.219432e+00</td>\n",
       "      <td>-1.510855e+00</td>\n",
       "      <td>-1.421700e+00</td>\n",
       "      <td>-1.237870e+00</td>\n",
       "      <td>-3.527628e+00</td>\n",
       "      <td>-3.641564e+00</td>\n",
       "      <td>-1.667838e+00</td>\n",
       "      <td>-1.880160e+00</td>\n",
       "    </tr>\n",
       "    <tr>\n",
       "      <th>25%</th>\n",
       "      <td>-7.031348e-01</td>\n",
       "      <td>-7.514869e-01</td>\n",
       "      <td>-9.076521e-01</td>\n",
       "      <td>-4.631079e-01</td>\n",
       "      <td>-3.598354e-01</td>\n",
       "      <td>-7.555316e-01</td>\n",
       "      <td>-7.516929e-01</td>\n",
       "      <td>-6.035913e-01</td>\n",
       "      <td>-6.506045e-01</td>\n",
       "      <td>-6.298296e-01</td>\n",
       "      <td>-8.565229e-01</td>\n",
       "    </tr>\n",
       "    <tr>\n",
       "      <th>50%</th>\n",
       "      <td>-2.430123e-01</td>\n",
       "      <td>-2.858646e-02</td>\n",
       "      <td>-7.959305e-02</td>\n",
       "      <td>-2.362107e-01</td>\n",
       "      <td>-1.812288e-01</td>\n",
       "      <td>-1.845301e-01</td>\n",
       "      <td>-2.655158e-01</td>\n",
       "      <td>9.769017e-03</td>\n",
       "      <td>-1.423011e-02</td>\n",
       "      <td>-2.261597e-01</td>\n",
       "      <td>-2.981757e-01</td>\n",
       "    </tr>\n",
       "    <tr>\n",
       "      <th>75%</th>\n",
       "      <td>5.046867e-01</td>\n",
       "      <td>6.109024e-01</td>\n",
       "      <td>7.484660e-01</td>\n",
       "      <td>6.631878e-02</td>\n",
       "      <td>3.706812e-02</td>\n",
       "      <td>4.816384e-01</td>\n",
       "      <td>4.941359e-01</td>\n",
       "      <td>5.728972e-01</td>\n",
       "      <td>5.585068e-01</td>\n",
       "      <td>4.081786e-01</td>\n",
       "      <td>6.324031e-01</td>\n",
       "    </tr>\n",
       "    <tr>\n",
       "      <th>max</th>\n",
       "      <td>4.358213e+00</td>\n",
       "      <td>5.865833e+00</td>\n",
       "      <td>3.750180e+00</td>\n",
       "      <td>9.747263e+00</td>\n",
       "      <td>1.037640e+01</td>\n",
       "      <td>5.335151e+00</td>\n",
       "      <td>7.027141e+00</td>\n",
       "      <td>3.674068e+00</td>\n",
       "      <td>4.440390e+00</td>\n",
       "      <td>7.731903e+00</td>\n",
       "      <td>4.168602e+00</td>\n",
       "    </tr>\n",
       "  </tbody>\n",
       "</table>\n",
       "</div>"
      ],
      "text/plain": [
       "       fixed acidity  volatile acidity   citric acid  residual sugar  \\\n",
       "count   1.279000e+03      1.279000e+03  1.279000e+03    1.279000e+03   \n",
       "mean   -2.451345e-16      1.916632e-16  1.111091e-16    3.402716e-17   \n",
       "std     1.000391e+00      1.000391e+00  1.000391e+00    1.000391e+00   \n",
       "min    -2.141018e+00     -2.252896e+00 -1.425189e+00   -1.219432e+00   \n",
       "25%    -7.031348e-01     -7.514869e-01 -9.076521e-01   -4.631079e-01   \n",
       "50%    -2.430123e-01     -2.858646e-02 -7.959305e-02   -2.362107e-01   \n",
       "75%     5.046867e-01      6.109024e-01  7.484660e-01    6.631878e-02   \n",
       "max     4.358213e+00      5.865833e+00  3.750180e+00    9.747263e+00   \n",
       "\n",
       "          chlorides  free sulfur dioxide  total sulfur dioxide       density  \\\n",
       "count  1.279000e+03         1.279000e+03          1.279000e+03  1.279000e+03   \n",
       "mean   7.777637e-17        -7.916524e-17         -8.333183e-18  6.007530e-15   \n",
       "std    1.000391e+00         1.000391e+00          1.000391e+00  1.000391e+00   \n",
       "min   -1.510855e+00        -1.421700e+00         -1.237870e+00 -3.527628e+00   \n",
       "25%   -3.598354e-01        -7.555316e-01         -7.516929e-01 -6.035913e-01   \n",
       "50%   -1.812288e-01        -1.845301e-01         -2.655158e-01  9.769017e-03   \n",
       "75%    3.706812e-02         4.816384e-01          4.941359e-01  5.728972e-01   \n",
       "max    1.037640e+01         5.335151e+00          7.027141e+00  3.674068e+00   \n",
       "\n",
       "                 pH     sulphates       alcohol  \n",
       "count  1.279000e+03  1.279000e+03  1.279000e+03  \n",
       "mean  -6.416551e-16  7.222092e-17 -7.645695e-16  \n",
       "std    1.000391e+00  1.000391e+00  1.000391e+00  \n",
       "min   -3.641564e+00 -1.667838e+00 -1.880160e+00  \n",
       "25%   -6.506045e-01 -6.298296e-01 -8.565229e-01  \n",
       "50%   -1.423011e-02 -2.261597e-01 -2.981757e-01  \n",
       "75%    5.585068e-01  4.081786e-01  6.324031e-01  \n",
       "max    4.440390e+00  7.731903e+00  4.168602e+00  "
      ]
     },
     "execution_count": 86,
     "metadata": {},
     "output_type": "execute_result"
    }
   ],
   "source": [
    "X_train_red_scaled.describe()"
   ]
  },
  {
   "cell_type": "code",
   "execution_count": 87,
   "metadata": {},
   "outputs": [
    {
     "data": {
      "text/html": [
       "<div>\n",
       "<style scoped>\n",
       "    .dataframe tbody tr th:only-of-type {\n",
       "        vertical-align: middle;\n",
       "    }\n",
       "\n",
       "    .dataframe tbody tr th {\n",
       "        vertical-align: top;\n",
       "    }\n",
       "\n",
       "    .dataframe thead th {\n",
       "        text-align: right;\n",
       "    }\n",
       "</style>\n",
       "<table border=\"1\" class=\"dataframe\">\n",
       "  <thead>\n",
       "    <tr style=\"text-align: right;\">\n",
       "      <th></th>\n",
       "      <th>fixed acidity</th>\n",
       "      <th>volatile acidity</th>\n",
       "      <th>citric acid</th>\n",
       "      <th>residual sugar</th>\n",
       "      <th>chlorides</th>\n",
       "      <th>free sulfur dioxide</th>\n",
       "      <th>total sulfur dioxide</th>\n",
       "      <th>density</th>\n",
       "      <th>pH</th>\n",
       "      <th>sulphates</th>\n",
       "      <th>alcohol</th>\n",
       "    </tr>\n",
       "  </thead>\n",
       "  <tbody>\n",
       "    <tr>\n",
       "      <th>0</th>\n",
       "      <td>-0.805556</td>\n",
       "      <td>0.835775</td>\n",
       "      <td>-1.268633</td>\n",
       "      <td>-0.084588</td>\n",
       "      <td>0.671518</td>\n",
       "      <td>0.622765</td>\n",
       "      <td>-0.256001</td>\n",
       "      <td>-0.089522</td>\n",
       "      <td>1.076303</td>\n",
       "      <td>-0.549816</td>\n",
       "      <td>0.162323</td>\n",
       "    </tr>\n",
       "    <tr>\n",
       "      <th>1</th>\n",
       "      <td>-0.633933</td>\n",
       "      <td>0.350751</td>\n",
       "      <td>-1.068355</td>\n",
       "      <td>-0.084588</td>\n",
       "      <td>-0.292841</td>\n",
       "      <td>0.232393</td>\n",
       "      <td>1.300607</td>\n",
       "      <td>0.365364</td>\n",
       "      <td>1.567525</td>\n",
       "      <td>-0.680919</td>\n",
       "      <td>-0.908339</td>\n",
       "    </tr>\n",
       "    <tr>\n",
       "      <th>2</th>\n",
       "      <td>0.395806</td>\n",
       "      <td>-0.505174</td>\n",
       "      <td>1.184767</td>\n",
       "      <td>-0.026125</td>\n",
       "      <td>-0.026811</td>\n",
       "      <td>0.525172</td>\n",
       "      <td>0.903825</td>\n",
       "      <td>1.034314</td>\n",
       "      <td>0.304382</td>\n",
       "      <td>-0.549816</td>\n",
       "      <td>-0.713673</td>\n",
       "    </tr>\n",
       "    <tr>\n",
       "      <th>3</th>\n",
       "      <td>0.681845</td>\n",
       "      <td>-0.448112</td>\n",
       "      <td>-0.066968</td>\n",
       "      <td>0.032337</td>\n",
       "      <td>0.239219</td>\n",
       "      <td>-0.157979</td>\n",
       "      <td>-0.042349</td>\n",
       "      <td>0.659702</td>\n",
       "      <td>-1.309634</td>\n",
       "      <td>0.564565</td>\n",
       "      <td>-0.421674</td>\n",
       "    </tr>\n",
       "    <tr>\n",
       "      <th>4</th>\n",
       "      <td>-0.061856</td>\n",
       "      <td>0.921368</td>\n",
       "      <td>-0.117037</td>\n",
       "      <td>-0.376900</td>\n",
       "      <td>0.471996</td>\n",
       "      <td>-0.157979</td>\n",
       "      <td>1.086955</td>\n",
       "      <td>0.285090</td>\n",
       "      <td>-0.818411</td>\n",
       "      <td>0.302358</td>\n",
       "      <td>-1.005671</td>\n",
       "    </tr>\n",
       "  </tbody>\n",
       "</table>\n",
       "</div>"
      ],
      "text/plain": [
       "   fixed acidity  volatile acidity  citric acid  residual sugar  chlorides  \\\n",
       "0      -0.805556          0.835775    -1.268633       -0.084588   0.671518   \n",
       "1      -0.633933          0.350751    -1.068355       -0.084588  -0.292841   \n",
       "2       0.395806         -0.505174     1.184767       -0.026125  -0.026811   \n",
       "3       0.681845         -0.448112    -0.066968        0.032337   0.239219   \n",
       "4      -0.061856          0.921368    -0.117037       -0.376900   0.471996   \n",
       "\n",
       "   free sulfur dioxide  total sulfur dioxide   density        pH  sulphates  \\\n",
       "0             0.622765             -0.256001 -0.089522  1.076303  -0.549816   \n",
       "1             0.232393              1.300607  0.365364  1.567525  -0.680919   \n",
       "2             0.525172              0.903825  1.034314  0.304382  -0.549816   \n",
       "3            -0.157979             -0.042349  0.659702 -1.309634   0.564565   \n",
       "4            -0.157979              1.086955  0.285090 -0.818411   0.302358   \n",
       "\n",
       "    alcohol  \n",
       "0  0.162323  \n",
       "1 -0.908339  \n",
       "2 -0.713673  \n",
       "3 -0.421674  \n",
       "4 -1.005671  "
      ]
     },
     "execution_count": 87,
     "metadata": {},
     "output_type": "execute_result"
    }
   ],
   "source": [
    "X_test_red_scaled = pd.DataFrame(preprocessing.StandardScaler().fit_transform(X_test_red), columns=X_test_red.columns.values)\n",
    "X_test_red_scaled.head()"
   ]
  },
  {
   "cell_type": "code",
   "execution_count": 88,
   "metadata": {},
   "outputs": [
    {
     "data": {
      "text/html": [
       "<div>\n",
       "<style scoped>\n",
       "    .dataframe tbody tr th:only-of-type {\n",
       "        vertical-align: middle;\n",
       "    }\n",
       "\n",
       "    .dataframe tbody tr th {\n",
       "        vertical-align: top;\n",
       "    }\n",
       "\n",
       "    .dataframe thead th {\n",
       "        text-align: right;\n",
       "    }\n",
       "</style>\n",
       "<table border=\"1\" class=\"dataframe\">\n",
       "  <thead>\n",
       "    <tr style=\"text-align: right;\">\n",
       "      <th></th>\n",
       "      <th>fixed acidity</th>\n",
       "      <th>volatile acidity</th>\n",
       "      <th>citric acid</th>\n",
       "      <th>residual sugar</th>\n",
       "      <th>chlorides</th>\n",
       "      <th>free sulfur dioxide</th>\n",
       "      <th>total sulfur dioxide</th>\n",
       "      <th>density</th>\n",
       "      <th>pH</th>\n",
       "      <th>sulphates</th>\n",
       "      <th>alcohol</th>\n",
       "    </tr>\n",
       "  </thead>\n",
       "  <tbody>\n",
       "    <tr>\n",
       "      <th>count</th>\n",
       "      <td>3.200000e+02</td>\n",
       "      <td>3.200000e+02</td>\n",
       "      <td>3.200000e+02</td>\n",
       "      <td>3.200000e+02</td>\n",
       "      <td>3.200000e+02</td>\n",
       "      <td>3.200000e+02</td>\n",
       "      <td>3.200000e+02</td>\n",
       "      <td>3.200000e+02</td>\n",
       "      <td>3.200000e+02</td>\n",
       "      <td>3.200000e+02</td>\n",
       "      <td>3.200000e+02</td>\n",
       "    </tr>\n",
       "    <tr>\n",
       "      <th>mean</th>\n",
       "      <td>-2.720046e-16</td>\n",
       "      <td>-1.026956e-16</td>\n",
       "      <td>-7.494005e-17</td>\n",
       "      <td>-1.387779e-16</td>\n",
       "      <td>4.163336e-17</td>\n",
       "      <td>-1.665335e-17</td>\n",
       "      <td>-7.771561e-17</td>\n",
       "      <td>1.062095e-13</td>\n",
       "      <td>3.633205e-15</td>\n",
       "      <td>1.137979e-16</td>\n",
       "      <td>-2.720046e-16</td>\n",
       "    </tr>\n",
       "    <tr>\n",
       "      <th>std</th>\n",
       "      <td>1.001566e+00</td>\n",
       "      <td>1.001566e+00</td>\n",
       "      <td>1.001566e+00</td>\n",
       "      <td>1.001566e+00</td>\n",
       "      <td>1.001566e+00</td>\n",
       "      <td>1.001566e+00</td>\n",
       "      <td>1.001566e+00</td>\n",
       "      <td>1.001566e+00</td>\n",
       "      <td>1.001566e+00</td>\n",
       "      <td>1.001566e+00</td>\n",
       "      <td>1.001566e+00</td>\n",
       "    </tr>\n",
       "    <tr>\n",
       "      <th>min</th>\n",
       "      <td>-1.835295e+00</td>\n",
       "      <td>-2.159962e+00</td>\n",
       "      <td>-1.268633e+00</td>\n",
       "      <td>-7.861364e-01</td>\n",
       "      <td>-1.523230e+00</td>\n",
       "      <td>-1.231501e+00</td>\n",
       "      <td>-1.202175e+00</td>\n",
       "      <td>-2.979388e+00</td>\n",
       "      <td>-2.572776e+00</td>\n",
       "      <td>-2.123058e+00</td>\n",
       "      <td>-1.395003e+00</td>\n",
       "    </tr>\n",
       "    <tr>\n",
       "      <th>25%</th>\n",
       "      <td>-6.911408e-01</td>\n",
       "      <td>-8.475440e-01</td>\n",
       "      <td>-8.680777e-01</td>\n",
       "      <td>-4.353621e-01</td>\n",
       "      <td>-4.591097e-01</td>\n",
       "      <td>-8.411291e-01</td>\n",
       "      <td>-7.138269e-01</td>\n",
       "      <td>-6.286963e-01</td>\n",
       "      <td>-7.482367e-01</td>\n",
       "      <td>-6.153673e-01</td>\n",
       "      <td>-9.083386e-01</td>\n",
       "    </tr>\n",
       "    <tr>\n",
       "      <th>50%</th>\n",
       "      <td>-2.906867e-01</td>\n",
       "      <td>8.380931e-03</td>\n",
       "      <td>-1.420718e-01</td>\n",
       "      <td>-2.599749e-01</td>\n",
       "      <td>-1.930796e-01</td>\n",
       "      <td>-2.555715e-01</td>\n",
       "      <td>-2.407401e-01</td>\n",
       "      <td>-2.530305e-02</td>\n",
       "      <td>2.368393e-02</td>\n",
       "      <td>-2.220566e-01</td>\n",
       "      <td>-2.270086e-01</td>\n",
       "    </tr>\n",
       "    <tr>\n",
       "      <th>75%</th>\n",
       "      <td>5.102214e-01</td>\n",
       "      <td>6.360592e-01</td>\n",
       "      <td>8.843503e-01</td>\n",
       "      <td>-2.612538e-02</td>\n",
       "      <td>2.142789e-01</td>\n",
       "      <td>6.227649e-01</td>\n",
       "      <td>3.849553e-01</td>\n",
       "      <td>6.061862e-01</td>\n",
       "      <td>6.552553e-01</td>\n",
       "      <td>4.334611e-01</td>\n",
       "      <td>6.489871e-01</td>\n",
       "    </tr>\n",
       "    <tr>\n",
       "      <th>max</th>\n",
       "      <td>3.256192e+00</td>\n",
       "      <td>3.375019e+00</td>\n",
       "      <td>2.636778e+00</td>\n",
       "      <td>7.515522e+00</td>\n",
       "      <td>9.151227e+00</td>\n",
       "      <td>5.112040e+00</td>\n",
       "      <td>7.435475e+00</td>\n",
       "      <td>3.121440e+00</td>\n",
       "      <td>2.690319e+00</td>\n",
       "      <td>6.136466e+00</td>\n",
       "      <td>3.471640e+00</td>\n",
       "    </tr>\n",
       "  </tbody>\n",
       "</table>\n",
       "</div>"
      ],
      "text/plain": [
       "       fixed acidity  volatile acidity   citric acid  residual sugar  \\\n",
       "count   3.200000e+02      3.200000e+02  3.200000e+02    3.200000e+02   \n",
       "mean   -2.720046e-16     -1.026956e-16 -7.494005e-17   -1.387779e-16   \n",
       "std     1.001566e+00      1.001566e+00  1.001566e+00    1.001566e+00   \n",
       "min    -1.835295e+00     -2.159962e+00 -1.268633e+00   -7.861364e-01   \n",
       "25%    -6.911408e-01     -8.475440e-01 -8.680777e-01   -4.353621e-01   \n",
       "50%    -2.906867e-01      8.380931e-03 -1.420718e-01   -2.599749e-01   \n",
       "75%     5.102214e-01      6.360592e-01  8.843503e-01   -2.612538e-02   \n",
       "max     3.256192e+00      3.375019e+00  2.636778e+00    7.515522e+00   \n",
       "\n",
       "          chlorides  free sulfur dioxide  total sulfur dioxide       density  \\\n",
       "count  3.200000e+02         3.200000e+02          3.200000e+02  3.200000e+02   \n",
       "mean   4.163336e-17        -1.665335e-17         -7.771561e-17  1.062095e-13   \n",
       "std    1.001566e+00         1.001566e+00          1.001566e+00  1.001566e+00   \n",
       "min   -1.523230e+00        -1.231501e+00         -1.202175e+00 -2.979388e+00   \n",
       "25%   -4.591097e-01        -8.411291e-01         -7.138269e-01 -6.286963e-01   \n",
       "50%   -1.930796e-01        -2.555715e-01         -2.407401e-01 -2.530305e-02   \n",
       "75%    2.142789e-01         6.227649e-01          3.849553e-01  6.061862e-01   \n",
       "max    9.151227e+00         5.112040e+00          7.435475e+00  3.121440e+00   \n",
       "\n",
       "                 pH     sulphates       alcohol  \n",
       "count  3.200000e+02  3.200000e+02  3.200000e+02  \n",
       "mean   3.633205e-15  1.137979e-16 -2.720046e-16  \n",
       "std    1.001566e+00  1.001566e+00  1.001566e+00  \n",
       "min   -2.572776e+00 -2.123058e+00 -1.395003e+00  \n",
       "25%   -7.482367e-01 -6.153673e-01 -9.083386e-01  \n",
       "50%    2.368393e-02 -2.220566e-01 -2.270086e-01  \n",
       "75%    6.552553e-01  4.334611e-01  6.489871e-01  \n",
       "max    2.690319e+00  6.136466e+00  3.471640e+00  "
      ]
     },
     "execution_count": 88,
     "metadata": {},
     "output_type": "execute_result"
    }
   ],
   "source": [
    "X_test_red_scaled.describe()"
   ]
  },
  {
   "cell_type": "markdown",
   "metadata": {},
   "source": [
    "#### 1.2.2.2- White wine"
   ]
  },
  {
   "cell_type": "code",
   "execution_count": 89,
   "metadata": {},
   "outputs": [
    {
     "data": {
      "text/html": [
       "<div>\n",
       "<style scoped>\n",
       "    .dataframe tbody tr th:only-of-type {\n",
       "        vertical-align: middle;\n",
       "    }\n",
       "\n",
       "    .dataframe tbody tr th {\n",
       "        vertical-align: top;\n",
       "    }\n",
       "\n",
       "    .dataframe thead th {\n",
       "        text-align: right;\n",
       "    }\n",
       "</style>\n",
       "<table border=\"1\" class=\"dataframe\">\n",
       "  <thead>\n",
       "    <tr style=\"text-align: right;\">\n",
       "      <th></th>\n",
       "      <th>fixed acidity</th>\n",
       "      <th>volatile acidity</th>\n",
       "      <th>citric acid</th>\n",
       "      <th>residual sugar</th>\n",
       "      <th>chlorides</th>\n",
       "      <th>free sulfur dioxide</th>\n",
       "      <th>total sulfur dioxide</th>\n",
       "      <th>density</th>\n",
       "      <th>pH</th>\n",
       "      <th>sulphates</th>\n",
       "      <th>alcohol</th>\n",
       "    </tr>\n",
       "  </thead>\n",
       "  <tbody>\n",
       "    <tr>\n",
       "      <th>0</th>\n",
       "      <td>-0.181563</td>\n",
       "      <td>2.567784</td>\n",
       "      <td>-0.520425</td>\n",
       "      <td>0.125102</td>\n",
       "      <td>0.131076</td>\n",
       "      <td>-1.609709</td>\n",
       "      <td>0.927951</td>\n",
       "      <td>0.312904</td>\n",
       "      <td>-0.184966</td>\n",
       "      <td>-0.958293</td>\n",
       "      <td>-0.893041</td>\n",
       "    </tr>\n",
       "    <tr>\n",
       "      <th>1</th>\n",
       "      <td>-1.019660</td>\n",
       "      <td>-0.759337</td>\n",
       "      <td>-0.603302</td>\n",
       "      <td>0.066489</td>\n",
       "      <td>0.131076</td>\n",
       "      <td>-0.788518</td>\n",
       "      <td>-1.087502</td>\n",
       "      <td>-0.421648</td>\n",
       "      <td>-0.251709</td>\n",
       "      <td>-0.604462</td>\n",
       "      <td>0.410855</td>\n",
       "    </tr>\n",
       "    <tr>\n",
       "      <th>2</th>\n",
       "      <td>-1.259116</td>\n",
       "      <td>-0.759337</td>\n",
       "      <td>-1.432073</td>\n",
       "      <td>-0.988543</td>\n",
       "      <td>-0.178855</td>\n",
       "      <td>0.501927</td>\n",
       "      <td>-0.945235</td>\n",
       "      <td>-1.639284</td>\n",
       "      <td>0.282236</td>\n",
       "      <td>-1.046751</td>\n",
       "      <td>1.388777</td>\n",
       "    </tr>\n",
       "    <tr>\n",
       "      <th>3</th>\n",
       "      <td>-2.576124</td>\n",
       "      <td>-1.297548</td>\n",
       "      <td>-0.354671</td>\n",
       "      <td>-1.066694</td>\n",
       "      <td>-0.178855</td>\n",
       "      <td>-0.025982</td>\n",
       "      <td>-1.158636</td>\n",
       "      <td>-1.083406</td>\n",
       "      <td>3.819622</td>\n",
       "      <td>0.014743</td>\n",
       "      <td>0.655335</td>\n",
       "    </tr>\n",
       "    <tr>\n",
       "      <th>4</th>\n",
       "      <td>-0.301291</td>\n",
       "      <td>1.540291</td>\n",
       "      <td>0.391223</td>\n",
       "      <td>0.535393</td>\n",
       "      <td>0.529560</td>\n",
       "      <td>1.792371</td>\n",
       "      <td>2.469180</td>\n",
       "      <td>1.408115</td>\n",
       "      <td>0.282236</td>\n",
       "      <td>0.457032</td>\n",
       "      <td>-1.137521</td>\n",
       "    </tr>\n",
       "  </tbody>\n",
       "</table>\n",
       "</div>"
      ],
      "text/plain": [
       "   fixed acidity  volatile acidity  citric acid  residual sugar  chlorides  \\\n",
       "0      -0.181563          2.567784    -0.520425        0.125102   0.131076   \n",
       "1      -1.019660         -0.759337    -0.603302        0.066489   0.131076   \n",
       "2      -1.259116         -0.759337    -1.432073       -0.988543  -0.178855   \n",
       "3      -2.576124         -1.297548    -0.354671       -1.066694  -0.178855   \n",
       "4      -0.301291          1.540291     0.391223        0.535393   0.529560   \n",
       "\n",
       "   free sulfur dioxide  total sulfur dioxide   density        pH  sulphates  \\\n",
       "0            -1.609709              0.927951  0.312904 -0.184966  -0.958293   \n",
       "1            -0.788518             -1.087502 -0.421648 -0.251709  -0.604462   \n",
       "2             0.501927             -0.945235 -1.639284  0.282236  -1.046751   \n",
       "3            -0.025982             -1.158636 -1.083406  3.819622   0.014743   \n",
       "4             1.792371              2.469180  1.408115  0.282236   0.457032   \n",
       "\n",
       "    alcohol  \n",
       "0 -0.893041  \n",
       "1  0.410855  \n",
       "2  1.388777  \n",
       "3  0.655335  \n",
       "4 -1.137521  "
      ]
     },
     "execution_count": 89,
     "metadata": {},
     "output_type": "execute_result"
    }
   ],
   "source": [
    "X_train_white_scaled = pd.DataFrame(preprocessing.StandardScaler().fit_transform(X_train_white), columns=X_train_white.columns.values)\n",
    "X_train_white_scaled.head()"
   ]
  },
  {
   "cell_type": "code",
   "execution_count": 90,
   "metadata": {},
   "outputs": [
    {
     "data": {
      "text/html": [
       "<div>\n",
       "<style scoped>\n",
       "    .dataframe tbody tr th:only-of-type {\n",
       "        vertical-align: middle;\n",
       "    }\n",
       "\n",
       "    .dataframe tbody tr th {\n",
       "        vertical-align: top;\n",
       "    }\n",
       "\n",
       "    .dataframe thead th {\n",
       "        text-align: right;\n",
       "    }\n",
       "</style>\n",
       "<table border=\"1\" class=\"dataframe\">\n",
       "  <thead>\n",
       "    <tr style=\"text-align: right;\">\n",
       "      <th></th>\n",
       "      <th>fixed acidity</th>\n",
       "      <th>volatile acidity</th>\n",
       "      <th>citric acid</th>\n",
       "      <th>residual sugar</th>\n",
       "      <th>chlorides</th>\n",
       "      <th>free sulfur dioxide</th>\n",
       "      <th>total sulfur dioxide</th>\n",
       "      <th>density</th>\n",
       "      <th>pH</th>\n",
       "      <th>sulphates</th>\n",
       "      <th>alcohol</th>\n",
       "    </tr>\n",
       "  </thead>\n",
       "  <tbody>\n",
       "    <tr>\n",
       "      <th>count</th>\n",
       "      <td>3.918000e+03</td>\n",
       "      <td>3.918000e+03</td>\n",
       "      <td>3.918000e+03</td>\n",
       "      <td>3.918000e+03</td>\n",
       "      <td>3.918000e+03</td>\n",
       "      <td>3.918000e+03</td>\n",
       "      <td>3.918000e+03</td>\n",
       "      <td>3.918000e+03</td>\n",
       "      <td>3.918000e+03</td>\n",
       "      <td>3.918000e+03</td>\n",
       "      <td>3.918000e+03</td>\n",
       "    </tr>\n",
       "    <tr>\n",
       "      <th>mean</th>\n",
       "      <td>2.298655e-16</td>\n",
       "      <td>-1.994888e-16</td>\n",
       "      <td>-2.956061e-16</td>\n",
       "      <td>5.032558e-17</td>\n",
       "      <td>-3.527324e-16</td>\n",
       "      <td>-6.619400e-17</td>\n",
       "      <td>-2.597888e-16</td>\n",
       "      <td>3.431751e-14</td>\n",
       "      <td>-9.879228e-16</td>\n",
       "      <td>-4.488497e-17</td>\n",
       "      <td>2.466407e-16</td>\n",
       "    </tr>\n",
       "    <tr>\n",
       "      <th>std</th>\n",
       "      <td>1.000128e+00</td>\n",
       "      <td>1.000128e+00</td>\n",
       "      <td>1.000128e+00</td>\n",
       "      <td>1.000128e+00</td>\n",
       "      <td>1.000128e+00</td>\n",
       "      <td>1.000128e+00</td>\n",
       "      <td>1.000128e+00</td>\n",
       "      <td>1.000128e+00</td>\n",
       "      <td>1.000128e+00</td>\n",
       "      <td>1.000128e+00</td>\n",
       "      <td>1.000128e+00</td>\n",
       "    </tr>\n",
       "    <tr>\n",
       "      <th>min</th>\n",
       "      <td>-3.533949e+00</td>\n",
       "      <td>-1.933615e+00</td>\n",
       "      <td>-2.758106e+00</td>\n",
       "      <td>-1.144844e+00</td>\n",
       "      <td>-1.507134e+00</td>\n",
       "      <td>-1.961649e+00</td>\n",
       "      <td>-3.055533e+00</td>\n",
       "      <td>-2.304351e+00</td>\n",
       "      <td>-3.121664e+00</td>\n",
       "      <td>-2.373619e+00</td>\n",
       "      <td>-2.033949e+00</td>\n",
       "    </tr>\n",
       "    <tr>\n",
       "      <th>25%</th>\n",
       "      <td>-6.604754e-01</td>\n",
       "      <td>-6.614804e-01</td>\n",
       "      <td>-5.204250e-01</td>\n",
       "      <td>-9.299302e-01</td>\n",
       "      <td>-4.445111e-01</td>\n",
       "      <td>-6.712044e-01</td>\n",
       "      <td>-7.081229e-01</td>\n",
       "      <td>-7.690710e-01</td>\n",
       "      <td>-6.521680e-01</td>\n",
       "      <td>-6.929199e-01</td>\n",
       "      <td>-8.930407e-01</td>\n",
       "    </tr>\n",
       "    <tr>\n",
       "      <th>50%</th>\n",
       "      <td>-6.183505e-02</td>\n",
       "      <td>-1.721979e-01</td>\n",
       "      <td>-1.889166e-01</td>\n",
       "      <td>-2.265752e-01</td>\n",
       "      <td>-1.345794e-01</td>\n",
       "      <td>-8.463881e-02</td>\n",
       "      <td>-1.153425e-01</td>\n",
       "      <td>-9.076843e-02</td>\n",
       "      <td>-5.147978e-02</td>\n",
       "      <td>-1.621727e-01</td>\n",
       "      <td>-1.595994e-01</td>\n",
       "    </tr>\n",
       "    <tr>\n",
       "      <th>75%</th>\n",
       "      <td>5.368053e-01</td>\n",
       "      <td>4.149410e-01</td>\n",
       "      <td>3.912230e-01</td>\n",
       "      <td>6.916937e-01</td>\n",
       "      <td>1.753522e-01</td>\n",
       "      <td>6.192399e-01</td>\n",
       "      <td>6.908387e-01</td>\n",
       "      <td>7.033419e-01</td>\n",
       "      <td>6.159516e-01</td>\n",
       "      <td>5.454901e-01</td>\n",
       "      <td>7.368289e-01</td>\n",
       "    </tr>\n",
       "    <tr>\n",
       "      <th>max</th>\n",
       "      <td>8.798042e+00</td>\n",
       "      <td>8.047747e+00</td>\n",
       "      <td>1.099949e+01</td>\n",
       "      <td>1.159369e+01</td>\n",
       "      <td>1.328103e+01</td>\n",
       "      <td>1.487278e+01</td>\n",
       "      <td>7.140289e+00</td>\n",
       "      <td>1.485836e+01</td>\n",
       "      <td>4.153338e+00</td>\n",
       "      <td>5.233756e+00</td>\n",
       "      <td>3.018646e+00</td>\n",
       "    </tr>\n",
       "  </tbody>\n",
       "</table>\n",
       "</div>"
      ],
      "text/plain": [
       "       fixed acidity  volatile acidity   citric acid  residual sugar  \\\n",
       "count   3.918000e+03      3.918000e+03  3.918000e+03    3.918000e+03   \n",
       "mean    2.298655e-16     -1.994888e-16 -2.956061e-16    5.032558e-17   \n",
       "std     1.000128e+00      1.000128e+00  1.000128e+00    1.000128e+00   \n",
       "min    -3.533949e+00     -1.933615e+00 -2.758106e+00   -1.144844e+00   \n",
       "25%    -6.604754e-01     -6.614804e-01 -5.204250e-01   -9.299302e-01   \n",
       "50%    -6.183505e-02     -1.721979e-01 -1.889166e-01   -2.265752e-01   \n",
       "75%     5.368053e-01      4.149410e-01  3.912230e-01    6.916937e-01   \n",
       "max     8.798042e+00      8.047747e+00  1.099949e+01    1.159369e+01   \n",
       "\n",
       "          chlorides  free sulfur dioxide  total sulfur dioxide       density  \\\n",
       "count  3.918000e+03         3.918000e+03          3.918000e+03  3.918000e+03   \n",
       "mean  -3.527324e-16        -6.619400e-17         -2.597888e-16  3.431751e-14   \n",
       "std    1.000128e+00         1.000128e+00          1.000128e+00  1.000128e+00   \n",
       "min   -1.507134e+00        -1.961649e+00         -3.055533e+00 -2.304351e+00   \n",
       "25%   -4.445111e-01        -6.712044e-01         -7.081229e-01 -7.690710e-01   \n",
       "50%   -1.345794e-01        -8.463881e-02         -1.153425e-01 -9.076843e-02   \n",
       "75%    1.753522e-01         6.192399e-01          6.908387e-01  7.033419e-01   \n",
       "max    1.328103e+01         1.487278e+01          7.140289e+00  1.485836e+01   \n",
       "\n",
       "                 pH     sulphates       alcohol  \n",
       "count  3.918000e+03  3.918000e+03  3.918000e+03  \n",
       "mean  -9.879228e-16 -4.488497e-17  2.466407e-16  \n",
       "std    1.000128e+00  1.000128e+00  1.000128e+00  \n",
       "min   -3.121664e+00 -2.373619e+00 -2.033949e+00  \n",
       "25%   -6.521680e-01 -6.929199e-01 -8.930407e-01  \n",
       "50%   -5.147978e-02 -1.621727e-01 -1.595994e-01  \n",
       "75%    6.159516e-01  5.454901e-01  7.368289e-01  \n",
       "max    4.153338e+00  5.233756e+00  3.018646e+00  "
      ]
     },
     "execution_count": 90,
     "metadata": {},
     "output_type": "execute_result"
    }
   ],
   "source": [
    "X_train_white_scaled.describe()"
   ]
  },
  {
   "cell_type": "code",
   "execution_count": 91,
   "metadata": {},
   "outputs": [
    {
     "data": {
      "text/html": [
       "<div>\n",
       "<style scoped>\n",
       "    .dataframe tbody tr th:only-of-type {\n",
       "        vertical-align: middle;\n",
       "    }\n",
       "\n",
       "    .dataframe tbody tr th {\n",
       "        vertical-align: top;\n",
       "    }\n",
       "\n",
       "    .dataframe thead th {\n",
       "        text-align: right;\n",
       "    }\n",
       "</style>\n",
       "<table border=\"1\" class=\"dataframe\">\n",
       "  <thead>\n",
       "    <tr style=\"text-align: right;\">\n",
       "      <th></th>\n",
       "      <th>fixed acidity</th>\n",
       "      <th>volatile acidity</th>\n",
       "      <th>citric acid</th>\n",
       "      <th>residual sugar</th>\n",
       "      <th>chlorides</th>\n",
       "      <th>free sulfur dioxide</th>\n",
       "      <th>total sulfur dioxide</th>\n",
       "      <th>density</th>\n",
       "      <th>pH</th>\n",
       "      <th>sulphates</th>\n",
       "      <th>alcohol</th>\n",
       "    </tr>\n",
       "  </thead>\n",
       "  <tbody>\n",
       "    <tr>\n",
       "      <th>0</th>\n",
       "      <td>-1.216984</td>\n",
       "      <td>-0.219325</td>\n",
       "      <td>-0.407245</td>\n",
       "      <td>-1.050921</td>\n",
       "      <td>-0.145714</td>\n",
       "      <td>0.013740</td>\n",
       "      <td>-0.809026</td>\n",
       "      <td>-1.191671</td>\n",
       "      <td>1.090126</td>\n",
       "      <td>-0.134630</td>\n",
       "      <td>0.654225</td>\n",
       "    </tr>\n",
       "    <tr>\n",
       "      <th>1</th>\n",
       "      <td>0.493309</td>\n",
       "      <td>-0.324687</td>\n",
       "      <td>0.165469</td>\n",
       "      <td>1.433444</td>\n",
       "      <td>0.285379</td>\n",
       "      <td>0.013740</td>\n",
       "      <td>1.456933</td>\n",
       "      <td>1.668610</td>\n",
       "      <td>-0.967681</td>\n",
       "      <td>-0.303997</td>\n",
       "      <td>-1.359829</td>\n",
       "    </tr>\n",
       "    <tr>\n",
       "      <th>2</th>\n",
       "      <td>1.063406</td>\n",
       "      <td>-0.113963</td>\n",
       "      <td>0.001837</td>\n",
       "      <td>-0.927730</td>\n",
       "      <td>0.069833</td>\n",
       "      <td>-0.461839</td>\n",
       "      <td>0.404063</td>\n",
       "      <td>-0.399485</td>\n",
       "      <td>-0.903375</td>\n",
       "      <td>-0.388681</td>\n",
       "      <td>-0.070834</td>\n",
       "    </tr>\n",
       "    <tr>\n",
       "      <th>3</th>\n",
       "      <td>0.835367</td>\n",
       "      <td>4.100521</td>\n",
       "      <td>-1.634491</td>\n",
       "      <td>-0.948262</td>\n",
       "      <td>1.578659</td>\n",
       "      <td>-0.580733</td>\n",
       "      <td>0.724502</td>\n",
       "      <td>-0.048961</td>\n",
       "      <td>-0.903375</td>\n",
       "      <td>0.119421</td>\n",
       "      <td>-1.037580</td>\n",
       "    </tr>\n",
       "    <tr>\n",
       "      <th>4</th>\n",
       "      <td>1.063406</td>\n",
       "      <td>0.412847</td>\n",
       "      <td>-0.079980</td>\n",
       "      <td>-0.763474</td>\n",
       "      <td>-0.415147</td>\n",
       "      <td>-0.996864</td>\n",
       "      <td>-0.809026</td>\n",
       "      <td>-0.925272</td>\n",
       "      <td>0.125529</td>\n",
       "      <td>1.304994</td>\n",
       "      <td>0.895911</td>\n",
       "    </tr>\n",
       "  </tbody>\n",
       "</table>\n",
       "</div>"
      ],
      "text/plain": [
       "   fixed acidity  volatile acidity  citric acid  residual sugar  chlorides  \\\n",
       "0      -1.216984         -0.219325    -0.407245       -1.050921  -0.145714   \n",
       "1       0.493309         -0.324687     0.165469        1.433444   0.285379   \n",
       "2       1.063406         -0.113963     0.001837       -0.927730   0.069833   \n",
       "3       0.835367          4.100521    -1.634491       -0.948262   1.578659   \n",
       "4       1.063406          0.412847    -0.079980       -0.763474  -0.415147   \n",
       "\n",
       "   free sulfur dioxide  total sulfur dioxide   density        pH  sulphates  \\\n",
       "0             0.013740             -0.809026 -1.191671  1.090126  -0.134630   \n",
       "1             0.013740              1.456933  1.668610 -0.967681  -0.303997   \n",
       "2            -0.461839              0.404063 -0.399485 -0.903375  -0.388681   \n",
       "3            -0.580733              0.724502 -0.048961 -0.903375   0.119421   \n",
       "4            -0.996864             -0.809026 -0.925272  0.125529   1.304994   \n",
       "\n",
       "    alcohol  \n",
       "0  0.654225  \n",
       "1 -1.359829  \n",
       "2 -0.070834  \n",
       "3 -1.037580  \n",
       "4  0.895911  "
      ]
     },
     "execution_count": 91,
     "metadata": {},
     "output_type": "execute_result"
    }
   ],
   "source": [
    "X_test_white_scaled = pd.DataFrame(preprocessing.StandardScaler().fit_transform(X_test_white), columns=X_test_white.columns.values)\n",
    "X_test_white_scaled.head()"
   ]
  },
  {
   "cell_type": "code",
   "execution_count": 92,
   "metadata": {},
   "outputs": [
    {
     "data": {
      "text/html": [
       "<div>\n",
       "<style scoped>\n",
       "    .dataframe tbody tr th:only-of-type {\n",
       "        vertical-align: middle;\n",
       "    }\n",
       "\n",
       "    .dataframe tbody tr th {\n",
       "        vertical-align: top;\n",
       "    }\n",
       "\n",
       "    .dataframe thead th {\n",
       "        text-align: right;\n",
       "    }\n",
       "</style>\n",
       "<table border=\"1\" class=\"dataframe\">\n",
       "  <thead>\n",
       "    <tr style=\"text-align: right;\">\n",
       "      <th></th>\n",
       "      <th>fixed acidity</th>\n",
       "      <th>volatile acidity</th>\n",
       "      <th>citric acid</th>\n",
       "      <th>residual sugar</th>\n",
       "      <th>chlorides</th>\n",
       "      <th>free sulfur dioxide</th>\n",
       "      <th>total sulfur dioxide</th>\n",
       "      <th>density</th>\n",
       "      <th>pH</th>\n",
       "      <th>sulphates</th>\n",
       "      <th>alcohol</th>\n",
       "    </tr>\n",
       "  </thead>\n",
       "  <tbody>\n",
       "    <tr>\n",
       "      <th>count</th>\n",
       "      <td>9.800000e+02</td>\n",
       "      <td>9.800000e+02</td>\n",
       "      <td>9.800000e+02</td>\n",
       "      <td>9.800000e+02</td>\n",
       "      <td>9.800000e+02</td>\n",
       "      <td>9.800000e+02</td>\n",
       "      <td>9.800000e+02</td>\n",
       "      <td>9.800000e+02</td>\n",
       "      <td>9.800000e+02</td>\n",
       "      <td>9.800000e+02</td>\n",
       "      <td>9.800000e+02</td>\n",
       "    </tr>\n",
       "    <tr>\n",
       "      <th>mean</th>\n",
       "      <td>2.537653e-17</td>\n",
       "      <td>-3.588966e-16</td>\n",
       "      <td>-6.525392e-17</td>\n",
       "      <td>-1.522592e-16</td>\n",
       "      <td>-3.443957e-16</td>\n",
       "      <td>-7.975480e-17</td>\n",
       "      <td>2.356392e-16</td>\n",
       "      <td>1.770556e-14</td>\n",
       "      <td>7.757967e-16</td>\n",
       "      <td>7.069175e-17</td>\n",
       "      <td>-1.700227e-15</td>\n",
       "    </tr>\n",
       "    <tr>\n",
       "      <th>std</th>\n",
       "      <td>1.000511e+00</td>\n",
       "      <td>1.000511e+00</td>\n",
       "      <td>1.000511e+00</td>\n",
       "      <td>1.000511e+00</td>\n",
       "      <td>1.000511e+00</td>\n",
       "      <td>1.000511e+00</td>\n",
       "      <td>1.000511e+00</td>\n",
       "      <td>1.000511e+00</td>\n",
       "      <td>1.000511e+00</td>\n",
       "      <td>1.000511e+00</td>\n",
       "      <td>1.000511e+00</td>\n",
       "    </tr>\n",
       "    <tr>\n",
       "      <th>min</th>\n",
       "      <td>-3.497374e+00</td>\n",
       "      <td>-1.852438e+00</td>\n",
       "      <td>-2.779920e+00</td>\n",
       "      <td>-1.133049e+00</td>\n",
       "      <td>-1.923973e+00</td>\n",
       "      <td>-1.888573e+00</td>\n",
       "      <td>-2.914766e+00</td>\n",
       "      <td>-2.320360e+00</td>\n",
       "      <td>-2.703956e+00</td>\n",
       "      <td>-2.251724e+00</td>\n",
       "      <td>-2.084888e+00</td>\n",
       "    </tr>\n",
       "    <tr>\n",
       "      <th>25%</th>\n",
       "      <td>-6.468862e-01</td>\n",
       "      <td>-6.407736e-01</td>\n",
       "      <td>-5.708780e-01</td>\n",
       "      <td>-9.071978e-01</td>\n",
       "      <td>-4.825055e-01</td>\n",
       "      <td>-7.590749e-01</td>\n",
       "      <td>-7.174721e-01</td>\n",
       "      <td>-7.640309e-01</td>\n",
       "      <td>-6.461488e-01</td>\n",
       "      <td>-7.274162e-01</td>\n",
       "      <td>-8.764559e-01</td>\n",
       "    </tr>\n",
       "    <tr>\n",
       "      <th>50%</th>\n",
       "      <td>-7.678865e-02</td>\n",
       "      <td>-1.139631e-01</td>\n",
       "      <td>-1.617961e-01</td>\n",
       "      <td>-2.296435e-01</td>\n",
       "      <td>-1.457139e-01</td>\n",
       "      <td>-4.570767e-02</td>\n",
       "      <td>-7.659466e-02</td>\n",
       "      <td>-1.523655e-01</td>\n",
       "      <td>-6.739056e-02</td>\n",
       "      <td>-1.346299e-01</td>\n",
       "      <td>-7.083441e-02</td>\n",
       "    </tr>\n",
       "    <tr>\n",
       "      <th>75%</th>\n",
       "      <td>6.073284e-01</td>\n",
       "      <td>4.128474e-01</td>\n",
       "      <td>4.927350e-01</td>\n",
       "      <td>6.121663e-01</td>\n",
       "      <td>2.853793e-01</td>\n",
       "      <td>6.676596e-01</td>\n",
       "      <td>6.329482e-01</td>\n",
       "      <td>7.143065e-01</td>\n",
       "      <td>5.756741e-01</td>\n",
       "      <td>5.428402e-01</td>\n",
       "      <td>6.542249e-01</td>\n",
       "    </tr>\n",
       "    <tr>\n",
       "      <th>max</th>\n",
       "      <td>3.913894e+00</td>\n",
       "      <td>4.363926e+00</td>\n",
       "      <td>4.665370e+00</td>\n",
       "      <td>3.260787e+00</td>\n",
       "      <td>8.422263e+00</td>\n",
       "      <td>4.977587e+00</td>\n",
       "      <td>5.267865e+00</td>\n",
       "      <td>2.509869e+00</td>\n",
       "      <td>4.048224e+00</td>\n",
       "      <td>4.353609e+00</td>\n",
       "      <td>2.668279e+00</td>\n",
       "    </tr>\n",
       "  </tbody>\n",
       "</table>\n",
       "</div>"
      ],
      "text/plain": [
       "       fixed acidity  volatile acidity   citric acid  residual sugar  \\\n",
       "count   9.800000e+02      9.800000e+02  9.800000e+02    9.800000e+02   \n",
       "mean    2.537653e-17     -3.588966e-16 -6.525392e-17   -1.522592e-16   \n",
       "std     1.000511e+00      1.000511e+00  1.000511e+00    1.000511e+00   \n",
       "min    -3.497374e+00     -1.852438e+00 -2.779920e+00   -1.133049e+00   \n",
       "25%    -6.468862e-01     -6.407736e-01 -5.708780e-01   -9.071978e-01   \n",
       "50%    -7.678865e-02     -1.139631e-01 -1.617961e-01   -2.296435e-01   \n",
       "75%     6.073284e-01      4.128474e-01  4.927350e-01    6.121663e-01   \n",
       "max     3.913894e+00      4.363926e+00  4.665370e+00    3.260787e+00   \n",
       "\n",
       "          chlorides  free sulfur dioxide  total sulfur dioxide       density  \\\n",
       "count  9.800000e+02         9.800000e+02          9.800000e+02  9.800000e+02   \n",
       "mean  -3.443957e-16        -7.975480e-17          2.356392e-16  1.770556e-14   \n",
       "std    1.000511e+00         1.000511e+00          1.000511e+00  1.000511e+00   \n",
       "min   -1.923973e+00        -1.888573e+00         -2.914766e+00 -2.320360e+00   \n",
       "25%   -4.825055e-01        -7.590749e-01         -7.174721e-01 -7.640309e-01   \n",
       "50%   -1.457139e-01        -4.570767e-02         -7.659466e-02 -1.523655e-01   \n",
       "75%    2.853793e-01         6.676596e-01          6.329482e-01  7.143065e-01   \n",
       "max    8.422263e+00         4.977587e+00          5.267865e+00  2.509869e+00   \n",
       "\n",
       "                 pH     sulphates       alcohol  \n",
       "count  9.800000e+02  9.800000e+02  9.800000e+02  \n",
       "mean   7.757967e-16  7.069175e-17 -1.700227e-15  \n",
       "std    1.000511e+00  1.000511e+00  1.000511e+00  \n",
       "min   -2.703956e+00 -2.251724e+00 -2.084888e+00  \n",
       "25%   -6.461488e-01 -7.274162e-01 -8.764559e-01  \n",
       "50%   -6.739056e-02 -1.346299e-01 -7.083441e-02  \n",
       "75%    5.756741e-01  5.428402e-01  6.542249e-01  \n",
       "max    4.048224e+00  4.353609e+00  2.668279e+00  "
      ]
     },
     "execution_count": 92,
     "metadata": {},
     "output_type": "execute_result"
    }
   ],
   "source": [
    "X_test_white_scaled.describe()"
   ]
  },
  {
   "cell_type": "markdown",
   "metadata": {},
   "source": [
    "## 1.4- SVM\n",
    "\n",
    "In the case of the simple SVM we used \"linear\" as the value for the kernel parameter. However, for kernel SVM you can use Gaussian, polynomial, sigmoid, or computable kernel. We will implement linear, polynomial, Gaussian, and sigmoid kernels to see which one works better for our problem.\n",
    "\n",
    "### 1.4.1- Linear kernel\n",
    "#### 1.4.1.1- Training the algorithm\n",
    "\n",
    "We have divided the data into training and testing sets. Now is the time to train our SVM on the training data. \n",
    "\n",
    "#### 1.4.1.1.1- Red wine"
   ]
  },
  {
   "cell_type": "code",
   "execution_count": 96,
   "metadata": {},
   "outputs": [
    {
     "data": {
      "text/plain": [
       "SVC(kernel='linear')"
      ]
     },
     "execution_count": 96,
     "metadata": {},
     "output_type": "execute_result"
    }
   ],
   "source": [
    "#  SVC class is called to train the algorithm on the training data\n",
    "red_linear_svclassifier = SVC(kernel='linear')\n",
    "red_linear_svclassifier.fit(X_train_red_scaled, y_train_red)"
   ]
  },
  {
   "cell_type": "code",
   "execution_count": 97,
   "metadata": {},
   "outputs": [
    {
     "data": {
      "text/plain": [
       "0.953125"
      ]
     },
     "execution_count": 97,
     "metadata": {},
     "output_type": "execute_result"
    }
   ],
   "source": [
    "accuracy_score(y_test_red, red_linear_svclassifier.predict(X_test_red_scaled))"
   ]
  },
  {
   "cell_type": "markdown",
   "metadata": {},
   "source": [
    "##### 1.4.1.1.2- White wine"
   ]
  },
  {
   "cell_type": "code",
   "execution_count": 98,
   "metadata": {},
   "outputs": [
    {
     "data": {
      "text/plain": [
       "SVC(kernel='linear')"
      ]
     },
     "execution_count": 98,
     "metadata": {},
     "output_type": "execute_result"
    }
   ],
   "source": [
    "#  SVC class is called to train the algorithm on the training data\n",
    "white_linear_svclassifier = SVC(kernel='linear')\n",
    "white_linear_svclassifier.fit(X_train_white_scaled, y_train_white)"
   ]
  },
  {
   "cell_type": "code",
   "execution_count": 99,
   "metadata": {},
   "outputs": [
    {
     "data": {
      "text/plain": [
       "0.9275510204081633"
      ]
     },
     "execution_count": 99,
     "metadata": {},
     "output_type": "execute_result"
    }
   ],
   "source": [
    "accuracy_score(y_test_white, white_linear_svclassifier.predict(X_test_white_scaled))"
   ]
  },
  {
   "cell_type": "markdown",
   "metadata": {},
   "source": [
    "#### 1.4.1.2- Making predictions\n",
    "\n",
    "##### 1.4.1.2.1- Red wine"
   ]
  },
  {
   "cell_type": "code",
   "execution_count": 100,
   "metadata": {},
   "outputs": [],
   "source": [
    "y_pred_red_linear = red_linear_svclassifier.predict(X_test_red_scaled)"
   ]
  },
  {
   "cell_type": "markdown",
   "metadata": {},
   "source": [
    "##### 1.4.1.2.2- White wine"
   ]
  },
  {
   "cell_type": "code",
   "execution_count": 101,
   "metadata": {},
   "outputs": [],
   "source": [
    "y_pred_white_linear = white_linear_svclassifier.predict(X_test_white_scaled)"
   ]
  },
  {
   "cell_type": "markdown",
   "metadata": {},
   "source": [
    "#### 1.4.1.3- Evaluating the algorithm\n",
    "\n",
    "##### 1.4.1.3.1- Red wine"
   ]
  },
  {
   "cell_type": "code",
   "execution_count": 103,
   "metadata": {},
   "outputs": [
    {
     "name": "stdout",
     "output_type": "stream",
     "text": [
      "[[  0   0   2]\n",
      " [  0   0  13]\n",
      " [  0   0 305]]\n",
      "              precision    recall  f1-score   support\n",
      "\n",
      "        high       0.00      0.00      0.00         2\n",
      "         low       0.00      0.00      0.00        13\n",
      "      medium       0.95      1.00      0.98       305\n",
      "\n",
      "    accuracy                           0.95       320\n",
      "   macro avg       0.32      0.33      0.33       320\n",
      "weighted avg       0.91      0.95      0.93       320\n",
      "\n",
      "0.953125\n"
     ]
    },
    {
     "name": "stderr",
     "output_type": "stream",
     "text": [
      "c:\\users\\usuario\\appdata\\local\\programs\\python\\python37\\lib\\site-packages\\sklearn\\metrics\\_classification.py:1221: UndefinedMetricWarning: Precision and F-score are ill-defined and being set to 0.0 in labels with no predicted samples. Use `zero_division` parameter to control this behavior.\n",
      "  _warn_prf(average, modifier, msg_start, len(result))\n"
     ]
    }
   ],
   "source": [
    "print(confusion_matrix(y_test_red, y_pred_red_linear))\n",
    "print(classification_report(y_test_red, y_pred_red_linear))\n",
    "print(accuracy_score(y_test_red, y_pred_red_linear))"
   ]
  },
  {
   "cell_type": "markdown",
   "metadata": {},
   "source": [
    "##### 1.4.1.3.2- White wine"
   ]
  },
  {
   "cell_type": "code",
   "execution_count": 104,
   "metadata": {},
   "outputs": [
    {
     "name": "stdout",
     "output_type": "stream",
     "text": [
      "[[  0   0  30]\n",
      " [  0   0  41]\n",
      " [  0   0 909]]\n",
      "              precision    recall  f1-score   support\n",
      "\n",
      "        high       0.00      0.00      0.00        30\n",
      "         low       0.00      0.00      0.00        41\n",
      "      medium       0.93      1.00      0.96       909\n",
      "\n",
      "    accuracy                           0.93       980\n",
      "   macro avg       0.31      0.33      0.32       980\n",
      "weighted avg       0.86      0.93      0.89       980\n",
      "\n",
      "0.9275510204081633\n"
     ]
    }
   ],
   "source": [
    "print(confusion_matrix(y_test_white, y_pred_white_linear))\n",
    "print(classification_report(y_test_white, y_pred_white_linear))\n",
    "print(accuracy_score(y_test_white, y_pred_white_linear))"
   ]
  },
  {
   "cell_type": "markdown",
   "metadata": {},
   "source": [
    "### 1.4.2- Polynomial kernel\n",
    "\n",
    "#### 1.4.2.1- Training the algorithm\n",
    "\n",
    "##### 1.4.2.1.1- Red wine"
   ]
  },
  {
   "cell_type": "code",
   "execution_count": 105,
   "metadata": {},
   "outputs": [
    {
     "data": {
      "text/plain": [
       "SVC(degree=8, kernel='poly')"
      ]
     },
     "execution_count": 105,
     "metadata": {},
     "output_type": "execute_result"
    }
   ],
   "source": [
    "red_poly_svclassifier = SVC(kernel='poly', degree=8)\n",
    "red_poly_svclassifier.fit(X_train_red_scaled, y_train_red)"
   ]
  },
  {
   "cell_type": "markdown",
   "metadata": {},
   "source": [
    "##### 1.4.2.1.2- White wine"
   ]
  },
  {
   "cell_type": "code",
   "execution_count": 106,
   "metadata": {},
   "outputs": [
    {
     "data": {
      "text/plain": [
       "SVC(degree=8, kernel='poly')"
      ]
     },
     "execution_count": 106,
     "metadata": {},
     "output_type": "execute_result"
    }
   ],
   "source": [
    "white_poly_svclassifier = SVC(kernel='poly', degree=8)\n",
    "white_poly_svclassifier.fit(X_train_white_scaled, y_train_white)"
   ]
  },
  {
   "cell_type": "markdown",
   "metadata": {},
   "source": [
    "#### 1.4.2.2- Making predictions\n",
    "\n",
    "##### 1.4.2.2.1- Red wine"
   ]
  },
  {
   "cell_type": "code",
   "execution_count": 107,
   "metadata": {},
   "outputs": [],
   "source": [
    "y_pred_red_poly = red_poly_svclassifier.predict(X_test_red_scaled)"
   ]
  },
  {
   "cell_type": "markdown",
   "metadata": {},
   "source": [
    "##### 1.4.2.2.2- White wine"
   ]
  },
  {
   "cell_type": "code",
   "execution_count": 108,
   "metadata": {},
   "outputs": [],
   "source": [
    "y_pred_white_poly = white_poly_svclassifier.predict(X_test_white_scaled)"
   ]
  },
  {
   "cell_type": "markdown",
   "metadata": {},
   "source": [
    "#### 1.4.2.3- Evaluating the algorithm\n",
    "\n",
    "##### 1.4.2.3.1- Red wine"
   ]
  },
  {
   "cell_type": "code",
   "execution_count": 109,
   "metadata": {},
   "outputs": [
    {
     "name": "stdout",
     "output_type": "stream",
     "text": [
      "[[  0   0   2]\n",
      " [  0   3  10]\n",
      " [  2   6 297]]\n",
      "              precision    recall  f1-score   support\n",
      "\n",
      "        high       0.00      0.00      0.00         2\n",
      "         low       0.33      0.23      0.27        13\n",
      "      medium       0.96      0.97      0.97       305\n",
      "\n",
      "    accuracy                           0.94       320\n",
      "   macro avg       0.43      0.40      0.41       320\n",
      "weighted avg       0.93      0.94      0.93       320\n",
      "\n",
      "0.9375\n"
     ]
    }
   ],
   "source": [
    "print(confusion_matrix(y_test_red, y_pred_red_poly))\n",
    "print(classification_report(y_test_red, y_pred_red_poly))\n",
    "print(accuracy_score(y_test_red, y_pred_red_poly))"
   ]
  },
  {
   "cell_type": "markdown",
   "metadata": {},
   "source": [
    "##### 1.4.2.3.2- White wine"
   ]
  },
  {
   "cell_type": "code",
   "execution_count": 110,
   "metadata": {},
   "outputs": [
    {
     "name": "stdout",
     "output_type": "stream",
     "text": [
      "[[  7   0  23]\n",
      " [  1   5  35]\n",
      " [  8   9 892]]\n",
      "              precision    recall  f1-score   support\n",
      "\n",
      "        high       0.44      0.23      0.30        30\n",
      "         low       0.36      0.12      0.18        41\n",
      "      medium       0.94      0.98      0.96       909\n",
      "\n",
      "    accuracy                           0.92       980\n",
      "   macro avg       0.58      0.45      0.48       980\n",
      "weighted avg       0.90      0.92      0.91       980\n",
      "\n",
      "0.9224489795918367\n"
     ]
    }
   ],
   "source": [
    "print(confusion_matrix(y_test_white, y_pred_white_poly))\n",
    "print(classification_report(y_test_white, y_pred_white_poly))\n",
    "print(accuracy_score(y_test_white, y_pred_white_poly))"
   ]
  },
  {
   "cell_type": "markdown",
   "metadata": {},
   "source": [
    "### 1.4.3- Gaussian kernel\n",
    "\n",
    "#### 1.4.3.1- Training the algorithm\n",
    "\n",
    "##### 1.4.3.1.1- Red wine"
   ]
  },
  {
   "cell_type": "code",
   "execution_count": 111,
   "metadata": {},
   "outputs": [
    {
     "data": {
      "text/plain": [
       "SVC()"
      ]
     },
     "execution_count": 111,
     "metadata": {},
     "output_type": "execute_result"
    }
   ],
   "source": [
    "red_gaussian_svclassifier = SVC(kernel='rbf')\n",
    "red_gaussian_svclassifier.fit(X_train_red_scaled, y_train_red)"
   ]
  },
  {
   "cell_type": "markdown",
   "metadata": {},
   "source": [
    "##### 1.4.3.1.2- White wine"
   ]
  },
  {
   "cell_type": "code",
   "execution_count": 112,
   "metadata": {},
   "outputs": [
    {
     "data": {
      "text/plain": [
       "SVC()"
      ]
     },
     "execution_count": 112,
     "metadata": {},
     "output_type": "execute_result"
    }
   ],
   "source": [
    "white_gaussian_svclassifier = SVC(kernel='rbf')\n",
    "white_gaussian_svclassifier.fit(X_train_white_scaled, y_train_white)"
   ]
  },
  {
   "cell_type": "markdown",
   "metadata": {},
   "source": [
    "#### 1.4.3.2- Making prediction\n",
    "\n",
    "##### 1.4.3.2.1- Red wine"
   ]
  },
  {
   "cell_type": "code",
   "execution_count": 113,
   "metadata": {},
   "outputs": [],
   "source": [
    "y_pred_red_gaussian= red_gaussian_svclassifier.predict(X_test_red_scaled)"
   ]
  },
  {
   "cell_type": "markdown",
   "metadata": {},
   "source": [
    "##### 1.4.3.2.2- White wine"
   ]
  },
  {
   "cell_type": "code",
   "execution_count": 114,
   "metadata": {},
   "outputs": [],
   "source": [
    "y_pred_white_gaussian= white_gaussian_svclassifier.predict(X_test_white_scaled)"
   ]
  },
  {
   "cell_type": "markdown",
   "metadata": {},
   "source": [
    "#### 1.4.3.3- Evaluating the algorithm\n",
    "\n",
    "##### 1.4.3.3.1- Red wine"
   ]
  },
  {
   "cell_type": "code",
   "execution_count": 115,
   "metadata": {},
   "outputs": [
    {
     "name": "stdout",
     "output_type": "stream",
     "text": [
      "[[  0   0   2]\n",
      " [  0   0  13]\n",
      " [  0   0 305]]\n",
      "              precision    recall  f1-score   support\n",
      "\n",
      "        high       0.00      0.00      0.00         2\n",
      "         low       0.00      0.00      0.00        13\n",
      "      medium       0.95      1.00      0.98       305\n",
      "\n",
      "    accuracy                           0.95       320\n",
      "   macro avg       0.32      0.33      0.33       320\n",
      "weighted avg       0.91      0.95      0.93       320\n",
      "\n",
      "0.953125\n"
     ]
    },
    {
     "name": "stderr",
     "output_type": "stream",
     "text": [
      "c:\\users\\usuario\\appdata\\local\\programs\\python\\python37\\lib\\site-packages\\sklearn\\metrics\\_classification.py:1221: UndefinedMetricWarning: Precision and F-score are ill-defined and being set to 0.0 in labels with no predicted samples. Use `zero_division` parameter to control this behavior.\n",
      "  _warn_prf(average, modifier, msg_start, len(result))\n"
     ]
    }
   ],
   "source": [
    "print(confusion_matrix(y_test_red, y_pred_red_gaussian))\n",
    "print(classification_report(y_test_red, y_pred_red_gaussian))\n",
    "print(accuracy_score(y_test_red, y_pred_red_gaussian))"
   ]
  },
  {
   "cell_type": "markdown",
   "metadata": {},
   "source": [
    "##### 1.4.3.3.2- White wine"
   ]
  },
  {
   "cell_type": "code",
   "execution_count": 117,
   "metadata": {},
   "outputs": [
    {
     "name": "stdout",
     "output_type": "stream",
     "text": [
      "[[  0   0  30]\n",
      " [  0   0  41]\n",
      " [  0   1 908]]\n",
      "              precision    recall  f1-score   support\n",
      "\n",
      "        high       0.00      0.00      0.00        30\n",
      "         low       0.00      0.00      0.00        41\n",
      "      medium       0.93      1.00      0.96       909\n",
      "\n",
      "    accuracy                           0.93       980\n",
      "   macro avg       0.31      0.33      0.32       980\n",
      "weighted avg       0.86      0.93      0.89       980\n",
      "\n",
      "0.926530612244898\n"
     ]
    }
   ],
   "source": [
    "print(confusion_matrix(y_test_white, y_pred_white_gaussian))\n",
    "print(classification_report(y_test_white, y_pred_white_gaussian))\n",
    "print(accuracy_score(y_test_white, y_pred_white_gaussian))"
   ]
  },
  {
   "cell_type": "markdown",
   "metadata": {},
   "source": [
    "### 1.4.4- Sigmoid kernel\n",
    "\n",
    "#### 1.4.4.1- Training the algorithm\n",
    "\n",
    "##### 1.4.4.1.1- Red wine"
   ]
  },
  {
   "cell_type": "code",
   "execution_count": 118,
   "metadata": {},
   "outputs": [
    {
     "data": {
      "text/plain": [
       "SVC(kernel='sigmoid')"
      ]
     },
     "execution_count": 118,
     "metadata": {},
     "output_type": "execute_result"
    }
   ],
   "source": [
    "red_sigmoid_svclassifier = SVC(kernel='sigmoid')\n",
    "red_sigmoid_svclassifier.fit(X_train_red_scaled, y_train_red)"
   ]
  },
  {
   "cell_type": "markdown",
   "metadata": {},
   "source": [
    "##### 1.4.4.1.2- White wine"
   ]
  },
  {
   "cell_type": "code",
   "execution_count": 119,
   "metadata": {},
   "outputs": [
    {
     "data": {
      "text/plain": [
       "SVC(kernel='sigmoid')"
      ]
     },
     "execution_count": 119,
     "metadata": {},
     "output_type": "execute_result"
    }
   ],
   "source": [
    "white_sigmoid_svclassifier = SVC(kernel='sigmoid')\n",
    "white_sigmoid_svclassifier.fit(X_train_white_scaled, y_train_white)"
   ]
  },
  {
   "cell_type": "markdown",
   "metadata": {},
   "source": [
    "#### 1.4.4.2- Making prediction\n",
    "\n",
    "##### 1.4.4.2.1- Red wine"
   ]
  },
  {
   "cell_type": "code",
   "execution_count": 120,
   "metadata": {},
   "outputs": [],
   "source": [
    "y_pred_red_sigmoid= red_sigmoid_svclassifier.predict(X_test_red_scaled)"
   ]
  },
  {
   "cell_type": "markdown",
   "metadata": {},
   "source": [
    "##### 1.4.4.2.2- White wine"
   ]
  },
  {
   "cell_type": "code",
   "execution_count": 121,
   "metadata": {},
   "outputs": [],
   "source": [
    "y_pred_white_sigmoid= red_sigmoid_svclassifier.predict(X_test_white_scaled)"
   ]
  },
  {
   "cell_type": "markdown",
   "metadata": {},
   "source": [
    "#### 1.4.4.3- Evaluating the algorithm\n",
    "\n",
    "##### 1.4.4.3.1- Red wine"
   ]
  },
  {
   "cell_type": "code",
   "execution_count": 122,
   "metadata": {},
   "outputs": [
    {
     "name": "stdout",
     "output_type": "stream",
     "text": [
      "[[  0   0   2]\n",
      " [  0   1  12]\n",
      " [  0   1 304]]\n",
      "              precision    recall  f1-score   support\n",
      "\n",
      "        high       0.00      0.00      0.00         2\n",
      "         low       0.50      0.08      0.13        13\n",
      "      medium       0.96      1.00      0.98       305\n",
      "\n",
      "    accuracy                           0.95       320\n",
      "   macro avg       0.49      0.36      0.37       320\n",
      "weighted avg       0.93      0.95      0.94       320\n",
      "\n",
      "0.953125\n"
     ]
    },
    {
     "name": "stderr",
     "output_type": "stream",
     "text": [
      "c:\\users\\usuario\\appdata\\local\\programs\\python\\python37\\lib\\site-packages\\sklearn\\metrics\\_classification.py:1221: UndefinedMetricWarning: Precision and F-score are ill-defined and being set to 0.0 in labels with no predicted samples. Use `zero_division` parameter to control this behavior.\n",
      "  _warn_prf(average, modifier, msg_start, len(result))\n"
     ]
    }
   ],
   "source": [
    "print(confusion_matrix(y_test_red, y_pred_red_sigmoid))\n",
    "print(classification_report(y_test_red, y_pred_red_sigmoid))\n",
    "print(accuracy_score(y_test_red, y_pred_red_sigmoid))"
   ]
  },
  {
   "cell_type": "markdown",
   "metadata": {},
   "source": [
    "##### 1.4.4.3.2- White wine"
   ]
  },
  {
   "cell_type": "code",
   "execution_count": 123,
   "metadata": {},
   "outputs": [
    {
     "name": "stdout",
     "output_type": "stream",
     "text": [
      "[[  0   0  30]\n",
      " [  0   1  40]\n",
      " [  4   3 902]]\n",
      "              precision    recall  f1-score   support\n",
      "\n",
      "        high       0.00      0.00      0.00        30\n",
      "         low       0.25      0.02      0.04        41\n",
      "      medium       0.93      0.99      0.96       909\n",
      "\n",
      "    accuracy                           0.92       980\n",
      "   macro avg       0.39      0.34      0.33       980\n",
      "weighted avg       0.87      0.92      0.89       980\n",
      "\n",
      "0.9214285714285714\n"
     ]
    }
   ],
   "source": [
    "print(confusion_matrix(y_test_white, y_pred_white_sigmoid))\n",
    "print(classification_report(y_test_white, y_pred_white_sigmoid))\n",
    "print(accuracy_score(y_test_white, y_pred_white_sigmoid))"
   ]
  },
  {
   "cell_type": "markdown",
   "metadata": {},
   "source": [
    "## 1.5- Decision Tree\n",
    "\n",
    "A decision tree is one of most frequently and widely used supervised machine learning algorithms that can perform both regression and classification tasks. The intuition behind the decision tree algorithm is simple, yet also very powerful.\n",
    "\n",
    "For each attribute in the dataset, the decision tree algorithm forms a node, where the most important attribute is placed at the root node. For evaluation we start at the root node and work our way down the tree by following the corresponding node that meets our condition or \"decision\". This process continues until a leaf node is reached, which contains the prediction or the outcome of the decision tree.\n",
    "\n",
    "There are several advantages of using decision treess for predictive analysis:\n",
    "\n",
    "1- Decision trees can be used to predict both continuous and discrete values i.e. they work well for both regression and classification tasks.\n",
    "\n",
    "2- They require relatively less effort for training the algorithm.\n",
    "\n",
    "3- They can be used to classify non-linearly separable data.\n",
    "\n",
    "4- They're very fast and efficient compared to KNN and other classification algorithms.\n",
    "\n",
    "### 1.5.1- Training the algorithm\n",
    "\n",
    "#### 1.5.1.1- Red wine"
   ]
  },
  {
   "cell_type": "code",
   "execution_count": 124,
   "metadata": {},
   "outputs": [
    {
     "data": {
      "text/plain": [
       "DecisionTreeClassifier()"
      ]
     },
     "execution_count": 124,
     "metadata": {},
     "output_type": "execute_result"
    }
   ],
   "source": [
    "red_tree_classifier = DecisionTreeClassifier()\n",
    "red_tree_classifier.fit(X_train_red_scaled, y_train_red)"
   ]
  },
  {
   "cell_type": "markdown",
   "metadata": {},
   "source": [
    "#### 1.5.1.2- White wine"
   ]
  },
  {
   "cell_type": "code",
   "execution_count": 125,
   "metadata": {
    "scrolled": true
   },
   "outputs": [
    {
     "data": {
      "text/plain": [
       "DecisionTreeClassifier()"
      ]
     },
     "execution_count": 125,
     "metadata": {},
     "output_type": "execute_result"
    }
   ],
   "source": [
    "white_tree_classifier = DecisionTreeClassifier()\n",
    "white_tree_classifier.fit(X_train_white_scaled, y_train_white)"
   ]
  },
  {
   "cell_type": "markdown",
   "metadata": {},
   "source": [
    "### 1.5.2- Making prediction\n",
    "\n",
    "#### 1.5.2.1- Red wine"
   ]
  },
  {
   "cell_type": "code",
   "execution_count": 126,
   "metadata": {},
   "outputs": [],
   "source": [
    "y_pred_red_tree = red_tree_classifier.predict(X_test_red_scaled)"
   ]
  },
  {
   "cell_type": "code",
   "execution_count": 127,
   "metadata": {},
   "outputs": [
    {
     "data": {
      "text/html": [
       "<div>\n",
       "<style scoped>\n",
       "    .dataframe tbody tr th:only-of-type {\n",
       "        vertical-align: middle;\n",
       "    }\n",
       "\n",
       "    .dataframe tbody tr th {\n",
       "        vertical-align: top;\n",
       "    }\n",
       "\n",
       "    .dataframe thead th {\n",
       "        text-align: right;\n",
       "    }\n",
       "</style>\n",
       "<table border=\"1\" class=\"dataframe\">\n",
       "  <thead>\n",
       "    <tr style=\"text-align: right;\">\n",
       "      <th></th>\n",
       "      <th>Actual</th>\n",
       "      <th>Predicted</th>\n",
       "    </tr>\n",
       "  </thead>\n",
       "  <tbody>\n",
       "    <tr>\n",
       "      <th>31</th>\n",
       "      <td>medium</td>\n",
       "      <td>medium</td>\n",
       "    </tr>\n",
       "    <tr>\n",
       "      <th>883</th>\n",
       "      <td>medium</td>\n",
       "      <td>medium</td>\n",
       "    </tr>\n",
       "    <tr>\n",
       "      <th>592</th>\n",
       "      <td>medium</td>\n",
       "      <td>medium</td>\n",
       "    </tr>\n",
       "    <tr>\n",
       "      <th>552</th>\n",
       "      <td>medium</td>\n",
       "      <td>medium</td>\n",
       "    </tr>\n",
       "    <tr>\n",
       "      <th>360</th>\n",
       "      <td>medium</td>\n",
       "      <td>medium</td>\n",
       "    </tr>\n",
       "    <tr>\n",
       "      <th>...</th>\n",
       "      <td>...</td>\n",
       "      <td>...</td>\n",
       "    </tr>\n",
       "    <tr>\n",
       "      <th>734</th>\n",
       "      <td>medium</td>\n",
       "      <td>medium</td>\n",
       "    </tr>\n",
       "    <tr>\n",
       "      <th>1224</th>\n",
       "      <td>medium</td>\n",
       "      <td>medium</td>\n",
       "    </tr>\n",
       "    <tr>\n",
       "      <th>1187</th>\n",
       "      <td>medium</td>\n",
       "      <td>medium</td>\n",
       "    </tr>\n",
       "    <tr>\n",
       "      <th>1183</th>\n",
       "      <td>medium</td>\n",
       "      <td>medium</td>\n",
       "    </tr>\n",
       "    <tr>\n",
       "      <th>1563</th>\n",
       "      <td>medium</td>\n",
       "      <td>medium</td>\n",
       "    </tr>\n",
       "  </tbody>\n",
       "</table>\n",
       "<p>320 rows × 2 columns</p>\n",
       "</div>"
      ],
      "text/plain": [
       "      Actual Predicted\n",
       "31    medium    medium\n",
       "883   medium    medium\n",
       "592   medium    medium\n",
       "552   medium    medium\n",
       "360   medium    medium\n",
       "...      ...       ...\n",
       "734   medium    medium\n",
       "1224  medium    medium\n",
       "1187  medium    medium\n",
       "1183  medium    medium\n",
       "1563  medium    medium\n",
       "\n",
       "[320 rows x 2 columns]"
      ]
     },
     "execution_count": 127,
     "metadata": {},
     "output_type": "execute_result"
    }
   ],
   "source": [
    "df=pd.DataFrame({'Actual':y_test_red, 'Predicted':y_pred_red_tree})\n",
    "df"
   ]
  },
  {
   "cell_type": "markdown",
   "metadata": {},
   "source": [
    "#### 1.5.2.2- White wine"
   ]
  },
  {
   "cell_type": "code",
   "execution_count": 128,
   "metadata": {},
   "outputs": [],
   "source": [
    "y_pred_white_tree = white_tree_classifier.predict(X_test_white_scaled)"
   ]
  },
  {
   "cell_type": "code",
   "execution_count": 129,
   "metadata": {},
   "outputs": [
    {
     "data": {
      "text/html": [
       "<div>\n",
       "<style scoped>\n",
       "    .dataframe tbody tr th:only-of-type {\n",
       "        vertical-align: middle;\n",
       "    }\n",
       "\n",
       "    .dataframe tbody tr th {\n",
       "        vertical-align: top;\n",
       "    }\n",
       "\n",
       "    .dataframe thead th {\n",
       "        text-align: right;\n",
       "    }\n",
       "</style>\n",
       "<table border=\"1\" class=\"dataframe\">\n",
       "  <thead>\n",
       "    <tr style=\"text-align: right;\">\n",
       "      <th></th>\n",
       "      <th>Actual</th>\n",
       "      <th>Predicted</th>\n",
       "    </tr>\n",
       "  </thead>\n",
       "  <tbody>\n",
       "    <tr>\n",
       "      <th>4647</th>\n",
       "      <td>medium</td>\n",
       "      <td>medium</td>\n",
       "    </tr>\n",
       "    <tr>\n",
       "      <th>1397</th>\n",
       "      <td>medium</td>\n",
       "      <td>medium</td>\n",
       "    </tr>\n",
       "    <tr>\n",
       "      <th>995</th>\n",
       "      <td>medium</td>\n",
       "      <td>medium</td>\n",
       "    </tr>\n",
       "    <tr>\n",
       "      <th>23</th>\n",
       "      <td>medium</td>\n",
       "      <td>low</td>\n",
       "    </tr>\n",
       "    <tr>\n",
       "      <th>616</th>\n",
       "      <td>medium</td>\n",
       "      <td>medium</td>\n",
       "    </tr>\n",
       "    <tr>\n",
       "      <th>...</th>\n",
       "      <td>...</td>\n",
       "      <td>...</td>\n",
       "    </tr>\n",
       "    <tr>\n",
       "      <th>1080</th>\n",
       "      <td>medium</td>\n",
       "      <td>medium</td>\n",
       "    </tr>\n",
       "    <tr>\n",
       "      <th>2670</th>\n",
       "      <td>medium</td>\n",
       "      <td>medium</td>\n",
       "    </tr>\n",
       "    <tr>\n",
       "      <th>2044</th>\n",
       "      <td>medium</td>\n",
       "      <td>medium</td>\n",
       "    </tr>\n",
       "    <tr>\n",
       "      <th>1724</th>\n",
       "      <td>medium</td>\n",
       "      <td>medium</td>\n",
       "    </tr>\n",
       "    <tr>\n",
       "      <th>4701</th>\n",
       "      <td>medium</td>\n",
       "      <td>medium</td>\n",
       "    </tr>\n",
       "  </tbody>\n",
       "</table>\n",
       "<p>980 rows × 2 columns</p>\n",
       "</div>"
      ],
      "text/plain": [
       "      Actual Predicted\n",
       "4647  medium    medium\n",
       "1397  medium    medium\n",
       "995   medium    medium\n",
       "23    medium       low\n",
       "616   medium    medium\n",
       "...      ...       ...\n",
       "1080  medium    medium\n",
       "2670  medium    medium\n",
       "2044  medium    medium\n",
       "1724  medium    medium\n",
       "4701  medium    medium\n",
       "\n",
       "[980 rows x 2 columns]"
      ]
     },
     "execution_count": 129,
     "metadata": {},
     "output_type": "execute_result"
    }
   ],
   "source": [
    "df=pd.DataFrame({'Actual':y_test_white, 'Predicted':y_pred_white_tree})\n",
    "df"
   ]
  },
  {
   "cell_type": "markdown",
   "metadata": {},
   "source": [
    "### 1.5.3-  Evaluating the algorithm\n",
    "\n",
    "#### 1.5.3.1- Red wine"
   ]
  },
  {
   "cell_type": "code",
   "execution_count": 130,
   "metadata": {},
   "outputs": [
    {
     "name": "stdout",
     "output_type": "stream",
     "text": [
      "[[  0   0   2]\n",
      " [  0   3  10]\n",
      " [  8  12 285]]\n",
      "              precision    recall  f1-score   support\n",
      "\n",
      "        high       0.00      0.00      0.00         2\n",
      "         low       0.20      0.23      0.21        13\n",
      "      medium       0.96      0.93      0.95       305\n",
      "\n",
      "    accuracy                           0.90       320\n",
      "   macro avg       0.39      0.39      0.39       320\n",
      "weighted avg       0.92      0.90      0.91       320\n",
      "\n",
      "0.9\n"
     ]
    }
   ],
   "source": [
    "print(confusion_matrix(y_test_red, y_pred_red_tree))\n",
    "print(classification_report(y_test_red, y_pred_red_tree))\n",
    "print(accuracy_score(y_test_red, y_pred_red_tree))"
   ]
  },
  {
   "cell_type": "markdown",
   "metadata": {},
   "source": [
    "#### 1.5.3.2- White wine"
   ]
  },
  {
   "cell_type": "code",
   "execution_count": 131,
   "metadata": {},
   "outputs": [
    {
     "name": "stdout",
     "output_type": "stream",
     "text": [
      "[[  9   1  20]\n",
      " [  2  13  26]\n",
      " [ 32  30 847]]\n",
      "              precision    recall  f1-score   support\n",
      "\n",
      "        high       0.21      0.30      0.25        30\n",
      "         low       0.30      0.32      0.31        41\n",
      "      medium       0.95      0.93      0.94       909\n",
      "\n",
      "    accuracy                           0.89       980\n",
      "   macro avg       0.48      0.52      0.50       980\n",
      "weighted avg       0.90      0.89      0.89       980\n",
      "\n",
      "0.886734693877551\n"
     ]
    }
   ],
   "source": [
    "print(confusion_matrix(y_test_white, y_pred_white_tree))\n",
    "print(classification_report(y_test_white, y_pred_white_tree))\n",
    "print(accuracy_score(y_test_white, y_pred_white_tree))"
   ]
  },
  {
   "cell_type": "markdown",
   "metadata": {},
   "source": [
    "## 1.6- Random Forest\n",
    "\n",
    "### 1.6.1- Red wine\n"
   ]
  },
  {
   "cell_type": "code",
   "execution_count": 132,
   "metadata": {},
   "outputs": [
    {
     "name": "stdout",
     "output_type": "stream",
     "text": [
      "0.95625\n"
     ]
    }
   ],
   "source": [
    "rf_clf = RandomForestClassifier(random_state=0)\n",
    "rf_clf.fit(X_train_red_scaled, y_train_red)\n",
    "print(accuracy_score(y_test_red, rf_clf.predict(X_test_red_scaled)))"
   ]
  },
  {
   "cell_type": "markdown",
   "metadata": {},
   "source": [
    "### 1.6.1- White wine"
   ]
  },
  {
   "cell_type": "code",
   "execution_count": 133,
   "metadata": {},
   "outputs": [
    {
     "name": "stdout",
     "output_type": "stream",
     "text": [
      "0.9346938775510204\n"
     ]
    }
   ],
   "source": [
    "rf_clf = RandomForestClassifier(random_state=0)\n",
    "rf_clf.fit(X_train_white_scaled, y_train_white)\n",
    "print(accuracy_score(y_test_white, rf_clf.predict(X_test_white_scaled)))"
   ]
  },
  {
   "cell_type": "markdown",
   "metadata": {},
   "source": [
    "## 1.7- K-Means\n",
    "\n",
    "### 1.7.1- Red wine"
   ]
  },
  {
   "cell_type": "code",
   "execution_count": 80,
   "metadata": {},
   "outputs": [
    {
     "ename": "KeyError",
     "evalue": "\"None of [Index(['PCA_1', 'PCA_2', 'PCA_3'], dtype='object')] are in the [columns]\"",
     "output_type": "error",
     "traceback": [
      "\u001b[1;31m---------------------------------------------------------------------------\u001b[0m",
      "\u001b[1;31mKeyError\u001b[0m                                  Traceback (most recent call last)",
      "\u001b[1;32m<ipython-input-80-15d3bbdd40e6>\u001b[0m in \u001b[0;36m<module>\u001b[1;34m\u001b[0m\n\u001b[1;32m----> 1\u001b[1;33m \u001b[0mX_kmeans\u001b[0m \u001b[1;33m=\u001b[0m \u001b[0mX_train_red\u001b[0m\u001b[1;33m[\u001b[0m\u001b[1;33m[\u001b[0m\u001b[1;34m'PCA_1'\u001b[0m\u001b[1;33m,\u001b[0m \u001b[1;34m'PCA_2'\u001b[0m\u001b[1;33m,\u001b[0m \u001b[1;34m'PCA_3'\u001b[0m\u001b[1;33m]\u001b[0m\u001b[1;33m]\u001b[0m\u001b[1;33m\u001b[0m\u001b[1;33m\u001b[0m\u001b[0m\n\u001b[0m\u001b[0;32m      2\u001b[0m \u001b[1;33m\u001b[0m\u001b[0m\n\u001b[0;32m      3\u001b[0m \u001b[0mkmeans\u001b[0m \u001b[1;33m=\u001b[0m \u001b[0mKMeans\u001b[0m\u001b[1;33m(\u001b[0m\u001b[0mn_clusters\u001b[0m\u001b[1;33m=\u001b[0m \u001b[1;36m3\u001b[0m\u001b[1;33m,\u001b[0m \u001b[0mrandom_state\u001b[0m\u001b[1;33m=\u001b[0m\u001b[1;36m0\u001b[0m\u001b[1;33m,\u001b[0m \u001b[0minit\u001b[0m\u001b[1;33m=\u001b[0m\u001b[1;34m'k-means++'\u001b[0m\u001b[1;33m)\u001b[0m\u001b[1;33m.\u001b[0m\u001b[0mfit\u001b[0m\u001b[1;33m(\u001b[0m\u001b[0mX_kmeans\u001b[0m\u001b[1;33m)\u001b[0m\u001b[1;33m\u001b[0m\u001b[1;33m\u001b[0m\u001b[0m\n\u001b[0;32m      4\u001b[0m \u001b[0my_kmeans\u001b[0m\u001b[1;33m=\u001b[0m \u001b[0mkmeans\u001b[0m\u001b[1;33m.\u001b[0m\u001b[0mfit_predict\u001b[0m\u001b[1;33m(\u001b[0m\u001b[0mX_kmeans\u001b[0m\u001b[1;33m)\u001b[0m\u001b[1;33m\u001b[0m\u001b[1;33m\u001b[0m\u001b[0m\n\u001b[0;32m      5\u001b[0m \u001b[1;33m\u001b[0m\u001b[0m\n",
      "\u001b[1;32mc:\\users\\usuario\\appdata\\local\\programs\\python\\python37\\lib\\site-packages\\pandas\\core\\frame.py\u001b[0m in \u001b[0;36m__getitem__\u001b[1;34m(self, key)\u001b[0m\n\u001b[0;32m   2910\u001b[0m             \u001b[1;32mif\u001b[0m \u001b[0mis_iterator\u001b[0m\u001b[1;33m(\u001b[0m\u001b[0mkey\u001b[0m\u001b[1;33m)\u001b[0m\u001b[1;33m:\u001b[0m\u001b[1;33m\u001b[0m\u001b[1;33m\u001b[0m\u001b[0m\n\u001b[0;32m   2911\u001b[0m                 \u001b[0mkey\u001b[0m \u001b[1;33m=\u001b[0m \u001b[0mlist\u001b[0m\u001b[1;33m(\u001b[0m\u001b[0mkey\u001b[0m\u001b[1;33m)\u001b[0m\u001b[1;33m\u001b[0m\u001b[1;33m\u001b[0m\u001b[0m\n\u001b[1;32m-> 2912\u001b[1;33m             \u001b[0mindexer\u001b[0m \u001b[1;33m=\u001b[0m \u001b[0mself\u001b[0m\u001b[1;33m.\u001b[0m\u001b[0mloc\u001b[0m\u001b[1;33m.\u001b[0m\u001b[0m_get_listlike_indexer\u001b[0m\u001b[1;33m(\u001b[0m\u001b[0mkey\u001b[0m\u001b[1;33m,\u001b[0m \u001b[0maxis\u001b[0m\u001b[1;33m=\u001b[0m\u001b[1;36m1\u001b[0m\u001b[1;33m,\u001b[0m \u001b[0mraise_missing\u001b[0m\u001b[1;33m=\u001b[0m\u001b[1;32mTrue\u001b[0m\u001b[1;33m)\u001b[0m\u001b[1;33m[\u001b[0m\u001b[1;36m1\u001b[0m\u001b[1;33m]\u001b[0m\u001b[1;33m\u001b[0m\u001b[1;33m\u001b[0m\u001b[0m\n\u001b[0m\u001b[0;32m   2913\u001b[0m \u001b[1;33m\u001b[0m\u001b[0m\n\u001b[0;32m   2914\u001b[0m         \u001b[1;31m# take() does not accept boolean indexers\u001b[0m\u001b[1;33m\u001b[0m\u001b[1;33m\u001b[0m\u001b[1;33m\u001b[0m\u001b[0m\n",
      "\u001b[1;32mc:\\users\\usuario\\appdata\\local\\programs\\python\\python37\\lib\\site-packages\\pandas\\core\\indexing.py\u001b[0m in \u001b[0;36m_get_listlike_indexer\u001b[1;34m(self, key, axis, raise_missing)\u001b[0m\n\u001b[0;32m   1252\u001b[0m             \u001b[0mkeyarr\u001b[0m\u001b[1;33m,\u001b[0m \u001b[0mindexer\u001b[0m\u001b[1;33m,\u001b[0m \u001b[0mnew_indexer\u001b[0m \u001b[1;33m=\u001b[0m \u001b[0max\u001b[0m\u001b[1;33m.\u001b[0m\u001b[0m_reindex_non_unique\u001b[0m\u001b[1;33m(\u001b[0m\u001b[0mkeyarr\u001b[0m\u001b[1;33m)\u001b[0m\u001b[1;33m\u001b[0m\u001b[1;33m\u001b[0m\u001b[0m\n\u001b[0;32m   1253\u001b[0m \u001b[1;33m\u001b[0m\u001b[0m\n\u001b[1;32m-> 1254\u001b[1;33m         \u001b[0mself\u001b[0m\u001b[1;33m.\u001b[0m\u001b[0m_validate_read_indexer\u001b[0m\u001b[1;33m(\u001b[0m\u001b[0mkeyarr\u001b[0m\u001b[1;33m,\u001b[0m \u001b[0mindexer\u001b[0m\u001b[1;33m,\u001b[0m \u001b[0maxis\u001b[0m\u001b[1;33m,\u001b[0m \u001b[0mraise_missing\u001b[0m\u001b[1;33m=\u001b[0m\u001b[0mraise_missing\u001b[0m\u001b[1;33m)\u001b[0m\u001b[1;33m\u001b[0m\u001b[1;33m\u001b[0m\u001b[0m\n\u001b[0m\u001b[0;32m   1255\u001b[0m         \u001b[1;32mreturn\u001b[0m \u001b[0mkeyarr\u001b[0m\u001b[1;33m,\u001b[0m \u001b[0mindexer\u001b[0m\u001b[1;33m\u001b[0m\u001b[1;33m\u001b[0m\u001b[0m\n\u001b[0;32m   1256\u001b[0m \u001b[1;33m\u001b[0m\u001b[0m\n",
      "\u001b[1;32mc:\\users\\usuario\\appdata\\local\\programs\\python\\python37\\lib\\site-packages\\pandas\\core\\indexing.py\u001b[0m in \u001b[0;36m_validate_read_indexer\u001b[1;34m(self, key, indexer, axis, raise_missing)\u001b[0m\n\u001b[0;32m   1296\u001b[0m             \u001b[1;32mif\u001b[0m \u001b[0mmissing\u001b[0m \u001b[1;33m==\u001b[0m \u001b[0mlen\u001b[0m\u001b[1;33m(\u001b[0m\u001b[0mindexer\u001b[0m\u001b[1;33m)\u001b[0m\u001b[1;33m:\u001b[0m\u001b[1;33m\u001b[0m\u001b[1;33m\u001b[0m\u001b[0m\n\u001b[0;32m   1297\u001b[0m                 \u001b[0maxis_name\u001b[0m \u001b[1;33m=\u001b[0m \u001b[0mself\u001b[0m\u001b[1;33m.\u001b[0m\u001b[0mobj\u001b[0m\u001b[1;33m.\u001b[0m\u001b[0m_get_axis_name\u001b[0m\u001b[1;33m(\u001b[0m\u001b[0maxis\u001b[0m\u001b[1;33m)\u001b[0m\u001b[1;33m\u001b[0m\u001b[1;33m\u001b[0m\u001b[0m\n\u001b[1;32m-> 1298\u001b[1;33m                 \u001b[1;32mraise\u001b[0m \u001b[0mKeyError\u001b[0m\u001b[1;33m(\u001b[0m\u001b[1;34mf\"None of [{key}] are in the [{axis_name}]\"\u001b[0m\u001b[1;33m)\u001b[0m\u001b[1;33m\u001b[0m\u001b[1;33m\u001b[0m\u001b[0m\n\u001b[0m\u001b[0;32m   1299\u001b[0m \u001b[1;33m\u001b[0m\u001b[0m\n\u001b[0;32m   1300\u001b[0m             \u001b[1;31m# We (temporarily) allow for some missing keys with .loc, except in\u001b[0m\u001b[1;33m\u001b[0m\u001b[1;33m\u001b[0m\u001b[1;33m\u001b[0m\u001b[0m\n",
      "\u001b[1;31mKeyError\u001b[0m: \"None of [Index(['PCA_1', 'PCA_2', 'PCA_3'], dtype='object')] are in the [columns]\""
     ]
    }
   ],
   "source": [
    "X_kmeans = X_train_red[['PCA_1', 'PCA_2', 'PCA_3']]\n",
    "\n",
    "kmeans = KMeans(n_clusters= 3, random_state=0, init='k-means++').fit(X_kmeans)\n",
    "y_kmeans= kmeans.fit_predict(X_kmeans)\n",
    "\n",
    "print('K-Means cluster center 1: ' + str(kmeans.cluster_centers_[:,0]))\n",
    "print('K-Means cluster center 2: ' + str(kmeans.cluster_centers_[:,1]))\n",
    "print('K-Means cluster center 3: ' + str(kmeans.cluster_centers_[:,2]))"
   ]
  },
  {
   "cell_type": "markdown",
   "metadata": {},
   "source": [
    "### 1.7.2- White wine"
   ]
  },
  {
   "cell_type": "code",
   "execution_count": null,
   "metadata": {},
   "outputs": [],
   "source": []
  },
  {
   "cell_type": "markdown",
   "metadata": {},
   "source": [
    "# 2- Low alcohol vs high alcohol content\n",
    "\n",
    "## 2.1- Exploratory data analysis\n",
    "\n",
    "### 2.1.1- Red wine"
   ]
  },
  {
   "cell_type": "code",
   "execution_count": 135,
   "metadata": {},
   "outputs": [
    {
     "data": {
      "text/plain": [
       "(1599, 11)"
      ]
     },
     "execution_count": 135,
     "metadata": {},
     "output_type": "execute_result"
    }
   ],
   "source": [
    "# Read data with read_csv method of the pandas library.\n",
    "alcohol_bankdata_red = pd.read_csv(\"data/new_format/winequality-red-alcohol-content.csv\", sep = ',')\n",
    "# see the rows and columns of the data\n",
    "alcohol_bankdata_red.shape"
   ]
  },
  {
   "cell_type": "code",
   "execution_count": 137,
   "metadata": {},
   "outputs": [
    {
     "data": {
      "text/html": [
       "<div>\n",
       "<style scoped>\n",
       "    .dataframe tbody tr th:only-of-type {\n",
       "        vertical-align: middle;\n",
       "    }\n",
       "\n",
       "    .dataframe tbody tr th {\n",
       "        vertical-align: top;\n",
       "    }\n",
       "\n",
       "    .dataframe thead th {\n",
       "        text-align: right;\n",
       "    }\n",
       "</style>\n",
       "<table border=\"1\" class=\"dataframe\">\n",
       "  <thead>\n",
       "    <tr style=\"text-align: right;\">\n",
       "      <th></th>\n",
       "      <th>fixed acidity</th>\n",
       "      <th>volatile acidity</th>\n",
       "      <th>citric acid</th>\n",
       "      <th>residual sugar</th>\n",
       "      <th>chlorides</th>\n",
       "      <th>free sulfur dioxide</th>\n",
       "      <th>total sulfur dioxide</th>\n",
       "      <th>density</th>\n",
       "      <th>pH</th>\n",
       "      <th>sulphates</th>\n",
       "      <th>alcohol content</th>\n",
       "    </tr>\n",
       "  </thead>\n",
       "  <tbody>\n",
       "    <tr>\n",
       "      <th>0</th>\n",
       "      <td>7.4</td>\n",
       "      <td>0.70</td>\n",
       "      <td>0.00</td>\n",
       "      <td>1.9</td>\n",
       "      <td>0.076</td>\n",
       "      <td>11.0</td>\n",
       "      <td>34.0</td>\n",
       "      <td>0.9978</td>\n",
       "      <td>3.51</td>\n",
       "      <td>0.56</td>\n",
       "      <td>low</td>\n",
       "    </tr>\n",
       "    <tr>\n",
       "      <th>1</th>\n",
       "      <td>7.8</td>\n",
       "      <td>0.88</td>\n",
       "      <td>0.00</td>\n",
       "      <td>2.6</td>\n",
       "      <td>0.098</td>\n",
       "      <td>25.0</td>\n",
       "      <td>67.0</td>\n",
       "      <td>0.9968</td>\n",
       "      <td>3.20</td>\n",
       "      <td>0.68</td>\n",
       "      <td>low</td>\n",
       "    </tr>\n",
       "    <tr>\n",
       "      <th>2</th>\n",
       "      <td>7.8</td>\n",
       "      <td>0.76</td>\n",
       "      <td>0.04</td>\n",
       "      <td>2.3</td>\n",
       "      <td>0.092</td>\n",
       "      <td>15.0</td>\n",
       "      <td>54.0</td>\n",
       "      <td>0.9970</td>\n",
       "      <td>3.26</td>\n",
       "      <td>0.65</td>\n",
       "      <td>low</td>\n",
       "    </tr>\n",
       "    <tr>\n",
       "      <th>3</th>\n",
       "      <td>11.2</td>\n",
       "      <td>0.28</td>\n",
       "      <td>0.56</td>\n",
       "      <td>1.9</td>\n",
       "      <td>0.075</td>\n",
       "      <td>17.0</td>\n",
       "      <td>60.0</td>\n",
       "      <td>0.9980</td>\n",
       "      <td>3.16</td>\n",
       "      <td>0.58</td>\n",
       "      <td>low</td>\n",
       "    </tr>\n",
       "    <tr>\n",
       "      <th>4</th>\n",
       "      <td>7.4</td>\n",
       "      <td>0.70</td>\n",
       "      <td>0.00</td>\n",
       "      <td>1.9</td>\n",
       "      <td>0.076</td>\n",
       "      <td>11.0</td>\n",
       "      <td>34.0</td>\n",
       "      <td>0.9978</td>\n",
       "      <td>3.51</td>\n",
       "      <td>0.56</td>\n",
       "      <td>low</td>\n",
       "    </tr>\n",
       "  </tbody>\n",
       "</table>\n",
       "</div>"
      ],
      "text/plain": [
       "   fixed acidity  volatile acidity  citric acid  residual sugar  chlorides  \\\n",
       "0            7.4              0.70         0.00             1.9      0.076   \n",
       "1            7.8              0.88         0.00             2.6      0.098   \n",
       "2            7.8              0.76         0.04             2.3      0.092   \n",
       "3           11.2              0.28         0.56             1.9      0.075   \n",
       "4            7.4              0.70         0.00             1.9      0.076   \n",
       "\n",
       "   free sulfur dioxide  total sulfur dioxide  density    pH  sulphates  \\\n",
       "0                 11.0                  34.0   0.9978  3.51       0.56   \n",
       "1                 25.0                  67.0   0.9968  3.20       0.68   \n",
       "2                 15.0                  54.0   0.9970  3.26       0.65   \n",
       "3                 17.0                  60.0   0.9980  3.16       0.58   \n",
       "4                 11.0                  34.0   0.9978  3.51       0.56   \n",
       "\n",
       "  alcohol content  \n",
       "0             low  \n",
       "1             low  \n",
       "2             low  \n",
       "3             low  \n",
       "4             low  "
      ]
     },
     "execution_count": 137,
     "metadata": {},
     "output_type": "execute_result"
    }
   ],
   "source": [
    "# get a feel of how our dataset actually looks\n",
    "alcohol_bankdata_red.head()"
   ]
  },
  {
   "cell_type": "code",
   "execution_count": 138,
   "metadata": {},
   "outputs": [
    {
     "data": {
      "text/html": [
       "<div>\n",
       "<style scoped>\n",
       "    .dataframe tbody tr th:only-of-type {\n",
       "        vertical-align: middle;\n",
       "    }\n",
       "\n",
       "    .dataframe tbody tr th {\n",
       "        vertical-align: top;\n",
       "    }\n",
       "\n",
       "    .dataframe thead th {\n",
       "        text-align: right;\n",
       "    }\n",
       "</style>\n",
       "<table border=\"1\" class=\"dataframe\">\n",
       "  <thead>\n",
       "    <tr style=\"text-align: right;\">\n",
       "      <th></th>\n",
       "      <th>fixed acidity</th>\n",
       "      <th>volatile acidity</th>\n",
       "      <th>citric acid</th>\n",
       "      <th>residual sugar</th>\n",
       "      <th>chlorides</th>\n",
       "      <th>free sulfur dioxide</th>\n",
       "      <th>total sulfur dioxide</th>\n",
       "      <th>density</th>\n",
       "      <th>pH</th>\n",
       "      <th>sulphates</th>\n",
       "    </tr>\n",
       "  </thead>\n",
       "  <tbody>\n",
       "    <tr>\n",
       "      <th>count</th>\n",
       "      <td>1599.000000</td>\n",
       "      <td>1599.000000</td>\n",
       "      <td>1599.000000</td>\n",
       "      <td>1599.000000</td>\n",
       "      <td>1599.000000</td>\n",
       "      <td>1599.000000</td>\n",
       "      <td>1599.000000</td>\n",
       "      <td>1599.000000</td>\n",
       "      <td>1599.000000</td>\n",
       "      <td>1599.000000</td>\n",
       "    </tr>\n",
       "    <tr>\n",
       "      <th>mean</th>\n",
       "      <td>8.319637</td>\n",
       "      <td>0.527821</td>\n",
       "      <td>0.270976</td>\n",
       "      <td>2.538806</td>\n",
       "      <td>0.087467</td>\n",
       "      <td>15.874922</td>\n",
       "      <td>46.467792</td>\n",
       "      <td>0.996747</td>\n",
       "      <td>3.311113</td>\n",
       "      <td>0.658149</td>\n",
       "    </tr>\n",
       "    <tr>\n",
       "      <th>std</th>\n",
       "      <td>1.741096</td>\n",
       "      <td>0.179060</td>\n",
       "      <td>0.194801</td>\n",
       "      <td>1.409928</td>\n",
       "      <td>0.047065</td>\n",
       "      <td>10.460157</td>\n",
       "      <td>32.895324</td>\n",
       "      <td>0.001887</td>\n",
       "      <td>0.154386</td>\n",
       "      <td>0.169507</td>\n",
       "    </tr>\n",
       "    <tr>\n",
       "      <th>min</th>\n",
       "      <td>4.600000</td>\n",
       "      <td>0.120000</td>\n",
       "      <td>0.000000</td>\n",
       "      <td>0.900000</td>\n",
       "      <td>0.012000</td>\n",
       "      <td>1.000000</td>\n",
       "      <td>6.000000</td>\n",
       "      <td>0.990070</td>\n",
       "      <td>2.740000</td>\n",
       "      <td>0.330000</td>\n",
       "    </tr>\n",
       "    <tr>\n",
       "      <th>25%</th>\n",
       "      <td>7.100000</td>\n",
       "      <td>0.390000</td>\n",
       "      <td>0.090000</td>\n",
       "      <td>1.900000</td>\n",
       "      <td>0.070000</td>\n",
       "      <td>7.000000</td>\n",
       "      <td>22.000000</td>\n",
       "      <td>0.995600</td>\n",
       "      <td>3.210000</td>\n",
       "      <td>0.550000</td>\n",
       "    </tr>\n",
       "    <tr>\n",
       "      <th>50%</th>\n",
       "      <td>7.900000</td>\n",
       "      <td>0.520000</td>\n",
       "      <td>0.260000</td>\n",
       "      <td>2.200000</td>\n",
       "      <td>0.079000</td>\n",
       "      <td>14.000000</td>\n",
       "      <td>38.000000</td>\n",
       "      <td>0.996750</td>\n",
       "      <td>3.310000</td>\n",
       "      <td>0.620000</td>\n",
       "    </tr>\n",
       "    <tr>\n",
       "      <th>75%</th>\n",
       "      <td>9.200000</td>\n",
       "      <td>0.640000</td>\n",
       "      <td>0.420000</td>\n",
       "      <td>2.600000</td>\n",
       "      <td>0.090000</td>\n",
       "      <td>21.000000</td>\n",
       "      <td>62.000000</td>\n",
       "      <td>0.997835</td>\n",
       "      <td>3.400000</td>\n",
       "      <td>0.730000</td>\n",
       "    </tr>\n",
       "    <tr>\n",
       "      <th>max</th>\n",
       "      <td>15.900000</td>\n",
       "      <td>1.580000</td>\n",
       "      <td>1.000000</td>\n",
       "      <td>15.500000</td>\n",
       "      <td>0.611000</td>\n",
       "      <td>72.000000</td>\n",
       "      <td>289.000000</td>\n",
       "      <td>1.003690</td>\n",
       "      <td>4.010000</td>\n",
       "      <td>2.000000</td>\n",
       "    </tr>\n",
       "  </tbody>\n",
       "</table>\n",
       "</div>"
      ],
      "text/plain": [
       "       fixed acidity  volatile acidity  citric acid  residual sugar  \\\n",
       "count    1599.000000       1599.000000  1599.000000     1599.000000   \n",
       "mean        8.319637          0.527821     0.270976        2.538806   \n",
       "std         1.741096          0.179060     0.194801        1.409928   \n",
       "min         4.600000          0.120000     0.000000        0.900000   \n",
       "25%         7.100000          0.390000     0.090000        1.900000   \n",
       "50%         7.900000          0.520000     0.260000        2.200000   \n",
       "75%         9.200000          0.640000     0.420000        2.600000   \n",
       "max        15.900000          1.580000     1.000000       15.500000   \n",
       "\n",
       "         chlorides  free sulfur dioxide  total sulfur dioxide      density  \\\n",
       "count  1599.000000          1599.000000           1599.000000  1599.000000   \n",
       "mean      0.087467            15.874922             46.467792     0.996747   \n",
       "std       0.047065            10.460157             32.895324     0.001887   \n",
       "min       0.012000             1.000000              6.000000     0.990070   \n",
       "25%       0.070000             7.000000             22.000000     0.995600   \n",
       "50%       0.079000            14.000000             38.000000     0.996750   \n",
       "75%       0.090000            21.000000             62.000000     0.997835   \n",
       "max       0.611000            72.000000            289.000000     1.003690   \n",
       "\n",
       "                pH    sulphates  \n",
       "count  1599.000000  1599.000000  \n",
       "mean      3.311113     0.658149  \n",
       "std       0.154386     0.169507  \n",
       "min       2.740000     0.330000  \n",
       "25%       3.210000     0.550000  \n",
       "50%       3.310000     0.620000  \n",
       "75%       3.400000     0.730000  \n",
       "max       4.010000     2.000000  "
      ]
     },
     "execution_count": 138,
     "metadata": {},
     "output_type": "execute_result"
    }
   ],
   "source": [
    "# view some basic statistical details like percentile, mean, std etc.\n",
    "alcohol_bankdata_red.describe()"
   ]
  },
  {
   "cell_type": "markdown",
   "metadata": {},
   "source": [
    "### 2.1.2- White wine"
   ]
  },
  {
   "cell_type": "code",
   "execution_count": 139,
   "metadata": {},
   "outputs": [
    {
     "data": {
      "text/plain": [
       "(4898, 11)"
      ]
     },
     "execution_count": 139,
     "metadata": {},
     "output_type": "execute_result"
    }
   ],
   "source": [
    "# Read data with read_csv method of the pandas library.\n",
    "alcohol_bankdata_white = pd.read_csv(\"data/new_format/winequality-white-alcohol-content.csv\", sep = ',')\n",
    "# see the rows and columns of the data\n",
    "alcohol_bankdata_white.shape"
   ]
  },
  {
   "cell_type": "code",
   "execution_count": 140,
   "metadata": {},
   "outputs": [
    {
     "data": {
      "text/html": [
       "<div>\n",
       "<style scoped>\n",
       "    .dataframe tbody tr th:only-of-type {\n",
       "        vertical-align: middle;\n",
       "    }\n",
       "\n",
       "    .dataframe tbody tr th {\n",
       "        vertical-align: top;\n",
       "    }\n",
       "\n",
       "    .dataframe thead th {\n",
       "        text-align: right;\n",
       "    }\n",
       "</style>\n",
       "<table border=\"1\" class=\"dataframe\">\n",
       "  <thead>\n",
       "    <tr style=\"text-align: right;\">\n",
       "      <th></th>\n",
       "      <th>fixed acidity</th>\n",
       "      <th>volatile acidity</th>\n",
       "      <th>citric acid</th>\n",
       "      <th>residual sugar</th>\n",
       "      <th>chlorides</th>\n",
       "      <th>free sulfur dioxide</th>\n",
       "      <th>total sulfur dioxide</th>\n",
       "      <th>density</th>\n",
       "      <th>pH</th>\n",
       "      <th>sulphates</th>\n",
       "      <th>alcohol content</th>\n",
       "    </tr>\n",
       "  </thead>\n",
       "  <tbody>\n",
       "    <tr>\n",
       "      <th>0</th>\n",
       "      <td>7.0</td>\n",
       "      <td>0.27</td>\n",
       "      <td>0.36</td>\n",
       "      <td>20.7</td>\n",
       "      <td>0.045</td>\n",
       "      <td>45.0</td>\n",
       "      <td>170.0</td>\n",
       "      <td>1.0010</td>\n",
       "      <td>3.00</td>\n",
       "      <td>0.45</td>\n",
       "      <td>low</td>\n",
       "    </tr>\n",
       "    <tr>\n",
       "      <th>1</th>\n",
       "      <td>6.3</td>\n",
       "      <td>0.30</td>\n",
       "      <td>0.34</td>\n",
       "      <td>1.6</td>\n",
       "      <td>0.049</td>\n",
       "      <td>14.0</td>\n",
       "      <td>132.0</td>\n",
       "      <td>0.9940</td>\n",
       "      <td>3.30</td>\n",
       "      <td>0.49</td>\n",
       "      <td>low</td>\n",
       "    </tr>\n",
       "    <tr>\n",
       "      <th>2</th>\n",
       "      <td>8.1</td>\n",
       "      <td>0.28</td>\n",
       "      <td>0.40</td>\n",
       "      <td>6.9</td>\n",
       "      <td>0.050</td>\n",
       "      <td>30.0</td>\n",
       "      <td>97.0</td>\n",
       "      <td>0.9951</td>\n",
       "      <td>3.26</td>\n",
       "      <td>0.44</td>\n",
       "      <td>low</td>\n",
       "    </tr>\n",
       "    <tr>\n",
       "      <th>3</th>\n",
       "      <td>7.2</td>\n",
       "      <td>0.23</td>\n",
       "      <td>0.32</td>\n",
       "      <td>8.5</td>\n",
       "      <td>0.058</td>\n",
       "      <td>47.0</td>\n",
       "      <td>186.0</td>\n",
       "      <td>0.9956</td>\n",
       "      <td>3.19</td>\n",
       "      <td>0.40</td>\n",
       "      <td>low</td>\n",
       "    </tr>\n",
       "    <tr>\n",
       "      <th>4</th>\n",
       "      <td>7.2</td>\n",
       "      <td>0.23</td>\n",
       "      <td>0.32</td>\n",
       "      <td>8.5</td>\n",
       "      <td>0.058</td>\n",
       "      <td>47.0</td>\n",
       "      <td>186.0</td>\n",
       "      <td>0.9956</td>\n",
       "      <td>3.19</td>\n",
       "      <td>0.40</td>\n",
       "      <td>low</td>\n",
       "    </tr>\n",
       "  </tbody>\n",
       "</table>\n",
       "</div>"
      ],
      "text/plain": [
       "   fixed acidity  volatile acidity  citric acid  residual sugar  chlorides  \\\n",
       "0            7.0              0.27         0.36            20.7      0.045   \n",
       "1            6.3              0.30         0.34             1.6      0.049   \n",
       "2            8.1              0.28         0.40             6.9      0.050   \n",
       "3            7.2              0.23         0.32             8.5      0.058   \n",
       "4            7.2              0.23         0.32             8.5      0.058   \n",
       "\n",
       "   free sulfur dioxide  total sulfur dioxide  density    pH  sulphates  \\\n",
       "0                 45.0                 170.0   1.0010  3.00       0.45   \n",
       "1                 14.0                 132.0   0.9940  3.30       0.49   \n",
       "2                 30.0                  97.0   0.9951  3.26       0.44   \n",
       "3                 47.0                 186.0   0.9956  3.19       0.40   \n",
       "4                 47.0                 186.0   0.9956  3.19       0.40   \n",
       "\n",
       "  alcohol content  \n",
       "0             low  \n",
       "1             low  \n",
       "2             low  \n",
       "3             low  \n",
       "4             low  "
      ]
     },
     "execution_count": 140,
     "metadata": {},
     "output_type": "execute_result"
    }
   ],
   "source": [
    "# get a feel of how our dataset actually looks\n",
    "alcohol_bankdata_white.head()"
   ]
  },
  {
   "cell_type": "code",
   "execution_count": 141,
   "metadata": {},
   "outputs": [
    {
     "data": {
      "text/html": [
       "<div>\n",
       "<style scoped>\n",
       "    .dataframe tbody tr th:only-of-type {\n",
       "        vertical-align: middle;\n",
       "    }\n",
       "\n",
       "    .dataframe tbody tr th {\n",
       "        vertical-align: top;\n",
       "    }\n",
       "\n",
       "    .dataframe thead th {\n",
       "        text-align: right;\n",
       "    }\n",
       "</style>\n",
       "<table border=\"1\" class=\"dataframe\">\n",
       "  <thead>\n",
       "    <tr style=\"text-align: right;\">\n",
       "      <th></th>\n",
       "      <th>fixed acidity</th>\n",
       "      <th>volatile acidity</th>\n",
       "      <th>citric acid</th>\n",
       "      <th>residual sugar</th>\n",
       "      <th>chlorides</th>\n",
       "      <th>free sulfur dioxide</th>\n",
       "      <th>total sulfur dioxide</th>\n",
       "      <th>density</th>\n",
       "      <th>pH</th>\n",
       "      <th>sulphates</th>\n",
       "    </tr>\n",
       "  </thead>\n",
       "  <tbody>\n",
       "    <tr>\n",
       "      <th>count</th>\n",
       "      <td>4898.000000</td>\n",
       "      <td>4898.000000</td>\n",
       "      <td>4898.000000</td>\n",
       "      <td>4898.000000</td>\n",
       "      <td>4898.000000</td>\n",
       "      <td>4898.000000</td>\n",
       "      <td>4898.000000</td>\n",
       "      <td>4898.000000</td>\n",
       "      <td>4898.000000</td>\n",
       "      <td>4898.000000</td>\n",
       "    </tr>\n",
       "    <tr>\n",
       "      <th>mean</th>\n",
       "      <td>6.854788</td>\n",
       "      <td>0.278241</td>\n",
       "      <td>0.334192</td>\n",
       "      <td>6.391415</td>\n",
       "      <td>0.045772</td>\n",
       "      <td>35.308085</td>\n",
       "      <td>138.360657</td>\n",
       "      <td>0.994027</td>\n",
       "      <td>3.188267</td>\n",
       "      <td>0.489847</td>\n",
       "    </tr>\n",
       "    <tr>\n",
       "      <th>std</th>\n",
       "      <td>0.843868</td>\n",
       "      <td>0.100795</td>\n",
       "      <td>0.121020</td>\n",
       "      <td>5.072058</td>\n",
       "      <td>0.021848</td>\n",
       "      <td>17.007137</td>\n",
       "      <td>42.498065</td>\n",
       "      <td>0.002991</td>\n",
       "      <td>0.151001</td>\n",
       "      <td>0.114126</td>\n",
       "    </tr>\n",
       "    <tr>\n",
       "      <th>min</th>\n",
       "      <td>3.800000</td>\n",
       "      <td>0.080000</td>\n",
       "      <td>0.000000</td>\n",
       "      <td>0.600000</td>\n",
       "      <td>0.009000</td>\n",
       "      <td>2.000000</td>\n",
       "      <td>9.000000</td>\n",
       "      <td>0.987110</td>\n",
       "      <td>2.720000</td>\n",
       "      <td>0.220000</td>\n",
       "    </tr>\n",
       "    <tr>\n",
       "      <th>25%</th>\n",
       "      <td>6.300000</td>\n",
       "      <td>0.210000</td>\n",
       "      <td>0.270000</td>\n",
       "      <td>1.700000</td>\n",
       "      <td>0.036000</td>\n",
       "      <td>23.000000</td>\n",
       "      <td>108.000000</td>\n",
       "      <td>0.991723</td>\n",
       "      <td>3.090000</td>\n",
       "      <td>0.410000</td>\n",
       "    </tr>\n",
       "    <tr>\n",
       "      <th>50%</th>\n",
       "      <td>6.800000</td>\n",
       "      <td>0.260000</td>\n",
       "      <td>0.320000</td>\n",
       "      <td>5.200000</td>\n",
       "      <td>0.043000</td>\n",
       "      <td>34.000000</td>\n",
       "      <td>134.000000</td>\n",
       "      <td>0.993740</td>\n",
       "      <td>3.180000</td>\n",
       "      <td>0.470000</td>\n",
       "    </tr>\n",
       "    <tr>\n",
       "      <th>75%</th>\n",
       "      <td>7.300000</td>\n",
       "      <td>0.320000</td>\n",
       "      <td>0.390000</td>\n",
       "      <td>9.900000</td>\n",
       "      <td>0.050000</td>\n",
       "      <td>46.000000</td>\n",
       "      <td>167.000000</td>\n",
       "      <td>0.996100</td>\n",
       "      <td>3.280000</td>\n",
       "      <td>0.550000</td>\n",
       "    </tr>\n",
       "    <tr>\n",
       "      <th>max</th>\n",
       "      <td>14.200000</td>\n",
       "      <td>1.100000</td>\n",
       "      <td>1.660000</td>\n",
       "      <td>65.800000</td>\n",
       "      <td>0.346000</td>\n",
       "      <td>289.000000</td>\n",
       "      <td>440.000000</td>\n",
       "      <td>1.038980</td>\n",
       "      <td>3.820000</td>\n",
       "      <td>1.080000</td>\n",
       "    </tr>\n",
       "  </tbody>\n",
       "</table>\n",
       "</div>"
      ],
      "text/plain": [
       "       fixed acidity  volatile acidity  citric acid  residual sugar  \\\n",
       "count    4898.000000       4898.000000  4898.000000     4898.000000   \n",
       "mean        6.854788          0.278241     0.334192        6.391415   \n",
       "std         0.843868          0.100795     0.121020        5.072058   \n",
       "min         3.800000          0.080000     0.000000        0.600000   \n",
       "25%         6.300000          0.210000     0.270000        1.700000   \n",
       "50%         6.800000          0.260000     0.320000        5.200000   \n",
       "75%         7.300000          0.320000     0.390000        9.900000   \n",
       "max        14.200000          1.100000     1.660000       65.800000   \n",
       "\n",
       "         chlorides  free sulfur dioxide  total sulfur dioxide      density  \\\n",
       "count  4898.000000          4898.000000           4898.000000  4898.000000   \n",
       "mean      0.045772            35.308085            138.360657     0.994027   \n",
       "std       0.021848            17.007137             42.498065     0.002991   \n",
       "min       0.009000             2.000000              9.000000     0.987110   \n",
       "25%       0.036000            23.000000            108.000000     0.991723   \n",
       "50%       0.043000            34.000000            134.000000     0.993740   \n",
       "75%       0.050000            46.000000            167.000000     0.996100   \n",
       "max       0.346000           289.000000            440.000000     1.038980   \n",
       "\n",
       "                pH    sulphates  \n",
       "count  4898.000000  4898.000000  \n",
       "mean      3.188267     0.489847  \n",
       "std       0.151001     0.114126  \n",
       "min       2.720000     0.220000  \n",
       "25%       3.090000     0.410000  \n",
       "50%       3.180000     0.470000  \n",
       "75%       3.280000     0.550000  \n",
       "max       3.820000     1.080000  "
      ]
     },
     "execution_count": 141,
     "metadata": {},
     "output_type": "execute_result"
    }
   ],
   "source": [
    "# view some basic statistical details like mean, std etc.\n",
    "alcohol_bankdata_white.describe()"
   ]
  },
  {
   "cell_type": "markdown",
   "metadata": {},
   "source": [
    "## 2.2- Data preprocessing\n",
    "\n",
    "### 2.2.1- Split dataset in train and test\n",
    "\n",
    "#### 2.2.1.1- Red wine"
   ]
  },
  {
   "cell_type": "code",
   "execution_count": 148,
   "metadata": {},
   "outputs": [],
   "source": [
    "# In the first line of the script above, all the columns of the bankdata dataframe \n",
    "#are being stored in the X variable except the \"quality\" column, which is the label column. \n",
    "#The drop() method drops this column.\n",
    "X_alcohol_red = alcohol_bankdata_red.drop('alcohol content', axis=1)\n",
    "y_alcohol_red = alcohol_bankdata_red['alcohol content']"
   ]
  },
  {
   "cell_type": "code",
   "execution_count": 143,
   "metadata": {},
   "outputs": [
    {
     "data": {
      "text/html": [
       "<div>\n",
       "<style scoped>\n",
       "    .dataframe tbody tr th:only-of-type {\n",
       "        vertical-align: middle;\n",
       "    }\n",
       "\n",
       "    .dataframe tbody tr th {\n",
       "        vertical-align: top;\n",
       "    }\n",
       "\n",
       "    .dataframe thead th {\n",
       "        text-align: right;\n",
       "    }\n",
       "</style>\n",
       "<table border=\"1\" class=\"dataframe\">\n",
       "  <thead>\n",
       "    <tr style=\"text-align: right;\">\n",
       "      <th></th>\n",
       "      <th>fixed acidity</th>\n",
       "      <th>volatile acidity</th>\n",
       "      <th>citric acid</th>\n",
       "      <th>residual sugar</th>\n",
       "      <th>chlorides</th>\n",
       "      <th>free sulfur dioxide</th>\n",
       "      <th>total sulfur dioxide</th>\n",
       "      <th>density</th>\n",
       "      <th>pH</th>\n",
       "      <th>sulphates</th>\n",
       "    </tr>\n",
       "  </thead>\n",
       "  <tbody>\n",
       "    <tr>\n",
       "      <th>885</th>\n",
       "      <td>8.9</td>\n",
       "      <td>0.75</td>\n",
       "      <td>0.14</td>\n",
       "      <td>2.5</td>\n",
       "      <td>0.086</td>\n",
       "      <td>9.0</td>\n",
       "      <td>30.0</td>\n",
       "      <td>0.99824</td>\n",
       "      <td>3.34</td>\n",
       "      <td>0.64</td>\n",
       "    </tr>\n",
       "    <tr>\n",
       "      <th>558</th>\n",
       "      <td>10.9</td>\n",
       "      <td>0.53</td>\n",
       "      <td>0.49</td>\n",
       "      <td>4.6</td>\n",
       "      <td>0.118</td>\n",
       "      <td>10.0</td>\n",
       "      <td>17.0</td>\n",
       "      <td>1.00020</td>\n",
       "      <td>3.07</td>\n",
       "      <td>0.56</td>\n",
       "    </tr>\n",
       "    <tr>\n",
       "      <th>423</th>\n",
       "      <td>10.5</td>\n",
       "      <td>0.24</td>\n",
       "      <td>0.47</td>\n",
       "      <td>2.1</td>\n",
       "      <td>0.066</td>\n",
       "      <td>6.0</td>\n",
       "      <td>24.0</td>\n",
       "      <td>0.99780</td>\n",
       "      <td>3.15</td>\n",
       "      <td>0.90</td>\n",
       "    </tr>\n",
       "    <tr>\n",
       "      <th>171</th>\n",
       "      <td>8.0</td>\n",
       "      <td>0.42</td>\n",
       "      <td>0.17</td>\n",
       "      <td>2.0</td>\n",
       "      <td>0.073</td>\n",
       "      <td>6.0</td>\n",
       "      <td>18.0</td>\n",
       "      <td>0.99720</td>\n",
       "      <td>3.29</td>\n",
       "      <td>0.61</td>\n",
       "    </tr>\n",
       "    <tr>\n",
       "      <th>1570</th>\n",
       "      <td>6.4</td>\n",
       "      <td>0.36</td>\n",
       "      <td>0.53</td>\n",
       "      <td>2.2</td>\n",
       "      <td>0.230</td>\n",
       "      <td>19.0</td>\n",
       "      <td>35.0</td>\n",
       "      <td>0.99340</td>\n",
       "      <td>3.37</td>\n",
       "      <td>0.93</td>\n",
       "    </tr>\n",
       "  </tbody>\n",
       "</table>\n",
       "</div>"
      ],
      "text/plain": [
       "      fixed acidity  volatile acidity  citric acid  residual sugar  chlorides  \\\n",
       "885             8.9              0.75         0.14             2.5      0.086   \n",
       "558            10.9              0.53         0.49             4.6      0.118   \n",
       "423            10.5              0.24         0.47             2.1      0.066   \n",
       "171             8.0              0.42         0.17             2.0      0.073   \n",
       "1570            6.4              0.36         0.53             2.2      0.230   \n",
       "\n",
       "      free sulfur dioxide  total sulfur dioxide  density    pH  sulphates  \n",
       "885                   9.0                  30.0  0.99824  3.34       0.64  \n",
       "558                  10.0                  17.0  1.00020  3.07       0.56  \n",
       "423                   6.0                  24.0  0.99780  3.15       0.90  \n",
       "171                   6.0                  18.0  0.99720  3.29       0.61  \n",
       "1570                 19.0                  35.0  0.99340  3.37       0.93  "
      ]
     },
     "execution_count": 143,
     "metadata": {},
     "output_type": "execute_result"
    }
   ],
   "source": [
    "# divide data into training and test sets.\n",
    "X_train_alcohol_red, X_test_alcohol_red, y_train_alcohol_red, y_test_alcohol_red = train_test_split(X_alcohol_red, y_alcohol_red, test_size = 0.20)\n",
    "X_train_alcohol_red.head()"
   ]
  },
  {
   "cell_type": "code",
   "execution_count": 144,
   "metadata": {},
   "outputs": [
    {
     "data": {
      "text/plain": [
       "885     high\n",
       "558     high\n",
       "423     high\n",
       "171      low\n",
       "1570    high\n",
       "Name: alcohol content, dtype: object"
      ]
     },
     "execution_count": 144,
     "metadata": {},
     "output_type": "execute_result"
    }
   ],
   "source": [
    "y_train_alcohol_red.head()"
   ]
  },
  {
   "cell_type": "markdown",
   "metadata": {},
   "source": [
    "#### 2.2.1.2- White wine"
   ]
  },
  {
   "cell_type": "code",
   "execution_count": 149,
   "metadata": {},
   "outputs": [],
   "source": [
    "# In the first line of the script above, all the columns of the bankdata dataframe \n",
    "#are being stored in the X variable except the \"quality\" column, which is the label column. \n",
    "#The drop() method drops this column.\n",
    "X_alcohol_white = alcohol_bankdata_white.drop('alcohol content', axis=1)\n",
    "y_alcohol_white = alcohol_bankdata_white['alcohol content']"
   ]
  },
  {
   "cell_type": "code",
   "execution_count": 146,
   "metadata": {},
   "outputs": [
    {
     "data": {
      "text/html": [
       "<div>\n",
       "<style scoped>\n",
       "    .dataframe tbody tr th:only-of-type {\n",
       "        vertical-align: middle;\n",
       "    }\n",
       "\n",
       "    .dataframe tbody tr th {\n",
       "        vertical-align: top;\n",
       "    }\n",
       "\n",
       "    .dataframe thead th {\n",
       "        text-align: right;\n",
       "    }\n",
       "</style>\n",
       "<table border=\"1\" class=\"dataframe\">\n",
       "  <thead>\n",
       "    <tr style=\"text-align: right;\">\n",
       "      <th></th>\n",
       "      <th>fixed acidity</th>\n",
       "      <th>volatile acidity</th>\n",
       "      <th>citric acid</th>\n",
       "      <th>residual sugar</th>\n",
       "      <th>chlorides</th>\n",
       "      <th>free sulfur dioxide</th>\n",
       "      <th>total sulfur dioxide</th>\n",
       "      <th>density</th>\n",
       "      <th>pH</th>\n",
       "      <th>sulphates</th>\n",
       "    </tr>\n",
       "  </thead>\n",
       "  <tbody>\n",
       "    <tr>\n",
       "      <th>3451</th>\n",
       "      <td>6.6</td>\n",
       "      <td>0.21</td>\n",
       "      <td>0.29</td>\n",
       "      <td>5.35</td>\n",
       "      <td>0.029</td>\n",
       "      <td>43.0</td>\n",
       "      <td>106.0</td>\n",
       "      <td>0.99112</td>\n",
       "      <td>2.93</td>\n",
       "      <td>0.43</td>\n",
       "    </tr>\n",
       "    <tr>\n",
       "      <th>1089</th>\n",
       "      <td>7.0</td>\n",
       "      <td>0.17</td>\n",
       "      <td>0.33</td>\n",
       "      <td>4.00</td>\n",
       "      <td>0.034</td>\n",
       "      <td>17.0</td>\n",
       "      <td>127.0</td>\n",
       "      <td>0.99340</td>\n",
       "      <td>3.19</td>\n",
       "      <td>0.39</td>\n",
       "    </tr>\n",
       "    <tr>\n",
       "      <th>693</th>\n",
       "      <td>5.9</td>\n",
       "      <td>0.37</td>\n",
       "      <td>0.14</td>\n",
       "      <td>6.30</td>\n",
       "      <td>0.036</td>\n",
       "      <td>34.0</td>\n",
       "      <td>185.0</td>\n",
       "      <td>0.99440</td>\n",
       "      <td>3.17</td>\n",
       "      <td>0.63</td>\n",
       "    </tr>\n",
       "    <tr>\n",
       "      <th>1738</th>\n",
       "      <td>7.5</td>\n",
       "      <td>0.15</td>\n",
       "      <td>0.38</td>\n",
       "      <td>1.80</td>\n",
       "      <td>0.054</td>\n",
       "      <td>19.0</td>\n",
       "      <td>101.0</td>\n",
       "      <td>0.99460</td>\n",
       "      <td>3.24</td>\n",
       "      <td>0.44</td>\n",
       "    </tr>\n",
       "    <tr>\n",
       "      <th>4239</th>\n",
       "      <td>5.7</td>\n",
       "      <td>0.28</td>\n",
       "      <td>0.36</td>\n",
       "      <td>1.80</td>\n",
       "      <td>0.041</td>\n",
       "      <td>38.0</td>\n",
       "      <td>90.0</td>\n",
       "      <td>0.99002</td>\n",
       "      <td>3.27</td>\n",
       "      <td>0.98</td>\n",
       "    </tr>\n",
       "  </tbody>\n",
       "</table>\n",
       "</div>"
      ],
      "text/plain": [
       "      fixed acidity  volatile acidity  citric acid  residual sugar  chlorides  \\\n",
       "3451            6.6              0.21         0.29            5.35      0.029   \n",
       "1089            7.0              0.17         0.33            4.00      0.034   \n",
       "693             5.9              0.37         0.14            6.30      0.036   \n",
       "1738            7.5              0.15         0.38            1.80      0.054   \n",
       "4239            5.7              0.28         0.36            1.80      0.041   \n",
       "\n",
       "      free sulfur dioxide  total sulfur dioxide  density    pH  sulphates  \n",
       "3451                 43.0                 106.0  0.99112  2.93       0.43  \n",
       "1089                 17.0                 127.0  0.99340  3.19       0.39  \n",
       "693                  34.0                 185.0  0.99440  3.17       0.63  \n",
       "1738                 19.0                 101.0  0.99460  3.24       0.44  \n",
       "4239                 38.0                  90.0  0.99002  3.27       0.98  "
      ]
     },
     "execution_count": 146,
     "metadata": {},
     "output_type": "execute_result"
    }
   ],
   "source": [
    "# divide data into training and test sets.\n",
    "X_train_alcohol_white, X_test_alcohol_white, y_train_alcohol_white, y_test_alcohol_white = train_test_split(X_alcohol_white, y_alcohol_white, test_size = 0.20)\n",
    "X_train_alcohol_white.head()"
   ]
  },
  {
   "cell_type": "code",
   "execution_count": 147,
   "metadata": {},
   "outputs": [
    {
     "data": {
      "text/plain": [
       "3451    high\n",
       "1089    high\n",
       "693      low\n",
       "1738     low\n",
       "4239    high\n",
       "Name: alcohol content, dtype: object"
      ]
     },
     "execution_count": 147,
     "metadata": {},
     "output_type": "execute_result"
    }
   ],
   "source": [
    "y_train_alcohol_white.head()"
   ]
  },
  {
   "cell_type": "markdown",
   "metadata": {},
   "source": [
    "### 2.2.2- Data standarization\n",
    "\n",
    "Standarization of datasets is a common requirement for many machine learning estimators. They might behave badly if the individual features do not more or less look like standard normally distributed data: Gaussian with zero mean and unit variance.\n",
    "\n",
    "Here we are going to use StandardScaler, that standardize features by removing the mean and scaling to unit variance. The standard score of a sample $x$ is calculated as:\n",
    "\n",
    "$x_{scaled} = \\dfrac{x - \\mu}{\\sigma}$\n",
    "\n",
    "where $\\mu$ is the mean of the training samples and $\\sigma$ is the standard deviation of the training samples.\n",
    "\n",
    "#### 2.2.2.1- Red wine"
   ]
  },
  {
   "cell_type": "code",
   "execution_count": 150,
   "metadata": {},
   "outputs": [
    {
     "data": {
      "text/html": [
       "<div>\n",
       "<style scoped>\n",
       "    .dataframe tbody tr th:only-of-type {\n",
       "        vertical-align: middle;\n",
       "    }\n",
       "\n",
       "    .dataframe tbody tr th {\n",
       "        vertical-align: top;\n",
       "    }\n",
       "\n",
       "    .dataframe thead th {\n",
       "        text-align: right;\n",
       "    }\n",
       "</style>\n",
       "<table border=\"1\" class=\"dataframe\">\n",
       "  <thead>\n",
       "    <tr style=\"text-align: right;\">\n",
       "      <th></th>\n",
       "      <th>fixed acidity</th>\n",
       "      <th>volatile acidity</th>\n",
       "      <th>citric acid</th>\n",
       "      <th>residual sugar</th>\n",
       "      <th>chlorides</th>\n",
       "      <th>free sulfur dioxide</th>\n",
       "      <th>total sulfur dioxide</th>\n",
       "      <th>density</th>\n",
       "      <th>pH</th>\n",
       "      <th>sulphates</th>\n",
       "    </tr>\n",
       "  </thead>\n",
       "  <tbody>\n",
       "    <tr>\n",
       "      <th>0</th>\n",
       "      <td>0.345752</td>\n",
       "      <td>1.232888</td>\n",
       "      <td>-0.665878</td>\n",
       "      <td>-0.026318</td>\n",
       "      <td>-0.037008</td>\n",
       "      <td>-0.665879</td>\n",
       "      <td>-0.505725</td>\n",
       "      <td>0.796580</td>\n",
       "      <td>0.180564</td>\n",
       "      <td>-0.090055</td>\n",
       "    </tr>\n",
       "    <tr>\n",
       "      <th>1</th>\n",
       "      <td>1.499613</td>\n",
       "      <td>0.010836</td>\n",
       "      <td>1.142643</td>\n",
       "      <td>1.422223</td>\n",
       "      <td>0.627612</td>\n",
       "      <td>-0.569292</td>\n",
       "      <td>-0.909698</td>\n",
       "      <td>1.836225</td>\n",
       "      <td>-1.547657</td>\n",
       "      <td>-0.577847</td>\n",
       "    </tr>\n",
       "    <tr>\n",
       "      <th>2</th>\n",
       "      <td>1.268841</td>\n",
       "      <td>-1.600051</td>\n",
       "      <td>1.039299</td>\n",
       "      <td>-0.302231</td>\n",
       "      <td>-0.452395</td>\n",
       "      <td>-0.955642</td>\n",
       "      <td>-0.692174</td>\n",
       "      <td>0.563190</td>\n",
       "      <td>-1.035591</td>\n",
       "      <td>1.495271</td>\n",
       "    </tr>\n",
       "    <tr>\n",
       "      <th>3</th>\n",
       "      <td>-0.173485</td>\n",
       "      <td>-0.600190</td>\n",
       "      <td>-0.510862</td>\n",
       "      <td>-0.371209</td>\n",
       "      <td>-0.307010</td>\n",
       "      <td>-0.955642</td>\n",
       "      <td>-0.878623</td>\n",
       "      <td>0.244931</td>\n",
       "      <td>-0.139477</td>\n",
       "      <td>-0.272977</td>\n",
       "    </tr>\n",
       "    <tr>\n",
       "      <th>4</th>\n",
       "      <td>-1.096573</td>\n",
       "      <td>-0.933477</td>\n",
       "      <td>1.349331</td>\n",
       "      <td>-0.233253</td>\n",
       "      <td>2.953780</td>\n",
       "      <td>0.299995</td>\n",
       "      <td>-0.350351</td>\n",
       "      <td>-1.770707</td>\n",
       "      <td>0.372589</td>\n",
       "      <td>1.678194</td>\n",
       "    </tr>\n",
       "  </tbody>\n",
       "</table>\n",
       "</div>"
      ],
      "text/plain": [
       "   fixed acidity  volatile acidity  citric acid  residual sugar  chlorides  \\\n",
       "0       0.345752          1.232888    -0.665878       -0.026318  -0.037008   \n",
       "1       1.499613          0.010836     1.142643        1.422223   0.627612   \n",
       "2       1.268841         -1.600051     1.039299       -0.302231  -0.452395   \n",
       "3      -0.173485         -0.600190    -0.510862       -0.371209  -0.307010   \n",
       "4      -1.096573         -0.933477     1.349331       -0.233253   2.953780   \n",
       "\n",
       "   free sulfur dioxide  total sulfur dioxide   density        pH  sulphates  \n",
       "0            -0.665879             -0.505725  0.796580  0.180564  -0.090055  \n",
       "1            -0.569292             -0.909698  1.836225 -1.547657  -0.577847  \n",
       "2            -0.955642             -0.692174  0.563190 -1.035591   1.495271  \n",
       "3            -0.955642             -0.878623  0.244931 -0.139477  -0.272977  \n",
       "4             0.299995             -0.350351 -1.770707  0.372589   1.678194  "
      ]
     },
     "execution_count": 150,
     "metadata": {},
     "output_type": "execute_result"
    }
   ],
   "source": [
    "X_train_alcohol_red_scaled = pd.DataFrame(preprocessing.StandardScaler().fit_transform(X_train_alcohol_red), columns=X_train_alcohol_red.columns.values)\n",
    "X_train_alcohol_red_scaled.head()"
   ]
  },
  {
   "cell_type": "code",
   "execution_count": 151,
   "metadata": {},
   "outputs": [
    {
     "data": {
      "text/html": [
       "<div>\n",
       "<style scoped>\n",
       "    .dataframe tbody tr th:only-of-type {\n",
       "        vertical-align: middle;\n",
       "    }\n",
       "\n",
       "    .dataframe tbody tr th {\n",
       "        vertical-align: top;\n",
       "    }\n",
       "\n",
       "    .dataframe thead th {\n",
       "        text-align: right;\n",
       "    }\n",
       "</style>\n",
       "<table border=\"1\" class=\"dataframe\">\n",
       "  <thead>\n",
       "    <tr style=\"text-align: right;\">\n",
       "      <th></th>\n",
       "      <th>fixed acidity</th>\n",
       "      <th>volatile acidity</th>\n",
       "      <th>citric acid</th>\n",
       "      <th>residual sugar</th>\n",
       "      <th>chlorides</th>\n",
       "      <th>free sulfur dioxide</th>\n",
       "      <th>total sulfur dioxide</th>\n",
       "      <th>density</th>\n",
       "      <th>pH</th>\n",
       "      <th>sulphates</th>\n",
       "    </tr>\n",
       "  </thead>\n",
       "  <tbody>\n",
       "    <tr>\n",
       "      <th>count</th>\n",
       "      <td>1.279000e+03</td>\n",
       "      <td>1.279000e+03</td>\n",
       "      <td>1.279000e+03</td>\n",
       "      <td>1.279000e+03</td>\n",
       "      <td>1.279000e+03</td>\n",
       "      <td>1.279000e+03</td>\n",
       "      <td>1.279000e+03</td>\n",
       "      <td>1.279000e+03</td>\n",
       "      <td>1.279000e+03</td>\n",
       "      <td>1.279000e+03</td>\n",
       "    </tr>\n",
       "    <tr>\n",
       "      <th>mean</th>\n",
       "      <td>1.111091e-15</td>\n",
       "      <td>1.930521e-16</td>\n",
       "      <td>-4.027705e-17</td>\n",
       "      <td>2.722173e-16</td>\n",
       "      <td>1.881910e-16</td>\n",
       "      <td>6.249887e-17</td>\n",
       "      <td>-7.777637e-17</td>\n",
       "      <td>-3.859097e-14</td>\n",
       "      <td>-3.083278e-15</td>\n",
       "      <td>-1.777746e-16</td>\n",
       "    </tr>\n",
       "    <tr>\n",
       "      <th>std</th>\n",
       "      <td>1.000391e+00</td>\n",
       "      <td>1.000391e+00</td>\n",
       "      <td>1.000391e+00</td>\n",
       "      <td>1.000391e+00</td>\n",
       "      <td>1.000391e+00</td>\n",
       "      <td>1.000391e+00</td>\n",
       "      <td>1.000391e+00</td>\n",
       "      <td>1.000391e+00</td>\n",
       "      <td>1.000391e+00</td>\n",
       "      <td>1.000391e+00</td>\n",
       "    </tr>\n",
       "    <tr>\n",
       "      <th>min</th>\n",
       "      <td>-2.135048e+00</td>\n",
       "      <td>-2.266624e+00</td>\n",
       "      <td>-1.389287e+00</td>\n",
       "      <td>-1.129969e+00</td>\n",
       "      <td>-1.573941e+00</td>\n",
       "      <td>-1.438579e+00</td>\n",
       "      <td>-1.251521e+00</td>\n",
       "      <td>-3.537043e+00</td>\n",
       "      <td>-3.659927e+00</td>\n",
       "      <td>-1.980251e+00</td>\n",
       "    </tr>\n",
       "    <tr>\n",
       "      <th>25%</th>\n",
       "      <td>-6.927222e-01</td>\n",
       "      <td>-7.668334e-01</td>\n",
       "      <td>-9.242384e-01</td>\n",
       "      <td>-4.401873e-01</td>\n",
       "      <td>-3.693179e-01</td>\n",
       "      <td>-8.107606e-01</td>\n",
       "      <td>-7.543236e-01</td>\n",
       "      <td>-6.037584e-01</td>\n",
       "      <td>-6.515423e-01</td>\n",
       "      <td>-6.388215e-01</td>\n",
       "    </tr>\n",
       "    <tr>\n",
       "      <th>50%</th>\n",
       "      <td>-2.311781e-01</td>\n",
       "      <td>-4.471186e-02</td>\n",
       "      <td>-9.748600e-02</td>\n",
       "      <td>-2.332529e-01</td>\n",
       "      <td>-1.823937e-01</td>\n",
       "      <td>-1.829422e-01</td>\n",
       "      <td>-2.571265e-01</td>\n",
       "      <td>6.237439e-03</td>\n",
       "      <td>-1.146042e-02</td>\n",
       "      <td>-2.120029e-01</td>\n",
       "    </tr>\n",
       "    <tr>\n",
       "      <th>75%</th>\n",
       "      <td>5.188312e-01</td>\n",
       "      <td>6.079749e-01</td>\n",
       "      <td>7.809384e-01</td>\n",
       "      <td>4.265967e-02</td>\n",
       "      <td>4.606934e-02</td>\n",
       "      <td>5.897573e-01</td>\n",
       "      <td>5.197440e-01</td>\n",
       "      <td>5.631901e-01</td>\n",
       "      <td>5.646133e-01</td>\n",
       "      <td>3.977379e-01</td>\n",
       "    </tr>\n",
       "    <tr>\n",
       "      <th>max</th>\n",
       "      <td>4.384264e+00</td>\n",
       "      <td>5.843356e+00</td>\n",
       "      <td>3.777916e+00</td>\n",
       "      <td>8.940840e+00</td>\n",
       "      <td>1.086691e+01</td>\n",
       "      <td>5.419130e+00</td>\n",
       "      <td>7.542653e+00</td>\n",
       "      <td>3.687430e+00</td>\n",
       "      <td>4.469113e+00</td>\n",
       "      <td>8.202420e+00</td>\n",
       "    </tr>\n",
       "  </tbody>\n",
       "</table>\n",
       "</div>"
      ],
      "text/plain": [
       "       fixed acidity  volatile acidity   citric acid  residual sugar  \\\n",
       "count   1.279000e+03      1.279000e+03  1.279000e+03    1.279000e+03   \n",
       "mean    1.111091e-15      1.930521e-16 -4.027705e-17    2.722173e-16   \n",
       "std     1.000391e+00      1.000391e+00  1.000391e+00    1.000391e+00   \n",
       "min    -2.135048e+00     -2.266624e+00 -1.389287e+00   -1.129969e+00   \n",
       "25%    -6.927222e-01     -7.668334e-01 -9.242384e-01   -4.401873e-01   \n",
       "50%    -2.311781e-01     -4.471186e-02 -9.748600e-02   -2.332529e-01   \n",
       "75%     5.188312e-01      6.079749e-01  7.809384e-01    4.265967e-02   \n",
       "max     4.384264e+00      5.843356e+00  3.777916e+00    8.940840e+00   \n",
       "\n",
       "          chlorides  free sulfur dioxide  total sulfur dioxide       density  \\\n",
       "count  1.279000e+03         1.279000e+03          1.279000e+03  1.279000e+03   \n",
       "mean   1.881910e-16         6.249887e-17         -7.777637e-17 -3.859097e-14   \n",
       "std    1.000391e+00         1.000391e+00          1.000391e+00  1.000391e+00   \n",
       "min   -1.573941e+00        -1.438579e+00         -1.251521e+00 -3.537043e+00   \n",
       "25%   -3.693179e-01        -8.107606e-01         -7.543236e-01 -6.037584e-01   \n",
       "50%   -1.823937e-01        -1.829422e-01         -2.571265e-01  6.237439e-03   \n",
       "75%    4.606934e-02         5.897573e-01          5.197440e-01  5.631901e-01   \n",
       "max    1.086691e+01         5.419130e+00          7.542653e+00  3.687430e+00   \n",
       "\n",
       "                 pH     sulphates  \n",
       "count  1.279000e+03  1.279000e+03  \n",
       "mean  -3.083278e-15 -1.777746e-16  \n",
       "std    1.000391e+00  1.000391e+00  \n",
       "min   -3.659927e+00 -1.980251e+00  \n",
       "25%   -6.515423e-01 -6.388215e-01  \n",
       "50%   -1.146042e-02 -2.120029e-01  \n",
       "75%    5.646133e-01  3.977379e-01  \n",
       "max    4.469113e+00  8.202420e+00  "
      ]
     },
     "execution_count": 151,
     "metadata": {},
     "output_type": "execute_result"
    }
   ],
   "source": [
    "X_train_alcohol_red_scaled.describe()"
   ]
  },
  {
   "cell_type": "code",
   "execution_count": 152,
   "metadata": {},
   "outputs": [
    {
     "data": {
      "text/html": [
       "<div>\n",
       "<style scoped>\n",
       "    .dataframe tbody tr th:only-of-type {\n",
       "        vertical-align: middle;\n",
       "    }\n",
       "\n",
       "    .dataframe tbody tr th {\n",
       "        vertical-align: top;\n",
       "    }\n",
       "\n",
       "    .dataframe thead th {\n",
       "        text-align: right;\n",
       "    }\n",
       "</style>\n",
       "<table border=\"1\" class=\"dataframe\">\n",
       "  <thead>\n",
       "    <tr style=\"text-align: right;\">\n",
       "      <th></th>\n",
       "      <th>fixed acidity</th>\n",
       "      <th>volatile acidity</th>\n",
       "      <th>citric acid</th>\n",
       "      <th>residual sugar</th>\n",
       "      <th>chlorides</th>\n",
       "      <th>free sulfur dioxide</th>\n",
       "      <th>total sulfur dioxide</th>\n",
       "      <th>density</th>\n",
       "      <th>pH</th>\n",
       "      <th>sulphates</th>\n",
       "    </tr>\n",
       "  </thead>\n",
       "  <tbody>\n",
       "    <tr>\n",
       "      <th>0</th>\n",
       "      <td>-0.280286</td>\n",
       "      <td>-0.153874</td>\n",
       "      <td>0.253873</td>\n",
       "      <td>-0.438174</td>\n",
       "      <td>-0.052085</td>\n",
       "      <td>-0.073516</td>\n",
       "      <td>2.693521</td>\n",
       "      <td>0.010355</td>\n",
       "      <td>-0.739965</td>\n",
       "      <td>-0.643422</td>\n",
       "    </tr>\n",
       "    <tr>\n",
       "      <th>1</th>\n",
       "      <td>-0.110523</td>\n",
       "      <td>1.447418</td>\n",
       "      <td>-1.402025</td>\n",
       "      <td>-0.276309</td>\n",
       "      <td>0.065954</td>\n",
       "      <td>-0.257667</td>\n",
       "      <td>-0.597457</td>\n",
       "      <td>0.538814</td>\n",
       "      <td>0.420430</td>\n",
       "      <td>-1.119419</td>\n",
       "    </tr>\n",
       "    <tr>\n",
       "      <th>2</th>\n",
       "      <td>-1.355452</td>\n",
       "      <td>-0.153874</td>\n",
       "      <td>-1.402025</td>\n",
       "      <td>-0.923769</td>\n",
       "      <td>-0.689496</td>\n",
       "      <td>-0.073516</td>\n",
       "      <td>-0.597457</td>\n",
       "      <td>-1.215672</td>\n",
       "      <td>0.352171</td>\n",
       "      <td>-1.172307</td>\n",
       "    </tr>\n",
       "    <tr>\n",
       "      <th>3</th>\n",
       "      <td>-0.959338</td>\n",
       "      <td>0.989906</td>\n",
       "      <td>-1.000595</td>\n",
       "      <td>0.978146</td>\n",
       "      <td>-0.453418</td>\n",
       "      <td>-0.718045</td>\n",
       "      <td>-0.878737</td>\n",
       "      <td>-1.818117</td>\n",
       "      <td>0.829981</td>\n",
       "      <td>-0.802088</td>\n",
       "    </tr>\n",
       "    <tr>\n",
       "      <th>4</th>\n",
       "      <td>-0.053935</td>\n",
       "      <td>1.847741</td>\n",
       "      <td>-0.699523</td>\n",
       "      <td>-0.033511</td>\n",
       "      <td>0.160386</td>\n",
       "      <td>-0.257667</td>\n",
       "      <td>0.190128</td>\n",
       "      <td>0.242877</td>\n",
       "      <td>0.352171</td>\n",
       "      <td>-0.696311</td>\n",
       "    </tr>\n",
       "  </tbody>\n",
       "</table>\n",
       "</div>"
      ],
      "text/plain": [
       "   fixed acidity  volatile acidity  citric acid  residual sugar  chlorides  \\\n",
       "0      -0.280286         -0.153874     0.253873       -0.438174  -0.052085   \n",
       "1      -0.110523          1.447418    -1.402025       -0.276309   0.065954   \n",
       "2      -1.355452         -0.153874    -1.402025       -0.923769  -0.689496   \n",
       "3      -0.959338          0.989906    -1.000595        0.978146  -0.453418   \n",
       "4      -0.053935          1.847741    -0.699523       -0.033511   0.160386   \n",
       "\n",
       "   free sulfur dioxide  total sulfur dioxide   density        pH  sulphates  \n",
       "0            -0.073516              2.693521  0.010355 -0.739965  -0.643422  \n",
       "1            -0.257667             -0.597457  0.538814  0.420430  -1.119419  \n",
       "2            -0.073516             -0.597457 -1.215672  0.352171  -1.172307  \n",
       "3            -0.718045             -0.878737 -1.818117  0.829981  -0.802088  \n",
       "4            -0.257667              0.190128  0.242877  0.352171  -0.696311  "
      ]
     },
     "execution_count": 152,
     "metadata": {},
     "output_type": "execute_result"
    }
   ],
   "source": [
    "X_test_alcohol_red_scaled = pd.DataFrame(preprocessing.StandardScaler().fit_transform(X_test_alcohol_red), columns=X_test_alcohol_red.columns.values)\n",
    "X_test_alcohol_red_scaled.head()"
   ]
  },
  {
   "cell_type": "code",
   "execution_count": 153,
   "metadata": {},
   "outputs": [
    {
     "data": {
      "text/html": [
       "<div>\n",
       "<style scoped>\n",
       "    .dataframe tbody tr th:only-of-type {\n",
       "        vertical-align: middle;\n",
       "    }\n",
       "\n",
       "    .dataframe tbody tr th {\n",
       "        vertical-align: top;\n",
       "    }\n",
       "\n",
       "    .dataframe thead th {\n",
       "        text-align: right;\n",
       "    }\n",
       "</style>\n",
       "<table border=\"1\" class=\"dataframe\">\n",
       "  <thead>\n",
       "    <tr style=\"text-align: right;\">\n",
       "      <th></th>\n",
       "      <th>fixed acidity</th>\n",
       "      <th>volatile acidity</th>\n",
       "      <th>citric acid</th>\n",
       "      <th>residual sugar</th>\n",
       "      <th>chlorides</th>\n",
       "      <th>free sulfur dioxide</th>\n",
       "      <th>total sulfur dioxide</th>\n",
       "      <th>density</th>\n",
       "      <th>pH</th>\n",
       "      <th>sulphates</th>\n",
       "    </tr>\n",
       "  </thead>\n",
       "  <tbody>\n",
       "    <tr>\n",
       "      <th>count</th>\n",
       "      <td>3.200000e+02</td>\n",
       "      <td>3.200000e+02</td>\n",
       "      <td>3.200000e+02</td>\n",
       "      <td>3.200000e+02</td>\n",
       "      <td>3.200000e+02</td>\n",
       "      <td>3.200000e+02</td>\n",
       "      <td>3.200000e+02</td>\n",
       "      <td>3.200000e+02</td>\n",
       "      <td>3.200000e+02</td>\n",
       "      <td>3.200000e+02</td>\n",
       "    </tr>\n",
       "    <tr>\n",
       "      <th>mean</th>\n",
       "      <td>3.941292e-16</td>\n",
       "      <td>5.218048e-16</td>\n",
       "      <td>1.554312e-16</td>\n",
       "      <td>-5.828671e-17</td>\n",
       "      <td>8.326673e-17</td>\n",
       "      <td>-1.665335e-17</td>\n",
       "      <td>-2.081668e-17</td>\n",
       "      <td>-4.584111e-14</td>\n",
       "      <td>-5.967449e-17</td>\n",
       "      <td>-3.302913e-16</td>\n",
       "    </tr>\n",
       "    <tr>\n",
       "      <th>std</th>\n",
       "      <td>1.001566e+00</td>\n",
       "      <td>1.001566e+00</td>\n",
       "      <td>1.001566e+00</td>\n",
       "      <td>1.001566e+00</td>\n",
       "      <td>1.001566e+00</td>\n",
       "      <td>1.001566e+00</td>\n",
       "      <td>1.001566e+00</td>\n",
       "      <td>1.001566e+00</td>\n",
       "      <td>1.001566e+00</td>\n",
       "      <td>1.001566e+00</td>\n",
       "    </tr>\n",
       "    <tr>\n",
       "      <th>min</th>\n",
       "      <td>-1.864742e+00</td>\n",
       "      <td>-1.926734e+00</td>\n",
       "      <td>-1.402025e+00</td>\n",
       "      <td>-1.004702e+00</td>\n",
       "      <td>-1.751849e+00</td>\n",
       "      <td>-1.178422e+00</td>\n",
       "      <td>-1.160017e+00</td>\n",
       "      <td>-3.244959e+00</td>\n",
       "      <td>-2.651205e+00</td>\n",
       "      <td>-1.489639e+00</td>\n",
       "    </tr>\n",
       "    <tr>\n",
       "      <th>25%</th>\n",
       "      <td>-7.329876e-01</td>\n",
       "      <td>-7.829534e-01</td>\n",
       "      <td>-9.504162e-01</td>\n",
       "      <td>-5.191064e-01</td>\n",
       "      <td>-3.825944e-01</td>\n",
       "      <td>-8.101201e-01</td>\n",
       "      <td>-7.662247e-01</td>\n",
       "      <td>-5.986955e-01</td>\n",
       "      <td>-6.717068e-01</td>\n",
       "      <td>-5.905336e-01</td>\n",
       "    </tr>\n",
       "    <tr>\n",
       "      <th>50%</th>\n",
       "      <td>-2.236983e-01</td>\n",
       "      <td>-9.668518e-02</td>\n",
       "      <td>-2.211000e-02</td>\n",
       "      <td>-2.763088e-01</td>\n",
       "      <td>-1.701239e-01</td>\n",
       "      <td>-2.576674e-01</td>\n",
       "      <td>-2.739845e-01</td>\n",
       "      <td>-1.342618e-02</td>\n",
       "      <td>1.087871e-02</td>\n",
       "      <td>-2.732024e-01</td>\n",
       "    </tr>\n",
       "    <tr>\n",
       "      <th>75%</th>\n",
       "      <td>5.119419e-01</td>\n",
       "      <td>6.467720e-01</td>\n",
       "      <td>8.058388e-01</td>\n",
       "      <td>4.742141e-02</td>\n",
       "      <td>1.131700e-01</td>\n",
       "      <td>4.789362e-01</td>\n",
       "      <td>3.870239e-01</td>\n",
       "      <td>5.916604e-01</td>\n",
       "      <td>5.569471e-01</td>\n",
       "      <td>4.143486e-01</td>\n",
       "    </tr>\n",
       "    <tr>\n",
       "      <th>max</th>\n",
       "      <td>4.076967e+00</td>\n",
       "      <td>3.763573e+00</td>\n",
       "      <td>2.411558e+00</td>\n",
       "      <td>9.111867e+00</td>\n",
       "      <td>8.918891e+00</td>\n",
       "      <td>4.806482e+00</td>\n",
       "      <td>6.490803e+00</td>\n",
       "      <td>3.392498e+00</td>\n",
       "      <td>2.604704e+00</td>\n",
       "      <td>6.760973e+00</td>\n",
       "    </tr>\n",
       "  </tbody>\n",
       "</table>\n",
       "</div>"
      ],
      "text/plain": [
       "       fixed acidity  volatile acidity   citric acid  residual sugar  \\\n",
       "count   3.200000e+02      3.200000e+02  3.200000e+02    3.200000e+02   \n",
       "mean    3.941292e-16      5.218048e-16  1.554312e-16   -5.828671e-17   \n",
       "std     1.001566e+00      1.001566e+00  1.001566e+00    1.001566e+00   \n",
       "min    -1.864742e+00     -1.926734e+00 -1.402025e+00   -1.004702e+00   \n",
       "25%    -7.329876e-01     -7.829534e-01 -9.504162e-01   -5.191064e-01   \n",
       "50%    -2.236983e-01     -9.668518e-02 -2.211000e-02   -2.763088e-01   \n",
       "75%     5.119419e-01      6.467720e-01  8.058388e-01    4.742141e-02   \n",
       "max     4.076967e+00      3.763573e+00  2.411558e+00    9.111867e+00   \n",
       "\n",
       "          chlorides  free sulfur dioxide  total sulfur dioxide       density  \\\n",
       "count  3.200000e+02         3.200000e+02          3.200000e+02  3.200000e+02   \n",
       "mean   8.326673e-17        -1.665335e-17         -2.081668e-17 -4.584111e-14   \n",
       "std    1.001566e+00         1.001566e+00          1.001566e+00  1.001566e+00   \n",
       "min   -1.751849e+00        -1.178422e+00         -1.160017e+00 -3.244959e+00   \n",
       "25%   -3.825944e-01        -8.101201e-01         -7.662247e-01 -5.986955e-01   \n",
       "50%   -1.701239e-01        -2.576674e-01         -2.739845e-01 -1.342618e-02   \n",
       "75%    1.131700e-01         4.789362e-01          3.870239e-01  5.916604e-01   \n",
       "max    8.918891e+00         4.806482e+00          6.490803e+00  3.392498e+00   \n",
       "\n",
       "                 pH     sulphates  \n",
       "count  3.200000e+02  3.200000e+02  \n",
       "mean  -5.967449e-17 -3.302913e-16  \n",
       "std    1.001566e+00  1.001566e+00  \n",
       "min   -2.651205e+00 -1.489639e+00  \n",
       "25%   -6.717068e-01 -5.905336e-01  \n",
       "50%    1.087871e-02 -2.732024e-01  \n",
       "75%    5.569471e-01  4.143486e-01  \n",
       "max    2.604704e+00  6.760973e+00  "
      ]
     },
     "execution_count": 153,
     "metadata": {},
     "output_type": "execute_result"
    }
   ],
   "source": [
    "X_test_alcohol_red_scaled.describe()"
   ]
  },
  {
   "cell_type": "markdown",
   "metadata": {},
   "source": [
    "#### 2.2.2.2- White wine"
   ]
  },
  {
   "cell_type": "code",
   "execution_count": 154,
   "metadata": {},
   "outputs": [
    {
     "data": {
      "text/html": [
       "<div>\n",
       "<style scoped>\n",
       "    .dataframe tbody tr th:only-of-type {\n",
       "        vertical-align: middle;\n",
       "    }\n",
       "\n",
       "    .dataframe tbody tr th {\n",
       "        vertical-align: top;\n",
       "    }\n",
       "\n",
       "    .dataframe thead th {\n",
       "        text-align: right;\n",
       "    }\n",
       "</style>\n",
       "<table border=\"1\" class=\"dataframe\">\n",
       "  <thead>\n",
       "    <tr style=\"text-align: right;\">\n",
       "      <th></th>\n",
       "      <th>fixed acidity</th>\n",
       "      <th>volatile acidity</th>\n",
       "      <th>citric acid</th>\n",
       "      <th>residual sugar</th>\n",
       "      <th>chlorides</th>\n",
       "      <th>free sulfur dioxide</th>\n",
       "      <th>total sulfur dioxide</th>\n",
       "      <th>density</th>\n",
       "      <th>pH</th>\n",
       "      <th>sulphates</th>\n",
       "    </tr>\n",
       "  </thead>\n",
       "  <tbody>\n",
       "    <tr>\n",
       "      <th>0</th>\n",
       "      <td>-0.316513</td>\n",
       "      <td>-0.670103</td>\n",
       "      <td>-0.369193</td>\n",
       "      <td>-0.203457</td>\n",
       "      <td>-0.777965</td>\n",
       "      <td>0.449297</td>\n",
       "      <td>-0.770480</td>\n",
       "      <td>-0.972769</td>\n",
       "      <td>-1.687436</td>\n",
       "      <td>-0.522860</td>\n",
       "    </tr>\n",
       "    <tr>\n",
       "      <th>1</th>\n",
       "      <td>0.161344</td>\n",
       "      <td>-1.066325</td>\n",
       "      <td>-0.040686</td>\n",
       "      <td>-0.469891</td>\n",
       "      <td>-0.545880</td>\n",
       "      <td>-1.079801</td>\n",
       "      <td>-0.279599</td>\n",
       "      <td>-0.211232</td>\n",
       "      <td>0.018844</td>\n",
       "      <td>-0.874379</td>\n",
       "    </tr>\n",
       "    <tr>\n",
       "      <th>2</th>\n",
       "      <td>-1.152763</td>\n",
       "      <td>0.914784</td>\n",
       "      <td>-1.601092</td>\n",
       "      <td>-0.015966</td>\n",
       "      <td>-0.453046</td>\n",
       "      <td>-0.080006</td>\n",
       "      <td>1.076167</td>\n",
       "      <td>0.122776</td>\n",
       "      <td>-0.112409</td>\n",
       "      <td>1.234736</td>\n",
       "    </tr>\n",
       "    <tr>\n",
       "      <th>3</th>\n",
       "      <td>0.758665</td>\n",
       "      <td>-1.264436</td>\n",
       "      <td>0.369947</td>\n",
       "      <td>-0.904081</td>\n",
       "      <td>0.382461</td>\n",
       "      <td>-0.962178</td>\n",
       "      <td>-0.887357</td>\n",
       "      <td>0.189578</td>\n",
       "      <td>0.346974</td>\n",
       "      <td>-0.434980</td>\n",
       "    </tr>\n",
       "    <tr>\n",
       "      <th>4</th>\n",
       "      <td>-1.391691</td>\n",
       "      <td>0.023285</td>\n",
       "      <td>0.205694</td>\n",
       "      <td>-0.904081</td>\n",
       "      <td>-0.220961</td>\n",
       "      <td>0.155239</td>\n",
       "      <td>-1.144485</td>\n",
       "      <td>-1.340178</td>\n",
       "      <td>0.543853</td>\n",
       "      <td>4.310529</td>\n",
       "    </tr>\n",
       "  </tbody>\n",
       "</table>\n",
       "</div>"
      ],
      "text/plain": [
       "   fixed acidity  volatile acidity  citric acid  residual sugar  chlorides  \\\n",
       "0      -0.316513         -0.670103    -0.369193       -0.203457  -0.777965   \n",
       "1       0.161344         -1.066325    -0.040686       -0.469891  -0.545880   \n",
       "2      -1.152763          0.914784    -1.601092       -0.015966  -0.453046   \n",
       "3       0.758665         -1.264436     0.369947       -0.904081   0.382461   \n",
       "4      -1.391691          0.023285     0.205694       -0.904081  -0.220961   \n",
       "\n",
       "   free sulfur dioxide  total sulfur dioxide   density        pH  sulphates  \n",
       "0             0.449297             -0.770480 -0.972769 -1.687436  -0.522860  \n",
       "1            -1.079801             -0.279599 -0.211232  0.018844  -0.874379  \n",
       "2            -0.080006              1.076167  0.122776 -0.112409   1.234736  \n",
       "3            -0.962178             -0.887357  0.189578  0.346974  -0.434980  \n",
       "4             0.155239             -1.144485 -1.340178  0.543853   4.310529  "
      ]
     },
     "execution_count": 154,
     "metadata": {},
     "output_type": "execute_result"
    }
   ],
   "source": [
    "X_train_alcohol_white_scaled = pd.DataFrame(preprocessing.StandardScaler().fit_transform(X_train_alcohol_white), columns=X_train_alcohol_white.columns.values)\n",
    "X_train_alcohol_white_scaled.head()"
   ]
  },
  {
   "cell_type": "code",
   "execution_count": 155,
   "metadata": {},
   "outputs": [
    {
     "data": {
      "text/html": [
       "<div>\n",
       "<style scoped>\n",
       "    .dataframe tbody tr th:only-of-type {\n",
       "        vertical-align: middle;\n",
       "    }\n",
       "\n",
       "    .dataframe tbody tr th {\n",
       "        vertical-align: top;\n",
       "    }\n",
       "\n",
       "    .dataframe thead th {\n",
       "        text-align: right;\n",
       "    }\n",
       "</style>\n",
       "<table border=\"1\" class=\"dataframe\">\n",
       "  <thead>\n",
       "    <tr style=\"text-align: right;\">\n",
       "      <th></th>\n",
       "      <th>fixed acidity</th>\n",
       "      <th>volatile acidity</th>\n",
       "      <th>citric acid</th>\n",
       "      <th>residual sugar</th>\n",
       "      <th>chlorides</th>\n",
       "      <th>free sulfur dioxide</th>\n",
       "      <th>total sulfur dioxide</th>\n",
       "      <th>density</th>\n",
       "      <th>pH</th>\n",
       "      <th>sulphates</th>\n",
       "    </tr>\n",
       "  </thead>\n",
       "  <tbody>\n",
       "    <tr>\n",
       "      <th>count</th>\n",
       "      <td>3.918000e+03</td>\n",
       "      <td>3.918000e+03</td>\n",
       "      <td>3.918000e+03</td>\n",
       "      <td>3.918000e+03</td>\n",
       "      <td>3.918000e+03</td>\n",
       "      <td>3.918000e+03</td>\n",
       "      <td>3.918000e+03</td>\n",
       "      <td>3.918000e+03</td>\n",
       "      <td>3.918000e+03</td>\n",
       "      <td>3.918000e+03</td>\n",
       "    </tr>\n",
       "    <tr>\n",
       "      <th>mean</th>\n",
       "      <td>8.782040e-16</td>\n",
       "      <td>4.134858e-16</td>\n",
       "      <td>-4.814934e-16</td>\n",
       "      <td>-3.627069e-18</td>\n",
       "      <td>-3.300632e-16</td>\n",
       "      <td>1.809000e-16</td>\n",
       "      <td>-1.659384e-16</td>\n",
       "      <td>-4.389025e-14</td>\n",
       "      <td>2.024811e-15</td>\n",
       "      <td>-6.438047e-17</td>\n",
       "    </tr>\n",
       "    <tr>\n",
       "      <th>std</th>\n",
       "      <td>1.000128e+00</td>\n",
       "      <td>1.000128e+00</td>\n",
       "      <td>1.000128e+00</td>\n",
       "      <td>1.000128e+00</td>\n",
       "      <td>1.000128e+00</td>\n",
       "      <td>1.000128e+00</td>\n",
       "      <td>1.000128e+00</td>\n",
       "      <td>1.000128e+00</td>\n",
       "      <td>1.000128e+00</td>\n",
       "      <td>1.000128e+00</td>\n",
       "    </tr>\n",
       "    <tr>\n",
       "      <th>min</th>\n",
       "      <td>-3.661512e+00</td>\n",
       "      <td>-1.957825e+00</td>\n",
       "      <td>-2.750865e+00</td>\n",
       "      <td>-1.140912e+00</td>\n",
       "      <td>-1.706305e+00</td>\n",
       "      <td>-1.961972e+00</td>\n",
       "      <td>-2.827505e+00</td>\n",
       "      <td>-2.312140e+00</td>\n",
       "      <td>-3.065585e+00</td>\n",
       "      <td>-2.368336e+00</td>\n",
       "    </tr>\n",
       "    <tr>\n",
       "      <th>25%</th>\n",
       "      <td>-6.749058e-01</td>\n",
       "      <td>-6.701035e-01</td>\n",
       "      <td>-5.334458e-01</td>\n",
       "      <td>-9.238168e-01</td>\n",
       "      <td>-4.530457e-01</td>\n",
       "      <td>-7.269322e-01</td>\n",
       "      <td>-7.237298e-01</td>\n",
       "      <td>-7.656846e-01</td>\n",
       "      <td>-7.030440e-01</td>\n",
       "      <td>-6.986197e-01</td>\n",
       "    </tr>\n",
       "    <tr>\n",
       "      <th>50%</th>\n",
       "      <td>-7.758467e-02</td>\n",
       "      <td>-1.748261e-01</td>\n",
       "      <td>-1.228126e-01</td>\n",
       "      <td>-2.478623e-01</td>\n",
       "      <td>-1.281266e-01</td>\n",
       "      <td>-8.000637e-02</td>\n",
       "      <td>-9.259725e-02</td>\n",
       "      <td>-9.432905e-02</td>\n",
       "      <td>-4.678250e-02</td>\n",
       "      <td>-1.713409e-01</td>\n",
       "    </tr>\n",
       "    <tr>\n",
       "      <th>75%</th>\n",
       "      <td>6.093347e-01</td>\n",
       "      <td>4.195068e-01</td>\n",
       "      <td>4.520738e-01</td>\n",
       "      <td>6.846588e-01</td>\n",
       "      <td>1.967925e-01</td>\n",
       "      <td>6.257309e-01</td>\n",
       "      <td>6.787870e-01</td>\n",
       "      <td>6.972693e-01</td>\n",
       "      <td>6.094790e-01</td>\n",
       "      <td>5.316974e-01</td>\n",
       "    </tr>\n",
       "    <tr>\n",
       "      <th>max</th>\n",
       "      <td>4.581520e+00</td>\n",
       "      <td>8.145834e+00</td>\n",
       "      <td>1.088216e+01</td>\n",
       "      <td>1.172689e+01</td>\n",
       "      <td>1.393623e+01</td>\n",
       "      <td>1.491691e+01</td>\n",
       "      <td>7.036863e+00</td>\n",
       "      <td>1.501284e+01</td>\n",
       "      <td>4.087665e+00</td>\n",
       "      <td>5.189327e+00</td>\n",
       "    </tr>\n",
       "  </tbody>\n",
       "</table>\n",
       "</div>"
      ],
      "text/plain": [
       "       fixed acidity  volatile acidity   citric acid  residual sugar  \\\n",
       "count   3.918000e+03      3.918000e+03  3.918000e+03    3.918000e+03   \n",
       "mean    8.782040e-16      4.134858e-16 -4.814934e-16   -3.627069e-18   \n",
       "std     1.000128e+00      1.000128e+00  1.000128e+00    1.000128e+00   \n",
       "min    -3.661512e+00     -1.957825e+00 -2.750865e+00   -1.140912e+00   \n",
       "25%    -6.749058e-01     -6.701035e-01 -5.334458e-01   -9.238168e-01   \n",
       "50%    -7.758467e-02     -1.748261e-01 -1.228126e-01   -2.478623e-01   \n",
       "75%     6.093347e-01      4.195068e-01  4.520738e-01    6.846588e-01   \n",
       "max     4.581520e+00      8.145834e+00  1.088216e+01    1.172689e+01   \n",
       "\n",
       "          chlorides  free sulfur dioxide  total sulfur dioxide       density  \\\n",
       "count  3.918000e+03         3.918000e+03          3.918000e+03  3.918000e+03   \n",
       "mean  -3.300632e-16         1.809000e-16         -1.659384e-16 -4.389025e-14   \n",
       "std    1.000128e+00         1.000128e+00          1.000128e+00  1.000128e+00   \n",
       "min   -1.706305e+00        -1.961972e+00         -2.827505e+00 -2.312140e+00   \n",
       "25%   -4.530457e-01        -7.269322e-01         -7.237298e-01 -7.656846e-01   \n",
       "50%   -1.281266e-01        -8.000637e-02         -9.259725e-02 -9.432905e-02   \n",
       "75%    1.967925e-01         6.257309e-01          6.787870e-01  6.972693e-01   \n",
       "max    1.393623e+01         1.491691e+01          7.036863e+00  1.501284e+01   \n",
       "\n",
       "                 pH     sulphates  \n",
       "count  3.918000e+03  3.918000e+03  \n",
       "mean   2.024811e-15 -6.438047e-17  \n",
       "std    1.000128e+00  1.000128e+00  \n",
       "min   -3.065585e+00 -2.368336e+00  \n",
       "25%   -7.030440e-01 -6.986197e-01  \n",
       "50%   -4.678250e-02 -1.713409e-01  \n",
       "75%    6.094790e-01  5.316974e-01  \n",
       "max    4.087665e+00  5.189327e+00  "
      ]
     },
     "execution_count": 155,
     "metadata": {},
     "output_type": "execute_result"
    }
   ],
   "source": [
    "X_train_alcohol_white_scaled.describe()"
   ]
  },
  {
   "cell_type": "code",
   "execution_count": 156,
   "metadata": {},
   "outputs": [
    {
     "data": {
      "text/html": [
       "<div>\n",
       "<style scoped>\n",
       "    .dataframe tbody tr th:only-of-type {\n",
       "        vertical-align: middle;\n",
       "    }\n",
       "\n",
       "    .dataframe tbody tr th {\n",
       "        vertical-align: top;\n",
       "    }\n",
       "\n",
       "    .dataframe thead th {\n",
       "        text-align: right;\n",
       "    }\n",
       "</style>\n",
       "<table border=\"1\" class=\"dataframe\">\n",
       "  <thead>\n",
       "    <tr style=\"text-align: right;\">\n",
       "      <th></th>\n",
       "      <th>fixed acidity</th>\n",
       "      <th>volatile acidity</th>\n",
       "      <th>citric acid</th>\n",
       "      <th>residual sugar</th>\n",
       "      <th>chlorides</th>\n",
       "      <th>free sulfur dioxide</th>\n",
       "      <th>total sulfur dioxide</th>\n",
       "      <th>density</th>\n",
       "      <th>pH</th>\n",
       "      <th>sulphates</th>\n",
       "    </tr>\n",
       "  </thead>\n",
       "  <tbody>\n",
       "    <tr>\n",
       "      <th>0</th>\n",
       "      <td>-0.016323</td>\n",
       "      <td>-1.604953</td>\n",
       "      <td>-0.179346</td>\n",
       "      <td>-0.242342</td>\n",
       "      <td>-0.035649</td>\n",
       "      <td>-0.358523</td>\n",
       "      <td>-0.386973</td>\n",
       "      <td>0.064751</td>\n",
       "      <td>1.495826</td>\n",
       "      <td>-0.270792</td>\n",
       "    </tr>\n",
       "    <tr>\n",
       "      <th>1</th>\n",
       "      <td>0.328936</td>\n",
       "      <td>-0.505719</td>\n",
       "      <td>0.499262</td>\n",
       "      <td>-0.949640</td>\n",
       "      <td>-0.600543</td>\n",
       "      <td>-1.357852</td>\n",
       "      <td>-1.720593</td>\n",
       "      <td>-1.413187</td>\n",
       "      <td>0.393846</td>\n",
       "      <td>-0.790797</td>\n",
       "    </tr>\n",
       "    <tr>\n",
       "      <th>2</th>\n",
       "      <td>-0.937015</td>\n",
       "      <td>0.593515</td>\n",
       "      <td>-0.348998</td>\n",
       "      <td>-0.065517</td>\n",
       "      <td>0.007804</td>\n",
       "      <td>-0.358523</td>\n",
       "      <td>-0.047506</td>\n",
       "      <td>0.205826</td>\n",
       "      <td>1.977942</td>\n",
       "      <td>0.682551</td>\n",
       "    </tr>\n",
       "    <tr>\n",
       "      <th>3</th>\n",
       "      <td>1.709973</td>\n",
       "      <td>1.093167</td>\n",
       "      <td>3.128867</td>\n",
       "      <td>0.818605</td>\n",
       "      <td>-0.035649</td>\n",
       "      <td>-0.123387</td>\n",
       "      <td>0.801162</td>\n",
       "      <td>1.206793</td>\n",
       "      <td>-0.708135</td>\n",
       "      <td>0.682551</td>\n",
       "    </tr>\n",
       "    <tr>\n",
       "      <th>4</th>\n",
       "      <td>-0.476669</td>\n",
       "      <td>-1.105301</td>\n",
       "      <td>-0.094520</td>\n",
       "      <td>-0.792462</td>\n",
       "      <td>0.094711</td>\n",
       "      <td>0.346886</td>\n",
       "      <td>1.552839</td>\n",
       "      <td>-0.069607</td>\n",
       "      <td>2.115690</td>\n",
       "      <td>0.075878</td>\n",
       "    </tr>\n",
       "  </tbody>\n",
       "</table>\n",
       "</div>"
      ],
      "text/plain": [
       "   fixed acidity  volatile acidity  citric acid  residual sugar  chlorides  \\\n",
       "0      -0.016323         -1.604953    -0.179346       -0.242342  -0.035649   \n",
       "1       0.328936         -0.505719     0.499262       -0.949640  -0.600543   \n",
       "2      -0.937015          0.593515    -0.348998       -0.065517   0.007804   \n",
       "3       1.709973          1.093167     3.128867        0.818605  -0.035649   \n",
       "4      -0.476669         -1.105301    -0.094520       -0.792462   0.094711   \n",
       "\n",
       "   free sulfur dioxide  total sulfur dioxide   density        pH  sulphates  \n",
       "0            -0.358523             -0.386973  0.064751  1.495826  -0.270792  \n",
       "1            -1.357852             -1.720593 -1.413187  0.393846  -0.790797  \n",
       "2            -0.358523             -0.047506  0.205826  1.977942   0.682551  \n",
       "3            -0.123387              0.801162  1.206793 -0.708135   0.682551  \n",
       "4             0.346886              1.552839 -0.069607  2.115690   0.075878  "
      ]
     },
     "execution_count": 156,
     "metadata": {},
     "output_type": "execute_result"
    }
   ],
   "source": [
    "X_test_alcohol_white_scaled = pd.DataFrame(preprocessing.StandardScaler().fit_transform(X_test_alcohol_white), columns=X_test_alcohol_white.columns.values)\n",
    "X_test_alcohol_white_scaled.head()"
   ]
  },
  {
   "cell_type": "code",
   "execution_count": 157,
   "metadata": {},
   "outputs": [
    {
     "data": {
      "text/html": [
       "<div>\n",
       "<style scoped>\n",
       "    .dataframe tbody tr th:only-of-type {\n",
       "        vertical-align: middle;\n",
       "    }\n",
       "\n",
       "    .dataframe tbody tr th {\n",
       "        vertical-align: top;\n",
       "    }\n",
       "\n",
       "    .dataframe thead th {\n",
       "        text-align: right;\n",
       "    }\n",
       "</style>\n",
       "<table border=\"1\" class=\"dataframe\">\n",
       "  <thead>\n",
       "    <tr style=\"text-align: right;\">\n",
       "      <th></th>\n",
       "      <th>fixed acidity</th>\n",
       "      <th>volatile acidity</th>\n",
       "      <th>citric acid</th>\n",
       "      <th>residual sugar</th>\n",
       "      <th>chlorides</th>\n",
       "      <th>free sulfur dioxide</th>\n",
       "      <th>total sulfur dioxide</th>\n",
       "      <th>density</th>\n",
       "      <th>pH</th>\n",
       "      <th>sulphates</th>\n",
       "    </tr>\n",
       "  </thead>\n",
       "  <tbody>\n",
       "    <tr>\n",
       "      <th>count</th>\n",
       "      <td>9.800000e+02</td>\n",
       "      <td>9.800000e+02</td>\n",
       "      <td>9.800000e+02</td>\n",
       "      <td>9.800000e+02</td>\n",
       "      <td>9.800000e+02</td>\n",
       "      <td>9.800000e+02</td>\n",
       "      <td>9.800000e+02</td>\n",
       "      <td>9.800000e+02</td>\n",
       "      <td>9.800000e+02</td>\n",
       "      <td>9.800000e+02</td>\n",
       "    </tr>\n",
       "    <tr>\n",
       "      <th>mean</th>\n",
       "      <td>6.706653e-17</td>\n",
       "      <td>-2.782355e-16</td>\n",
       "      <td>1.522592e-16</td>\n",
       "      <td>1.232574e-16</td>\n",
       "      <td>-1.812609e-16</td>\n",
       "      <td>-1.740105e-16</td>\n",
       "      <td>-2.247635e-16</td>\n",
       "      <td>-1.247075e-15</td>\n",
       "      <td>-1.196322e-15</td>\n",
       "      <td>-1.178196e-16</td>\n",
       "    </tr>\n",
       "    <tr>\n",
       "      <th>std</th>\n",
       "      <td>1.000511e+00</td>\n",
       "      <td>1.000511e+00</td>\n",
       "      <td>1.000511e+00</td>\n",
       "      <td>1.000511e+00</td>\n",
       "      <td>1.000511e+00</td>\n",
       "      <td>1.000511e+00</td>\n",
       "      <td>1.000511e+00</td>\n",
       "      <td>1.000511e+00</td>\n",
       "      <td>1.000511e+00</td>\n",
       "      <td>1.000511e+00</td>\n",
       "    </tr>\n",
       "    <tr>\n",
       "      <th>min</th>\n",
       "      <td>-2.778398e+00</td>\n",
       "      <td>-2.004674e+00</td>\n",
       "      <td>-2.808952e+00</td>\n",
       "      <td>-1.126464e+00</td>\n",
       "      <td>-1.426157e+00</td>\n",
       "      <td>-1.828124e+00</td>\n",
       "      <td>-3.078461e+00</td>\n",
       "      <td>-2.279796e+00</td>\n",
       "      <td>-2.361106e+00</td>\n",
       "      <td>-2.090810e+00</td>\n",
       "    </tr>\n",
       "    <tr>\n",
       "      <th>25%</th>\n",
       "      <td>-5.917558e-01</td>\n",
       "      <td>-7.055797e-01</td>\n",
       "      <td>-5.186504e-01</td>\n",
       "      <td>-9.496395e-01</td>\n",
       "      <td>-4.267297e-01</td>\n",
       "      <td>-6.524431e-01</td>\n",
       "      <td>-6.779443e-01</td>\n",
       "      <td>-7.951403e-01</td>\n",
       "      <td>-7.081349e-01</td>\n",
       "      <td>-7.041294e-01</td>\n",
       "    </tr>\n",
       "    <tr>\n",
       "      <th>50%</th>\n",
       "      <td>-1.314099e-01</td>\n",
       "      <td>-1.059976e-01</td>\n",
       "      <td>-9.452039e-02</td>\n",
       "      <td>-2.325181e-01</td>\n",
       "      <td>-1.660096e-01</td>\n",
       "      <td>-1.233866e-01</td>\n",
       "      <td>-9.600088e-02</td>\n",
       "      <td>-1.031969e-01</td>\n",
       "      <td>-8.827088e-02</td>\n",
       "      <td>-9.745674e-02</td>\n",
       "    </tr>\n",
       "    <tr>\n",
       "      <th>75%</th>\n",
       "      <td>5.591088e-01</td>\n",
       "      <td>4.935846e-01</td>\n",
       "      <td>4.144356e-01</td>\n",
       "      <td>7.203692e-01</td>\n",
       "      <td>1.816173e-01</td>\n",
       "      <td>5.820222e-01</td>\n",
       "      <td>6.799237e-01</td>\n",
       "      <td>6.693614e-01</td>\n",
       "      <td>6.004669e-01</td>\n",
       "      <td>4.442152e-01</td>\n",
       "    </tr>\n",
       "    <tr>\n",
       "      <th>max</th>\n",
       "      <td>8.500074e+00</td>\n",
       "      <td>5.340207e+00</td>\n",
       "      <td>5.673647e+00</td>\n",
       "      <td>3.854091e+00</td>\n",
       "      <td>9.784809e+00</td>\n",
       "      <td>6.078332e+00</td>\n",
       "      <td>3.298669e+00</td>\n",
       "      <td>3.003831e+00</td>\n",
       "      <td>4.319651e+00</td>\n",
       "      <td>4.409254e+00</td>\n",
       "    </tr>\n",
       "  </tbody>\n",
       "</table>\n",
       "</div>"
      ],
      "text/plain": [
       "       fixed acidity  volatile acidity   citric acid  residual sugar  \\\n",
       "count   9.800000e+02      9.800000e+02  9.800000e+02    9.800000e+02   \n",
       "mean    6.706653e-17     -2.782355e-16  1.522592e-16    1.232574e-16   \n",
       "std     1.000511e+00      1.000511e+00  1.000511e+00    1.000511e+00   \n",
       "min    -2.778398e+00     -2.004674e+00 -2.808952e+00   -1.126464e+00   \n",
       "25%    -5.917558e-01     -7.055797e-01 -5.186504e-01   -9.496395e-01   \n",
       "50%    -1.314099e-01     -1.059976e-01 -9.452039e-02   -2.325181e-01   \n",
       "75%     5.591088e-01      4.935846e-01  4.144356e-01    7.203692e-01   \n",
       "max     8.500074e+00      5.340207e+00  5.673647e+00    3.854091e+00   \n",
       "\n",
       "          chlorides  free sulfur dioxide  total sulfur dioxide       density  \\\n",
       "count  9.800000e+02         9.800000e+02          9.800000e+02  9.800000e+02   \n",
       "mean  -1.812609e-16        -1.740105e-16         -2.247635e-16 -1.247075e-15   \n",
       "std    1.000511e+00         1.000511e+00          1.000511e+00  1.000511e+00   \n",
       "min   -1.426157e+00        -1.828124e+00         -3.078461e+00 -2.279796e+00   \n",
       "25%   -4.267297e-01        -6.524431e-01         -6.779443e-01 -7.951403e-01   \n",
       "50%   -1.660096e-01        -1.233866e-01         -9.600088e-02 -1.031969e-01   \n",
       "75%    1.816173e-01         5.820222e-01          6.799237e-01  6.693614e-01   \n",
       "max    9.784809e+00         6.078332e+00          3.298669e+00  3.003831e+00   \n",
       "\n",
       "                 pH     sulphates  \n",
       "count  9.800000e+02  9.800000e+02  \n",
       "mean  -1.196322e-15 -1.178196e-16  \n",
       "std    1.000511e+00  1.000511e+00  \n",
       "min   -2.361106e+00 -2.090810e+00  \n",
       "25%   -7.081349e-01 -7.041294e-01  \n",
       "50%   -8.827088e-02 -9.745674e-02  \n",
       "75%    6.004669e-01  4.442152e-01  \n",
       "max    4.319651e+00  4.409254e+00  "
      ]
     },
     "execution_count": 157,
     "metadata": {},
     "output_type": "execute_result"
    }
   ],
   "source": [
    "X_test_alcohol_white_scaled.describe()"
   ]
  },
  {
   "cell_type": "markdown",
   "metadata": {},
   "source": [
    "## 2.3- SVM\n",
    "\n",
    "In the case of the simple SVM we used \"linear\" as the value for the kernel parameter. However, for kernel SVM you can use Gaussian, polynomial, sigmoid, or computable kernel. We will implement linear, polynomial, Gaussian, and sigmoid kernels to see which one works better for our problem.\n",
    "\n",
    "### 2.3.1- Linear kernel\n",
    "#### 2.3.1.1- Training the algorithm\n",
    "\n",
    "We have divided the data into training and testing sets. Now is the time to train our SVM on the training data. \n",
    "\n",
    "#### 2.3.1.1.1- Red wine"
   ]
  },
  {
   "cell_type": "code",
   "execution_count": 158,
   "metadata": {},
   "outputs": [
    {
     "data": {
      "text/plain": [
       "SVC(kernel='linear')"
      ]
     },
     "execution_count": 158,
     "metadata": {},
     "output_type": "execute_result"
    }
   ],
   "source": [
    "#  SVC class is called to train the algorithm on the training data\n",
    "alcohol_red_linear_svclassifier = SVC(kernel='linear')\n",
    "alcohol_red_linear_svclassifier.fit(X_train_alcohol_red_scaled, y_train_alcohol_red)"
   ]
  },
  {
   "cell_type": "code",
   "execution_count": 159,
   "metadata": {},
   "outputs": [
    {
     "data": {
      "text/plain": [
       "0.828125"
      ]
     },
     "execution_count": 159,
     "metadata": {},
     "output_type": "execute_result"
    }
   ],
   "source": [
    "accuracy_score(y_test_alcohol_red, alcohol_red_linear_svclassifier.predict(X_test_alcohol_red_scaled))"
   ]
  },
  {
   "cell_type": "markdown",
   "metadata": {},
   "source": [
    "#### 2.3.1.1.2- White wine"
   ]
  },
  {
   "cell_type": "code",
   "execution_count": 160,
   "metadata": {},
   "outputs": [
    {
     "data": {
      "text/plain": [
       "SVC(kernel='linear')"
      ]
     },
     "execution_count": 160,
     "metadata": {},
     "output_type": "execute_result"
    }
   ],
   "source": [
    "#  SVC class is called to train the algorithm on the training data\n",
    "alcohol_white_linear_svclassifier = SVC(kernel='linear')\n",
    "alcohol_white_linear_svclassifier.fit(X_train_alcohol_white_scaled, y_train_alcohol_white)"
   ]
  },
  {
   "cell_type": "code",
   "execution_count": 161,
   "metadata": {},
   "outputs": [
    {
     "data": {
      "text/plain": [
       "0.9377551020408164"
      ]
     },
     "execution_count": 161,
     "metadata": {},
     "output_type": "execute_result"
    }
   ],
   "source": [
    "accuracy_score(y_test_alcohol_white, alcohol_white_linear_svclassifier.predict(X_test_alcohol_white_scaled))"
   ]
  },
  {
   "cell_type": "markdown",
   "metadata": {},
   "source": [
    "#### 2.3.1.2- Making predictions\n",
    "\n",
    "##### 2.3.1.2.1- Red wine"
   ]
  },
  {
   "cell_type": "code",
   "execution_count": 165,
   "metadata": {},
   "outputs": [],
   "source": [
    "y_pred_alcohol_red_linear = alcohol_red_linear_svclassifier.predict(X_test_alcohol_red_scaled)"
   ]
  },
  {
   "cell_type": "markdown",
   "metadata": {},
   "source": [
    "##### 2.3.1.2.2- White wine"
   ]
  },
  {
   "cell_type": "code",
   "execution_count": 164,
   "metadata": {},
   "outputs": [],
   "source": [
    "y_pred_alcohol_white_linear = alcohol_white_linear_svclassifier.predict(X_test_alcohol_white_scaled)"
   ]
  },
  {
   "cell_type": "markdown",
   "metadata": {},
   "source": [
    "#### 2.3.1.3- Evaluating the algorithm\n",
    "\n",
    "##### 2.3.1.3.1- Red wine"
   ]
  },
  {
   "cell_type": "code",
   "execution_count": 166,
   "metadata": {},
   "outputs": [
    {
     "name": "stdout",
     "output_type": "stream",
     "text": [
      "[[106  38]\n",
      " [ 17 159]]\n",
      "              precision    recall  f1-score   support\n",
      "\n",
      "        high       0.86      0.74      0.79       144\n",
      "         low       0.81      0.90      0.85       176\n",
      "\n",
      "    accuracy                           0.83       320\n",
      "   macro avg       0.83      0.82      0.82       320\n",
      "weighted avg       0.83      0.83      0.83       320\n",
      "\n",
      "0.828125\n"
     ]
    }
   ],
   "source": [
    "print(confusion_matrix(y_test_alcohol_red, y_pred_alcohol_red_linear))\n",
    "print(classification_report(y_test_alcohol_red, y_pred_alcohol_red_linear))\n",
    "print(accuracy_score(y_test_alcohol_red, y_pred_alcohol_red_linear))"
   ]
  },
  {
   "cell_type": "markdown",
   "metadata": {},
   "source": [
    "##### 2.3.1.3.2- White wine"
   ]
  },
  {
   "cell_type": "code",
   "execution_count": 167,
   "metadata": {},
   "outputs": [
    {
     "name": "stdout",
     "output_type": "stream",
     "text": [
      "[[392  37]\n",
      " [ 24 527]]\n",
      "              precision    recall  f1-score   support\n",
      "\n",
      "        high       0.94      0.91      0.93       429\n",
      "         low       0.93      0.96      0.95       551\n",
      "\n",
      "    accuracy                           0.94       980\n",
      "   macro avg       0.94      0.94      0.94       980\n",
      "weighted avg       0.94      0.94      0.94       980\n",
      "\n",
      "0.9377551020408164\n"
     ]
    }
   ],
   "source": [
    "print(confusion_matrix(y_test_alcohol_white, y_pred_alcohol_white_linear))\n",
    "print(classification_report(y_test_alcohol_white, y_pred_alcohol_white_linear))\n",
    "print(accuracy_score(y_test_alcohol_white, y_pred_alcohol_white_linear))"
   ]
  },
  {
   "cell_type": "markdown",
   "metadata": {},
   "source": [
    "### 2.3.2- Polynomial kernel\n",
    "\n",
    "#### 2.3.2.1- Training the algorithm\n",
    "\n",
    "##### 2.3.2.1.1- Red wine"
   ]
  },
  {
   "cell_type": "code",
   "execution_count": 168,
   "metadata": {},
   "outputs": [
    {
     "data": {
      "text/plain": [
       "SVC(degree=8, kernel='poly')"
      ]
     },
     "execution_count": 168,
     "metadata": {},
     "output_type": "execute_result"
    }
   ],
   "source": [
    "red_alcohol_poly_svclassifier = SVC(kernel='poly', degree=8)\n",
    "red_alcohol_poly_svclassifier.fit(X_train_alcohol_red_scaled, y_train_alcohol_red)"
   ]
  },
  {
   "cell_type": "markdown",
   "metadata": {},
   "source": [
    "##### 2.3.2.1.2- White wine"
   ]
  },
  {
   "cell_type": "code",
   "execution_count": 169,
   "metadata": {},
   "outputs": [
    {
     "data": {
      "text/plain": [
       "SVC(degree=8, kernel='poly')"
      ]
     },
     "execution_count": 169,
     "metadata": {},
     "output_type": "execute_result"
    }
   ],
   "source": [
    "white_alcohol_poly_svclassifier = SVC(kernel='poly', degree=8)\n",
    "white_alcohol_poly_svclassifier.fit(X_train_alcohol_white_scaled, y_train_alcohol_white)"
   ]
  },
  {
   "cell_type": "markdown",
   "metadata": {},
   "source": [
    "#### 2.3.2.2- Making predictions\n",
    "\n",
    "##### 2.3.2.2.1- Red wine"
   ]
  },
  {
   "cell_type": "code",
   "execution_count": 170,
   "metadata": {},
   "outputs": [],
   "source": [
    "y_pred_alcohol_red_poly = red_alcohol_poly_svclassifier.predict(X_test_alcohol_red_scaled)"
   ]
  },
  {
   "cell_type": "markdown",
   "metadata": {},
   "source": [
    "##### 2.3.2.2.2- White wine"
   ]
  },
  {
   "cell_type": "code",
   "execution_count": 171,
   "metadata": {},
   "outputs": [],
   "source": [
    "y_pred_alcohol_white_poly = white_alcohol_poly_svclassifier.predict(X_test_alcohol_white_scaled)"
   ]
  },
  {
   "cell_type": "markdown",
   "metadata": {},
   "source": [
    "#### 2.3.2.3- Evaluating the algorithm\n",
    "\n",
    "##### 2.3.2.3.1- Red wine"
   ]
  },
  {
   "cell_type": "code",
   "execution_count": 172,
   "metadata": {},
   "outputs": [
    {
     "name": "stdout",
     "output_type": "stream",
     "text": [
      "[[ 41 103]\n",
      " [ 14 162]]\n",
      "              precision    recall  f1-score   support\n",
      "\n",
      "        high       0.75      0.28      0.41       144\n",
      "         low       0.61      0.92      0.73       176\n",
      "\n",
      "    accuracy                           0.63       320\n",
      "   macro avg       0.68      0.60      0.57       320\n",
      "weighted avg       0.67      0.63      0.59       320\n",
      "\n",
      "0.634375\n"
     ]
    }
   ],
   "source": [
    "print(confusion_matrix(y_test_alcohol_red, y_pred_alcohol_red_poly))\n",
    "print(classification_report(y_test_alcohol_red, y_pred_alcohol_red_poly))\n",
    "print(accuracy_score(y_test_alcohol_red, y_pred_alcohol_red_poly))"
   ]
  },
  {
   "cell_type": "markdown",
   "metadata": {},
   "source": [
    "##### 2..2.3.2- White wine"
   ]
  },
  {
   "cell_type": "code",
   "execution_count": 174,
   "metadata": {},
   "outputs": [
    {
     "name": "stdout",
     "output_type": "stream",
     "text": [
      "[[370  59]\n",
      " [151 400]]\n",
      "              precision    recall  f1-score   support\n",
      "\n",
      "        high       0.71      0.86      0.78       429\n",
      "         low       0.87      0.73      0.79       551\n",
      "\n",
      "    accuracy                           0.79       980\n",
      "   macro avg       0.79      0.79      0.79       980\n",
      "weighted avg       0.80      0.79      0.79       980\n",
      "\n",
      "0.7857142857142857\n"
     ]
    }
   ],
   "source": [
    "print(confusion_matrix(y_test_alcohol_white, y_pred_alcohol_white_poly))\n",
    "print(classification_report(y_test_alcohol_white, y_pred_alcohol_white_poly))\n",
    "print(accuracy_score(y_test_alcohol_white, y_pred_alcohol_white_poly))"
   ]
  },
  {
   "cell_type": "markdown",
   "metadata": {},
   "source": [
    "### 2.3.3- Gaussian kernel\n",
    "\n",
    "#### 2.3.3.1- Training the algorithm\n",
    "\n",
    "##### 2.3.3.1.1- Red wine"
   ]
  },
  {
   "cell_type": "code",
   "execution_count": 175,
   "metadata": {},
   "outputs": [
    {
     "data": {
      "text/plain": [
       "SVC()"
      ]
     },
     "execution_count": 175,
     "metadata": {},
     "output_type": "execute_result"
    }
   ],
   "source": [
    "red_alcohol_gaussian_svclassifier = SVC(kernel='rbf')\n",
    "red_alcohol_gaussian_svclassifier.fit(X_train_alcohol_red_scaled, y_train_alcohol_red)"
   ]
  },
  {
   "cell_type": "markdown",
   "metadata": {},
   "source": [
    "##### 2.3.3.1.2- White wine"
   ]
  },
  {
   "cell_type": "code",
   "execution_count": 177,
   "metadata": {},
   "outputs": [
    {
     "data": {
      "text/plain": [
       "SVC()"
      ]
     },
     "execution_count": 177,
     "metadata": {},
     "output_type": "execute_result"
    }
   ],
   "source": [
    "white_alcohol_gaussian_svclassifier = SVC(kernel='rbf')\n",
    "white_alcohol_gaussian_svclassifier.fit(X_train_alcohol_white_scaled, y_train_alcohol_white)"
   ]
  },
  {
   "cell_type": "markdown",
   "metadata": {},
   "source": [
    "#### 2.3.3.2- Making prediction\n",
    "\n",
    "##### 2.3.3.2.1- Red wine"
   ]
  },
  {
   "cell_type": "code",
   "execution_count": 178,
   "metadata": {},
   "outputs": [],
   "source": [
    "y_pred_alcohol_red_gaussian= red_alcohol_gaussian_svclassifier.predict(X_test_alcohol_red_scaled)"
   ]
  },
  {
   "cell_type": "markdown",
   "metadata": {},
   "source": [
    "##### 2.3.3.2.2- White wine"
   ]
  },
  {
   "cell_type": "code",
   "execution_count": 179,
   "metadata": {},
   "outputs": [],
   "source": [
    "y_pred_alcohol_white_gaussian= red_alcohol_gaussian_svclassifier.predict(X_test_alcohol_white_scaled)"
   ]
  },
  {
   "cell_type": "markdown",
   "metadata": {},
   "source": [
    "#### 2.3.3.3- Evaluating the algorithm\n",
    "\n",
    "##### 2.3.3.3.1- Red wine"
   ]
  },
  {
   "cell_type": "code",
   "execution_count": 180,
   "metadata": {},
   "outputs": [
    {
     "name": "stdout",
     "output_type": "stream",
     "text": [
      "[[111  33]\n",
      " [ 13 163]]\n",
      "              precision    recall  f1-score   support\n",
      "\n",
      "        high       0.90      0.77      0.83       144\n",
      "         low       0.83      0.93      0.88       176\n",
      "\n",
      "    accuracy                           0.86       320\n",
      "   macro avg       0.86      0.85      0.85       320\n",
      "weighted avg       0.86      0.86      0.85       320\n",
      "\n",
      "0.85625\n"
     ]
    }
   ],
   "source": [
    "print(confusion_matrix(y_test_alcohol_red, y_pred_alcohol_red_gaussian))\n",
    "print(classification_report(y_test_alcohol_red, y_pred_alcohol_red_gaussian))\n",
    "print(accuracy_score(y_test_alcohol_red, y_pred_alcohol_red_gaussian))"
   ]
  },
  {
   "cell_type": "markdown",
   "metadata": {},
   "source": [
    "##### 2.3.3.3.2- White wine"
   ]
  },
  {
   "cell_type": "code",
   "execution_count": 181,
   "metadata": {},
   "outputs": [
    {
     "name": "stdout",
     "output_type": "stream",
     "text": [
      "[[291 138]\n",
      " [ 95 456]]\n",
      "              precision    recall  f1-score   support\n",
      "\n",
      "        high       0.75      0.68      0.71       429\n",
      "         low       0.77      0.83      0.80       551\n",
      "\n",
      "    accuracy                           0.76       980\n",
      "   macro avg       0.76      0.75      0.76       980\n",
      "weighted avg       0.76      0.76      0.76       980\n",
      "\n",
      "0.7622448979591837\n"
     ]
    }
   ],
   "source": [
    "print(confusion_matrix(y_test_alcohol_white, y_pred_alcohol_white_gaussian))\n",
    "print(classification_report(y_test_alcohol_white, y_pred_alcohol_white_gaussian))\n",
    "print(accuracy_score(y_test_alcohol_white, y_pred_alcohol_white_gaussian))"
   ]
  },
  {
   "cell_type": "markdown",
   "metadata": {},
   "source": [
    "### 2.3.4- Sigmoid kernel\n",
    "\n",
    "#### 2.3.4.1- Training the algorithm\n",
    "\n",
    "##### 2.3.4.1.1- Red wine"
   ]
  },
  {
   "cell_type": "code",
   "execution_count": 182,
   "metadata": {},
   "outputs": [
    {
     "data": {
      "text/plain": [
       "SVC(kernel='sigmoid')"
      ]
     },
     "execution_count": 182,
     "metadata": {},
     "output_type": "execute_result"
    }
   ],
   "source": [
    "red_alcohol_sigmoid_svclassifier = SVC(kernel='sigmoid')\n",
    "red_alcohol_sigmoid_svclassifier.fit(X_train_alcohol_red_scaled, y_train_alcohol_red)"
   ]
  },
  {
   "cell_type": "markdown",
   "metadata": {},
   "source": [
    "##### 2.3.4.1.2- White wine"
   ]
  },
  {
   "cell_type": "code",
   "execution_count": 185,
   "metadata": {},
   "outputs": [
    {
     "data": {
      "text/plain": [
       "SVC(kernel='sigmoid')"
      ]
     },
     "execution_count": 185,
     "metadata": {},
     "output_type": "execute_result"
    }
   ],
   "source": [
    "white_alcohol_sigmoid_svclassifier = SVC(kernel='sigmoid')\n",
    "white_alcohol_sigmoid_svclassifier.fit(X_train_alcohol_white_scaled, y_train_alcohol_white)"
   ]
  },
  {
   "cell_type": "markdown",
   "metadata": {},
   "source": [
    "#### 2.3.4.2- Making prediction\n",
    "\n",
    "##### 2.3.4.2.1- Red wine"
   ]
  },
  {
   "cell_type": "code",
   "execution_count": 184,
   "metadata": {},
   "outputs": [],
   "source": [
    "y_pred_alcohol_red_sigmoid= red_alcohol_sigmoid_svclassifier.predict(X_test_alcohol_red_scaled)"
   ]
  },
  {
   "cell_type": "markdown",
   "metadata": {},
   "source": [
    "##### 2.3.4.2.2- White wine"
   ]
  },
  {
   "cell_type": "code",
   "execution_count": 186,
   "metadata": {},
   "outputs": [],
   "source": [
    "y_pred_alcohol_white_sigmoid= white_alcohol_sigmoid_svclassifier.predict(X_test_alcohol_white_scaled)"
   ]
  },
  {
   "cell_type": "markdown",
   "metadata": {},
   "source": [
    "#### 2.3.4.3- Evaluating the algorithm\n",
    "\n",
    "##### 2.3.4.3.1- Red wine"
   ]
  },
  {
   "cell_type": "code",
   "execution_count": 188,
   "metadata": {},
   "outputs": [
    {
     "name": "stdout",
     "output_type": "stream",
     "text": [
      "[[ 94  50]\n",
      " [ 44 132]]\n",
      "              precision    recall  f1-score   support\n",
      "\n",
      "        high       0.68      0.65      0.67       144\n",
      "         low       0.73      0.75      0.74       176\n",
      "\n",
      "    accuracy                           0.71       320\n",
      "   macro avg       0.70      0.70      0.70       320\n",
      "weighted avg       0.71      0.71      0.71       320\n",
      "\n",
      "0.70625\n"
     ]
    }
   ],
   "source": [
    "print(confusion_matrix(y_test_alcohol_red, y_pred_alcohol_red_sigmoid))\n",
    "print(classification_report(y_test_alcohol_red, y_pred_alcohol_red_sigmoid))\n",
    "print(accuracy_score(y_test_alcohol_red, y_pred_alcohol_red_sigmoid))"
   ]
  },
  {
   "cell_type": "markdown",
   "metadata": {},
   "source": [
    "##### 2.3.4.3.2- White wine"
   ]
  },
  {
   "cell_type": "code",
   "execution_count": 189,
   "metadata": {},
   "outputs": [
    {
     "name": "stdout",
     "output_type": "stream",
     "text": [
      "[[344  85]\n",
      " [ 88 463]]\n",
      "              precision    recall  f1-score   support\n",
      "\n",
      "        high       0.80      0.80      0.80       429\n",
      "         low       0.84      0.84      0.84       551\n",
      "\n",
      "    accuracy                           0.82       980\n",
      "   macro avg       0.82      0.82      0.82       980\n",
      "weighted avg       0.82      0.82      0.82       980\n",
      "\n",
      "0.823469387755102\n"
     ]
    }
   ],
   "source": [
    "print(confusion_matrix(y_test_alcohol_white, y_pred_alcohol_white_sigmoid))\n",
    "print(classification_report(y_test_alcohol_white, y_pred_alcohol_white_sigmoid))\n",
    "print(accuracy_score(y_test_alcohol_white, y_pred_alcohol_white_sigmoid))"
   ]
  },
  {
   "cell_type": "markdown",
   "metadata": {},
   "source": [
    "## 2.4- Decision Tree\n",
    "\n",
    "A decision tree is one of most frequently and widely used supervised machine learning algorithms that can perform both regression and classification tasks. The intuition behind the decision tree algorithm is simple, yet also very powerful.\n",
    "\n",
    "For each attribute in the dataset, the decision tree algorithm forms a node, where the most important attribute is placed at the root node. For evaluation we start at the root node and work our way down the tree by following the corresponding node that meets our condition or \"decision\". This process continues until a leaf node is reached, which contains the prediction or the outcome of the decision tree.\n",
    "\n",
    "There are several advantages of using decision treess for predictive analysis:\n",
    "\n",
    "1- Decision trees can be used to predict both continuous and discrete values i.e. they work well for both regression and classification tasks.\n",
    "\n",
    "2- They require relatively less effort for training the algorithm.\n",
    "\n",
    "3- They can be used to classify non-linearly separable data.\n",
    "\n",
    "4- They're very fast and efficient compared to KNN and other classification algorithms.\n",
    "\n",
    "### 2.4.1- Training the algorithm\n",
    "\n",
    "#### 2.4.1.1- Red wine"
   ]
  },
  {
   "cell_type": "code",
   "execution_count": 192,
   "metadata": {},
   "outputs": [
    {
     "data": {
      "text/plain": [
       "DecisionTreeClassifier()"
      ]
     },
     "execution_count": 192,
     "metadata": {},
     "output_type": "execute_result"
    }
   ],
   "source": [
    "red_alcohol_tree_classifier = DecisionTreeClassifier()\n",
    "red_alcohol_tree_classifier.fit(X_train_alcohol_red_scaled, y_train_alcohol_red)"
   ]
  },
  {
   "cell_type": "markdown",
   "metadata": {},
   "source": [
    "#### 2.4.2.2- White wine"
   ]
  },
  {
   "cell_type": "code",
   "execution_count": 193,
   "metadata": {},
   "outputs": [
    {
     "data": {
      "text/plain": [
       "DecisionTreeClassifier()"
      ]
     },
     "execution_count": 193,
     "metadata": {},
     "output_type": "execute_result"
    }
   ],
   "source": [
    "white_alcohol_tree_classifier = DecisionTreeClassifier()\n",
    "white_alcohol_tree_classifier.fit(X_train_alcohol_white_scaled, y_train_alcohol_white)"
   ]
  },
  {
   "cell_type": "markdown",
   "metadata": {},
   "source": [
    "### 2.3.2- Making prediction\n",
    "\n",
    "#### 2.3.2.1- Red wine"
   ]
  },
  {
   "cell_type": "code",
   "execution_count": 194,
   "metadata": {},
   "outputs": [
    {
     "data": {
      "text/html": [
       "<div>\n",
       "<style scoped>\n",
       "    .dataframe tbody tr th:only-of-type {\n",
       "        vertical-align: middle;\n",
       "    }\n",
       "\n",
       "    .dataframe tbody tr th {\n",
       "        vertical-align: top;\n",
       "    }\n",
       "\n",
       "    .dataframe thead th {\n",
       "        text-align: right;\n",
       "    }\n",
       "</style>\n",
       "<table border=\"1\" class=\"dataframe\">\n",
       "  <thead>\n",
       "    <tr style=\"text-align: right;\">\n",
       "      <th></th>\n",
       "      <th>Actual</th>\n",
       "      <th>Predicted</th>\n",
       "    </tr>\n",
       "  </thead>\n",
       "  <tbody>\n",
       "    <tr>\n",
       "      <th>188</th>\n",
       "      <td>low</td>\n",
       "      <td>low</td>\n",
       "    </tr>\n",
       "    <tr>\n",
       "      <th>1263</th>\n",
       "      <td>low</td>\n",
       "      <td>low</td>\n",
       "    </tr>\n",
       "    <tr>\n",
       "      <th>1336</th>\n",
       "      <td>low</td>\n",
       "      <td>low</td>\n",
       "    </tr>\n",
       "    <tr>\n",
       "      <th>1471</th>\n",
       "      <td>high</td>\n",
       "      <td>high</td>\n",
       "    </tr>\n",
       "    <tr>\n",
       "      <th>1361</th>\n",
       "      <td>low</td>\n",
       "      <td>low</td>\n",
       "    </tr>\n",
       "    <tr>\n",
       "      <th>...</th>\n",
       "      <td>...</td>\n",
       "      <td>...</td>\n",
       "    </tr>\n",
       "    <tr>\n",
       "      <th>1423</th>\n",
       "      <td>high</td>\n",
       "      <td>low</td>\n",
       "    </tr>\n",
       "    <tr>\n",
       "      <th>144</th>\n",
       "      <td>high</td>\n",
       "      <td>high</td>\n",
       "    </tr>\n",
       "    <tr>\n",
       "      <th>797</th>\n",
       "      <td>high</td>\n",
       "      <td>low</td>\n",
       "    </tr>\n",
       "    <tr>\n",
       "      <th>1346</th>\n",
       "      <td>high</td>\n",
       "      <td>high</td>\n",
       "    </tr>\n",
       "    <tr>\n",
       "      <th>63</th>\n",
       "      <td>low</td>\n",
       "      <td>low</td>\n",
       "    </tr>\n",
       "  </tbody>\n",
       "</table>\n",
       "<p>320 rows × 2 columns</p>\n",
       "</div>"
      ],
      "text/plain": [
       "     Actual Predicted\n",
       "188     low       low\n",
       "1263    low       low\n",
       "1336    low       low\n",
       "1471   high      high\n",
       "1361    low       low\n",
       "...     ...       ...\n",
       "1423   high       low\n",
       "144    high      high\n",
       "797    high       low\n",
       "1346   high      high\n",
       "63      low       low\n",
       "\n",
       "[320 rows x 2 columns]"
      ]
     },
     "execution_count": 194,
     "metadata": {},
     "output_type": "execute_result"
    }
   ],
   "source": [
    "y_pred_alcohol_red_tree = red_alcohol_tree_classifier.predict(X_test_alcohol_red_scaled)\n",
    "df_alcohol = pd.DataFrame({'Actual':y_test_alcohol_red, 'Predicted':y_pred_alcohol_red_tree})\n",
    "df_alcohol"
   ]
  },
  {
   "cell_type": "markdown",
   "metadata": {},
   "source": [
    "#### 2.4.2.2- White wine"
   ]
  },
  {
   "cell_type": "code",
   "execution_count": 195,
   "metadata": {},
   "outputs": [
    {
     "data": {
      "text/html": [
       "<div>\n",
       "<style scoped>\n",
       "    .dataframe tbody tr th:only-of-type {\n",
       "        vertical-align: middle;\n",
       "    }\n",
       "\n",
       "    .dataframe tbody tr th {\n",
       "        vertical-align: top;\n",
       "    }\n",
       "\n",
       "    .dataframe thead th {\n",
       "        text-align: right;\n",
       "    }\n",
       "</style>\n",
       "<table border=\"1\" class=\"dataframe\">\n",
       "  <thead>\n",
       "    <tr style=\"text-align: right;\">\n",
       "      <th></th>\n",
       "      <th>Actual</th>\n",
       "      <th>Predicted</th>\n",
       "    </tr>\n",
       "  </thead>\n",
       "  <tbody>\n",
       "    <tr>\n",
       "      <th>770</th>\n",
       "      <td>low</td>\n",
       "      <td>low</td>\n",
       "    </tr>\n",
       "    <tr>\n",
       "      <th>491</th>\n",
       "      <td>high</td>\n",
       "      <td>high</td>\n",
       "    </tr>\n",
       "    <tr>\n",
       "      <th>4826</th>\n",
       "      <td>high</td>\n",
       "      <td>low</td>\n",
       "    </tr>\n",
       "    <tr>\n",
       "      <th>296</th>\n",
       "      <td>low</td>\n",
       "      <td>low</td>\n",
       "    </tr>\n",
       "    <tr>\n",
       "      <th>226</th>\n",
       "      <td>low</td>\n",
       "      <td>low</td>\n",
       "    </tr>\n",
       "    <tr>\n",
       "      <th>...</th>\n",
       "      <td>...</td>\n",
       "      <td>...</td>\n",
       "    </tr>\n",
       "    <tr>\n",
       "      <th>3450</th>\n",
       "      <td>high</td>\n",
       "      <td>high</td>\n",
       "    </tr>\n",
       "    <tr>\n",
       "      <th>3212</th>\n",
       "      <td>high</td>\n",
       "      <td>high</td>\n",
       "    </tr>\n",
       "    <tr>\n",
       "      <th>4488</th>\n",
       "      <td>high</td>\n",
       "      <td>high</td>\n",
       "    </tr>\n",
       "    <tr>\n",
       "      <th>3307</th>\n",
       "      <td>high</td>\n",
       "      <td>high</td>\n",
       "    </tr>\n",
       "    <tr>\n",
       "      <th>4896</th>\n",
       "      <td>high</td>\n",
       "      <td>high</td>\n",
       "    </tr>\n",
       "  </tbody>\n",
       "</table>\n",
       "<p>980 rows × 2 columns</p>\n",
       "</div>"
      ],
      "text/plain": [
       "     Actual Predicted\n",
       "770     low       low\n",
       "491    high      high\n",
       "4826   high       low\n",
       "296     low       low\n",
       "226     low       low\n",
       "...     ...       ...\n",
       "3450   high      high\n",
       "3212   high      high\n",
       "4488   high      high\n",
       "3307   high      high\n",
       "4896   high      high\n",
       "\n",
       "[980 rows x 2 columns]"
      ]
     },
     "execution_count": 195,
     "metadata": {},
     "output_type": "execute_result"
    }
   ],
   "source": [
    "y_pred_alcohol_white_tree = white_alcohol_tree_classifier.predict(X_test_alcohol_white_scaled)\n",
    "df_alcohol = pd.DataFrame({'Actual':y_test_alcohol_white, 'Predicted':y_pred_alcohol_white_tree})\n",
    "df_alcohol"
   ]
  },
  {
   "cell_type": "markdown",
   "metadata": {},
   "source": [
    "### 2.4.3-  Evaluating the algorithm\n",
    "\n",
    "#### 2.4.3.1- Red wine"
   ]
  },
  {
   "cell_type": "code",
   "execution_count": 196,
   "metadata": {},
   "outputs": [
    {
     "name": "stdout",
     "output_type": "stream",
     "text": [
      "[[107  37]\n",
      " [ 28 148]]\n",
      "              precision    recall  f1-score   support\n",
      "\n",
      "        high       0.79      0.74      0.77       144\n",
      "         low       0.80      0.84      0.82       176\n",
      "\n",
      "    accuracy                           0.80       320\n",
      "   macro avg       0.80      0.79      0.79       320\n",
      "weighted avg       0.80      0.80      0.80       320\n",
      "\n",
      "0.796875\n"
     ]
    }
   ],
   "source": [
    "print(confusion_matrix(y_test_alcohol_red, y_pred_alcohol_red_tree))\n",
    "print(classification_report(y_test_alcohol_red, y_pred_alcohol_red_tree))\n",
    "print(accuracy_score(y_test_alcohol_red, y_pred_alcohol_red_tree))"
   ]
  },
  {
   "cell_type": "markdown",
   "metadata": {},
   "source": [
    "#### 2.4.3.2- White wine"
   ]
  },
  {
   "cell_type": "code",
   "execution_count": 197,
   "metadata": {},
   "outputs": [
    {
     "name": "stdout",
     "output_type": "stream",
     "text": [
      "[[387  42]\n",
      " [ 42 509]]\n",
      "              precision    recall  f1-score   support\n",
      "\n",
      "        high       0.90      0.90      0.90       429\n",
      "         low       0.92      0.92      0.92       551\n",
      "\n",
      "    accuracy                           0.91       980\n",
      "   macro avg       0.91      0.91      0.91       980\n",
      "weighted avg       0.91      0.91      0.91       980\n",
      "\n",
      "0.9142857142857143\n"
     ]
    }
   ],
   "source": [
    "print(confusion_matrix(y_test_alcohol_white, y_pred_alcohol_white_tree))\n",
    "print(classification_report(y_test_alcohol_white, y_pred_alcohol_white_tree))\n",
    "print(accuracy_score(y_test_alcohol_white, y_pred_alcohol_white_tree))"
   ]
  },
  {
   "cell_type": "markdown",
   "metadata": {},
   "source": [
    "## 2.5- Random Forest\n",
    "\n",
    "### 2.5.1- Red wine\n"
   ]
  },
  {
   "cell_type": "code",
   "execution_count": 198,
   "metadata": {},
   "outputs": [
    {
     "name": "stdout",
     "output_type": "stream",
     "text": [
      "0.884375\n"
     ]
    }
   ],
   "source": [
    "rf_alcohol_clf = RandomForestClassifier(random_state=0)\n",
    "rf_alcohol_clf.fit(X_train_alcohol_red_scaled, y_train_alcohol_red)\n",
    "print(accuracy_score(y_test_alcohol_red, rf_alcohol_clf.predict(X_test_alcohol_red_scaled)))"
   ]
  },
  {
   "cell_type": "markdown",
   "metadata": {},
   "source": []
  },
  {
   "cell_type": "code",
   "execution_count": null,
   "metadata": {},
   "outputs": [],
   "source": [
    "rf_alcohol_clf = RandomForestClassifier(random_state=0)\n",
    "rf_alcohol_clf.fit(X_train_alcohol_white_scaled, y_train_alcohol_white)\n",
    "print(accuracy_score(y_test_alcohol_white, rf_alcohol_clf.predict(X_test_alcohol_white_scaled)))"
   ]
  }
 ],
 "metadata": {
  "kernelspec": {
   "display_name": "Python 3",
   "language": "python",
   "name": "python3"
  },
  "language_info": {
   "codemirror_mode": {
    "name": "ipython",
    "version": 3
   },
   "file_extension": ".py",
   "mimetype": "text/x-python",
   "name": "python",
   "nbconvert_exporter": "python",
   "pygments_lexer": "ipython3",
   "version": "3.7.6"
  }
 },
 "nbformat": 4,
 "nbformat_minor": 4
}
